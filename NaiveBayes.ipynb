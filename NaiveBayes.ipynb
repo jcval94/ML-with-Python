{
 "cells": [
  {
   "cell_type": "code",
   "execution_count": 2,
   "metadata": {
    "collapsed": false
   },
   "outputs": [],
   "source": [
    "from __future__ import division\n",
    "import pandas as pd\n",
    "import seaborn as sns\n",
    "import numpy as np\n",
    "from sklearn.model_selection import train_test_split\n",
    "from sklearn.metrics import roc_auc_score,accuracy_score\n",
    "from sklearn.svm import SVC\n",
    "from sklearn.model_selection import RandomizedSearchCV\n",
    "from sklearn.preprocessing import MinMaxScaler\n",
    "from sklearn.model_selection import RandomizedSearchCV,GridSearchCV\n",
    "from sklearn.preprocessing import Imputer\n",
    "from sklearn.naive_bayes import GaussianNB\n",
    "\n",
    "pd.set_option('display.max_columns',500)\n",
    "pd.set_option('display.max_colwidth',-1)\n",
    "%matplotlib inline\n"
   ]
  },
  {
   "cell_type": "code",
   "execution_count": 3,
   "metadata": {
    "collapsed": true
   },
   "outputs": [],
   "source": [
    "df = pd.read_csv('C:/Users/cody8/Desktop/Documentos/Escuela/AMV/parcial 3 y 4/entrenar2.csv')"
   ]
  },
  {
   "cell_type": "code",
   "execution_count": 4,
   "metadata": {
    "collapsed": false
   },
   "outputs": [
    {
     "data": {
      "text/html": [
       "<div>\n",
       "<table border=\"1\" class=\"dataframe\">\n",
       "  <thead>\n",
       "    <tr style=\"text-align: right;\">\n",
       "      <th></th>\n",
       "      <th>Cuadrante</th>\n",
       "      <th>c_Total de crimenes</th>\n",
       "      <th>c_HOMICIDIO_DOLOSO</th>\n",
       "      <th>c_LESIONES_POR_ARMA_DE_FUEGO</th>\n",
       "      <th>c_ROBO_A_BORDO_DE_METRO_CV</th>\n",
       "      <th>c_ROBO_A_BORDO_DE_MICROBUS_CV</th>\n",
       "      <th>c_ROBO_A_BORDO_DE_MICROBUS_SV</th>\n",
       "      <th>c_ROBO_A_BORDO_DE_TAXI_CV</th>\n",
       "      <th>c_ROBO_A_CASA_HABITACION_CV</th>\n",
       "      <th>c_ROBO_A_CUENTAHABIENTE_CV</th>\n",
       "      <th>c_ROBO_A_NEGOCIO_CV</th>\n",
       "      <th>c_ROBO_A_REPARTIDOR_CV</th>\n",
       "      <th>c_ROBO_A_REPARTIDOR_SV</th>\n",
       "      <th>c_ROBO_A_TRANSEUNTE_CV</th>\n",
       "      <th>c_ROBO_A_TRANSEUNTE_SV</th>\n",
       "      <th>c_ROBO_A_TRANSPORTISTA_CV</th>\n",
       "      <th>c_ROBO_A_TRANSPORTISTA_SV</th>\n",
       "      <th>c_ROBO_DE_VEHICULO_AUTOMOTOR_CV</th>\n",
       "      <th>c_ROBO_DE_VEHICULO_AUTOMOTOR_SV</th>\n",
       "      <th>c_VIOLACION</th>\n",
       "      <th>obj</th>\n",
       "    </tr>\n",
       "  </thead>\n",
       "  <tbody>\n",
       "    <tr>\n",
       "      <th>0</th>\n",
       "      <td>1</td>\n",
       "      <td>205</td>\n",
       "      <td>6</td>\n",
       "      <td>1</td>\n",
       "      <td>0</td>\n",
       "      <td>19</td>\n",
       "      <td>0</td>\n",
       "      <td>1</td>\n",
       "      <td>4</td>\n",
       "      <td>1</td>\n",
       "      <td>24</td>\n",
       "      <td>4</td>\n",
       "      <td>1</td>\n",
       "      <td>29</td>\n",
       "      <td>2</td>\n",
       "      <td>1</td>\n",
       "      <td>0</td>\n",
       "      <td>48</td>\n",
       "      <td>62</td>\n",
       "      <td>2</td>\n",
       "      <td>0</td>\n",
       "    </tr>\n",
       "    <tr>\n",
       "      <th>1</th>\n",
       "      <td>2</td>\n",
       "      <td>41</td>\n",
       "      <td>1</td>\n",
       "      <td>0</td>\n",
       "      <td>0</td>\n",
       "      <td>1</td>\n",
       "      <td>1</td>\n",
       "      <td>1</td>\n",
       "      <td>1</td>\n",
       "      <td>0</td>\n",
       "      <td>13</td>\n",
       "      <td>0</td>\n",
       "      <td>1</td>\n",
       "      <td>2</td>\n",
       "      <td>0</td>\n",
       "      <td>0</td>\n",
       "      <td>0</td>\n",
       "      <td>9</td>\n",
       "      <td>10</td>\n",
       "      <td>1</td>\n",
       "      <td>0</td>\n",
       "    </tr>\n",
       "    <tr>\n",
       "      <th>2</th>\n",
       "      <td>3</td>\n",
       "      <td>140</td>\n",
       "      <td>1</td>\n",
       "      <td>3</td>\n",
       "      <td>0</td>\n",
       "      <td>3</td>\n",
       "      <td>0</td>\n",
       "      <td>1</td>\n",
       "      <td>4</td>\n",
       "      <td>4</td>\n",
       "      <td>15</td>\n",
       "      <td>9</td>\n",
       "      <td>3</td>\n",
       "      <td>34</td>\n",
       "      <td>0</td>\n",
       "      <td>0</td>\n",
       "      <td>0</td>\n",
       "      <td>17</td>\n",
       "      <td>46</td>\n",
       "      <td>0</td>\n",
       "      <td>0</td>\n",
       "    </tr>\n",
       "    <tr>\n",
       "      <th>3</th>\n",
       "      <td>4</td>\n",
       "      <td>107</td>\n",
       "      <td>10</td>\n",
       "      <td>5</td>\n",
       "      <td>0</td>\n",
       "      <td>2</td>\n",
       "      <td>0</td>\n",
       "      <td>0</td>\n",
       "      <td>4</td>\n",
       "      <td>0</td>\n",
       "      <td>4</td>\n",
       "      <td>20</td>\n",
       "      <td>3</td>\n",
       "      <td>32</td>\n",
       "      <td>1</td>\n",
       "      <td>0</td>\n",
       "      <td>0</td>\n",
       "      <td>10</td>\n",
       "      <td>12</td>\n",
       "      <td>4</td>\n",
       "      <td>0</td>\n",
       "    </tr>\n",
       "    <tr>\n",
       "      <th>4</th>\n",
       "      <td>5</td>\n",
       "      <td>109</td>\n",
       "      <td>2</td>\n",
       "      <td>1</td>\n",
       "      <td>0</td>\n",
       "      <td>3</td>\n",
       "      <td>0</td>\n",
       "      <td>2</td>\n",
       "      <td>1</td>\n",
       "      <td>1</td>\n",
       "      <td>19</td>\n",
       "      <td>6</td>\n",
       "      <td>1</td>\n",
       "      <td>16</td>\n",
       "      <td>1</td>\n",
       "      <td>3</td>\n",
       "      <td>0</td>\n",
       "      <td>21</td>\n",
       "      <td>30</td>\n",
       "      <td>2</td>\n",
       "      <td>0</td>\n",
       "    </tr>\n",
       "  </tbody>\n",
       "</table>\n",
       "</div>"
      ],
      "text/plain": [
       "   Cuadrante  c_Total de crimenes  c_HOMICIDIO_DOLOSO  \\\n",
       "0  1          205                  6                    \n",
       "1  2          41                   1                    \n",
       "2  3          140                  1                    \n",
       "3  4          107                  10                   \n",
       "4  5          109                  2                    \n",
       "\n",
       "   c_LESIONES_POR_ARMA_DE_FUEGO  c_ROBO_A_BORDO_DE_METRO_CV  \\\n",
       "0  1                             0                            \n",
       "1  0                             0                            \n",
       "2  3                             0                            \n",
       "3  5                             0                            \n",
       "4  1                             0                            \n",
       "\n",
       "   c_ROBO_A_BORDO_DE_MICROBUS_CV  c_ROBO_A_BORDO_DE_MICROBUS_SV  \\\n",
       "0  19                             0                               \n",
       "1  1                              1                               \n",
       "2  3                              0                               \n",
       "3  2                              0                               \n",
       "4  3                              0                               \n",
       "\n",
       "   c_ROBO_A_BORDO_DE_TAXI_CV  c_ROBO_A_CASA_HABITACION_CV  \\\n",
       "0  1                          4                             \n",
       "1  1                          1                             \n",
       "2  1                          4                             \n",
       "3  0                          4                             \n",
       "4  2                          1                             \n",
       "\n",
       "   c_ROBO_A_CUENTAHABIENTE_CV  c_ROBO_A_NEGOCIO_CV  c_ROBO_A_REPARTIDOR_CV  \\\n",
       "0  1                           24                   4                        \n",
       "1  0                           13                   0                        \n",
       "2  4                           15                   9                        \n",
       "3  0                           4                    20                       \n",
       "4  1                           19                   6                        \n",
       "\n",
       "   c_ROBO_A_REPARTIDOR_SV  c_ROBO_A_TRANSEUNTE_CV  c_ROBO_A_TRANSEUNTE_SV  \\\n",
       "0  1                       29                      2                        \n",
       "1  1                       2                       0                        \n",
       "2  3                       34                      0                        \n",
       "3  3                       32                      1                        \n",
       "4  1                       16                      1                        \n",
       "\n",
       "   c_ROBO_A_TRANSPORTISTA_CV  c_ROBO_A_TRANSPORTISTA_SV  \\\n",
       "0  1                          0                           \n",
       "1  0                          0                           \n",
       "2  0                          0                           \n",
       "3  0                          0                           \n",
       "4  3                          0                           \n",
       "\n",
       "   c_ROBO_DE_VEHICULO_AUTOMOTOR_CV  c_ROBO_DE_VEHICULO_AUTOMOTOR_SV  \\\n",
       "0  48                               62                                \n",
       "1  9                                10                                \n",
       "2  17                               46                                \n",
       "3  10                               12                                \n",
       "4  21                               30                                \n",
       "\n",
       "   c_VIOLACION  obj  \n",
       "0  2            0    \n",
       "1  1            0    \n",
       "2  0            0    \n",
       "3  4            0    \n",
       "4  2            0    "
      ]
     },
     "execution_count": 4,
     "metadata": {},
     "output_type": "execute_result"
    }
   ],
   "source": [
    "df.head()"
   ]
  },
  {
   "cell_type": "code",
   "execution_count": 5,
   "metadata": {
    "collapsed": false
   },
   "outputs": [
    {
     "name": "stdout",
     "output_type": "stream",
     "text": [
      "19\n",
      "0\n"
     ]
    }
   ],
   "source": [
    "var_disc = [x for x in df.columns if x.startswith('d_')]\n",
    "var_cont = [x for x in df.columns if x.startswith('c_')]\n",
    "# obj = d_ROBO_A_BORDO_DE_METRO_SV Jul Ag Sept\n",
    "X = df[var_cont+var_disc].copy()\n",
    "y = df['obj'].copy()\n",
    "\n",
    "print len(var_cont)\n",
    "print len(var_disc)"
   ]
  },
  {
   "cell_type": "code",
   "execution_count": 6,
   "metadata": {
    "collapsed": false
   },
   "outputs": [
    {
     "name": "stdout",
     "output_type": "stream",
     "text": [
      "(415, 19)\n",
      "(178, 19)\n",
      "(415L,)\n",
      "(178L,)\n"
     ]
    }
   ],
   "source": [
    "Xt,Xv,yt,yv = train_test_split(X,y,train_size=0.7)\n",
    "\n",
    "print Xt.shape\n",
    "print Xv.shape\n",
    "print yt.shape\n",
    "print yv.shape"
   ]
  },
  {
   "cell_type": "code",
   "execution_count": 7,
   "metadata": {
    "collapsed": true
   },
   "outputs": [],
   "source": [
    "sc = MinMaxScaler()\n",
    "sc.fit(X)\n",
    "Xt = sc.transform(Xt)\n",
    "Xv = sc.transform(Xv)"
   ]
  },
  {
   "cell_type": "code",
   "execution_count": 11,
   "metadata": {
    "collapsed": false
   },
   "outputs": [
    {
     "name": "stdout",
     "output_type": "stream",
     "text": [
      "['priors']\n"
     ]
    }
   ],
   "source": [
    "nby=GaussianNB()\n",
    "print nby.get_params().keys()\n"
   ]
  },
  {
   "cell_type": "code",
   "execution_count": 14,
   "metadata": {
    "collapsed": false,
    "scrolled": true
   },
   "outputs": [
    {
     "name": "stdout",
     "output_type": "stream",
     "text": [
      "Wall time: 39 ms\n"
     ]
    },
    {
     "data": {
      "text/plain": [
       "GaussianNB(priors=None)"
      ]
     },
     "execution_count": 14,
     "metadata": {},
     "output_type": "execute_result"
    }
   ],
   "source": [
    "%%time\n",
    "#grid=GridSearchCV(nby)#,cv=30,scoring='roc_auc')\n",
    "\n",
    "#rsgrid.fit(Xt,yt)\n",
    "#grid\n",
    "nby.fit(Xt,yt)"
   ]
  },
  {
   "cell_type": "code",
   "execution_count": 9,
   "metadata": {
    "collapsed": false
   },
   "outputs": [],
   "source": [
    "#%%time\n",
    "#grid.fit(Xt,yt)\n",
    "\n",
    "#print grid.best_params_\n",
    "#print grid.best_estimator_\n",
    "#print grid.best_score_                    \n"
   ]
  },
  {
   "cell_type": "code",
   "execution_count": 10,
   "metadata": {
    "collapsed": false
   },
   "outputs": [
    {
     "name": "stdout",
     "output_type": "stream",
     "text": [
      "{'n_neighbors': 38}\n",
      "KNeighborsClassifier(algorithm='auto', leaf_size=30, metric='minkowski',\n",
      "           metric_params=None, n_jobs=1, n_neighbors=38, p=2,\n",
      "           weights='uniform')\n",
      "0.797347485179\n"
     ]
    }
   ],
   "source": [
    "#print grid.best_params_\n",
    "#print grid.best_estimator_\n",
    "#print grid.best_score_  "
   ]
  },
  {
   "cell_type": "code",
   "execution_count": 12,
   "metadata": {
    "collapsed": false
   },
   "outputs": [],
   "source": [
    "#adab = grid.best_estimator_"
   ]
  },
  {
   "cell_type": "code",
   "execution_count": 13,
   "metadata": {
    "collapsed": false
   },
   "outputs": [
    {
     "data": {
      "text/plain": [
       "KNeighborsClassifier(algorithm='auto', leaf_size=30, metric='minkowski',\n",
       "           metric_params=None, n_jobs=1, n_neighbors=38, p=2,\n",
       "           weights='uniform')"
      ]
     },
     "execution_count": 13,
     "metadata": {},
     "output_type": "execute_result"
    }
   ],
   "source": [
    "#adab.fit(Xt,yt)"
   ]
  },
  {
   "cell_type": "code",
   "execution_count": 15,
   "metadata": {
    "collapsed": false,
    "scrolled": true
   },
   "outputs": [
    {
     "name": "stdout",
     "output_type": "stream",
     "text": [
      "0.88750214445\n",
      "0.777327935223\n"
     ]
    }
   ],
   "source": [
    "print roc_auc_score(y_score=nby.predict_proba(Xt)[:,1],y_true=yt)\n",
    "print roc_auc_score(y_score=nby.predict_proba(Xv)[:,1],y_true=yv)"
   ]
  },
  {
   "cell_type": "code",
   "execution_count": 17,
   "metadata": {
    "collapsed": false
   },
   "outputs": [
    {
     "data": {
      "text/plain": [
       "0      1.993757e-03\n",
       "1      3.723051e-03\n",
       "2      7.275318e-04\n",
       "3      1.661810e-02\n",
       "4      1.270007e-03\n",
       "5      5.276818e-04\n",
       "6      3.192744e-03\n",
       "7      9.857466e-04\n",
       "8      2.036521e-03\n",
       "9      1.000000e+00\n",
       "10     3.590061e-06\n",
       "11     1.293783e-03\n",
       "12     2.310845e-04\n",
       "13     3.305884e-01\n",
       "14     1.122732e-03\n",
       "15     6.999867e-04\n",
       "16     3.229987e-05\n",
       "17     2.813672e-07\n",
       "18     9.910399e-01\n",
       "19     1.111593e-03\n",
       "20     6.800421e-04\n",
       "21     1.765048e-03\n",
       "22     7.589325e-04\n",
       "23     2.810912e-52\n",
       "24     2.328182e-03\n",
       "25     1.390637e-04\n",
       "26     9.999992e-01\n",
       "27     4.274675e-03\n",
       "28     2.175609e-03\n",
       "29     4.587511e-03\n",
       "           ...     \n",
       "148    2.185650e-03\n",
       "149    5.415269e-03\n",
       "150    4.854495e-02\n",
       "151    1.000000e+00\n",
       "152    4.423244e-03\n",
       "153    4.052991e-03\n",
       "154    1.488869e-01\n",
       "155    9.999910e-01\n",
       "156    2.703389e-03\n",
       "157    4.080377e-03\n",
       "158    1.403659e-03\n",
       "159    9.899404e-11\n",
       "160    9.130615e-06\n",
       "161    1.000000e+00\n",
       "162    9.973593e-01\n",
       "163    1.676410e-03\n",
       "164    2.032925e-03\n",
       "165    9.626512e-04\n",
       "166    3.324228e-03\n",
       "167    1.817853e-03\n",
       "168    2.483007e-03\n",
       "169    3.383242e-08\n",
       "170    1.341906e-09\n",
       "171    4.195409e-04\n",
       "172    1.353928e-04\n",
       "173    2.220108e-03\n",
       "174    2.738651e-03\n",
       "175    1.479905e-02\n",
       "176    6.990791e-10\n",
       "177    4.411819e-01\n",
       "dtype: float64"
      ]
     },
     "execution_count": 17,
     "metadata": {},
     "output_type": "execute_result"
    }
   ],
   "source": [
    "pd.Series(nby.predict_proba(Xv)[:,1])"
   ]
  },
  {
   "cell_type": "code",
   "execution_count": 18,
   "metadata": {
    "collapsed": true
   },
   "outputs": [],
   "source": [
    "vf = pd.read_csv('C:/Users/cody8/Desktop/Documentos/Escuela/AMV/parcial 3 y 4/validar2.csv')"
   ]
  },
  {
   "cell_type": "code",
   "execution_count": 19,
   "metadata": {
    "collapsed": true
   },
   "outputs": [],
   "source": [
    "tf = pd.read_csv('C:/Users/cody8/Desktop/Documentos/Escuela/AMV/parcial 3 y 4/entrenar2.csv')"
   ]
  },
  {
   "cell_type": "code",
   "execution_count": 20,
   "metadata": {
    "collapsed": true
   },
   "outputs": [],
   "source": [
    "var_disc = [x for x in tf.columns if x.startswith('d_')]\n",
    "var_cont = [x for x in tf.columns if x.startswith('c_')]\n",
    "## obj = d_ROBO_A_BORDO_DE_METRO_SV Jul Ag Sept\n",
    "Xw = tf[var_cont+var_disc].copy()\n",
    "yw = tf['obj'].copy()\n",
    "\n",
    "\n",
    "\n",
    "var_discf = [x for x in vf.columns if x.startswith('d_')]\n",
    "var_contf = [x for x in vf.columns if x.startswith('c_')]\n",
    "## obj = d_ROBO_A_BORDO_DE_METRO_SV Jul Ag Sept\n",
    "Xv = vf[var_contf+var_discf].copy()\n"
   ]
  },
  {
   "cell_type": "code",
   "execution_count": 21,
   "metadata": {
    "collapsed": false,
    "scrolled": true
   },
   "outputs": [
    {
     "name": "stdout",
     "output_type": "stream",
     "text": [
      "(593, 19)\n",
      "(199, 19)\n",
      "(593L,)\n"
     ]
    }
   ],
   "source": [
    "print Xw.shape\n",
    "print Xv.shape\n",
    "print yw.shape"
   ]
  },
  {
   "cell_type": "code",
   "execution_count": 22,
   "metadata": {
    "collapsed": true
   },
   "outputs": [],
   "source": [
    "Xw = sc.transform(Xw)\n",
    "Xv = sc.transform(Xv)"
   ]
  },
  {
   "cell_type": "code",
   "execution_count": 24,
   "metadata": {
    "collapsed": false,
    "scrolled": true
   },
   "outputs": [
    {
     "data": {
      "text/plain": [
       "GaussianNB(priors=None)"
      ]
     },
     "execution_count": 24,
     "metadata": {},
     "output_type": "execute_result"
    }
   ],
   "source": [
    "nby.fit(Xw,yw)"
   ]
  },
  {
   "cell_type": "code",
   "execution_count": 26,
   "metadata": {
    "collapsed": false
   },
   "outputs": [
    {
     "name": "stdout",
     "output_type": "stream",
     "text": [
      "0.859924731183\n"
     ]
    }
   ],
   "source": [
    "print roc_auc_score(y_score=nby.predict_proba(Xw)[:,1],y_true=yw)"
   ]
  },
  {
   "cell_type": "code",
   "execution_count": 27,
   "metadata": {
    "collapsed": false
   },
   "outputs": [
    {
     "name": "stdout",
     "output_type": "stream",
     "text": [
      "0.868465430017\n"
     ]
    }
   ],
   "source": [
    "print accuracy_score(y_pred=nby.predict(Xw),y_true=yw)"
   ]
  },
  {
   "cell_type": "code",
   "execution_count": 31,
   "metadata": {
    "collapsed": false
   },
   "outputs": [],
   "source": [
    "nbypred=pd.Series(nby.predict_proba(Xv)[:,1])"
   ]
  },
  {
   "cell_type": "code",
   "execution_count": 32,
   "metadata": {
    "collapsed": false
   },
   "outputs": [
    {
     "data": {
      "text/plain": [
       "0      3.034861e-04\n",
       "1      6.434236e-04\n",
       "2      1.038764e-03\n",
       "3      1.000000e+00\n",
       "4      3.013356e-03\n",
       "5      1.225591e-03\n",
       "6      3.889530e-03\n",
       "7      9.996131e-01\n",
       "8      6.471117e-04\n",
       "9      5.856699e-04\n",
       "10     1.377124e-03\n",
       "11     1.027284e-05\n",
       "12     2.480307e-03\n",
       "13     3.598774e-05\n",
       "14     1.872049e-04\n",
       "15     4.391622e-03\n",
       "16     1.871215e-02\n",
       "17     6.116027e-05\n",
       "18     4.304967e-04\n",
       "19     1.514979e-03\n",
       "20     7.777078e-06\n",
       "21     8.481520e-04\n",
       "22     4.039148e-04\n",
       "23     7.665264e-02\n",
       "24     4.256120e-01\n",
       "25     1.723354e-04\n",
       "26     1.609238e-03\n",
       "27     7.402448e-03\n",
       "28     2.942260e-04\n",
       "29     8.256255e-01\n",
       "           ...     \n",
       "169    2.992616e-04\n",
       "170    9.615735e-05\n",
       "171    1.387702e-11\n",
       "172    5.237946e-04\n",
       "173    7.041796e-01\n",
       "174    2.437735e-05\n",
       "175    3.330403e-04\n",
       "176    3.745095e-04\n",
       "177    2.102224e-04\n",
       "178    1.903775e-03\n",
       "179    4.004007e-01\n",
       "180    3.249091e-03\n",
       "181    2.398118e-03\n",
       "182    4.371442e-04\n",
       "183    5.010593e-04\n",
       "184    2.564011e-05\n",
       "185    5.582087e-04\n",
       "186    9.888891e-01\n",
       "187    3.535684e-04\n",
       "188    6.534164e-04\n",
       "189    3.402148e-04\n",
       "190    2.297102e-07\n",
       "191    3.408459e-07\n",
       "192    9.997514e-01\n",
       "193    4.747504e-02\n",
       "194    4.187846e-04\n",
       "195    1.677765e-02\n",
       "196    1.354170e-02\n",
       "197    1.000000e+00\n",
       "198    1.844873e-03\n",
       "dtype: float64"
      ]
     },
     "execution_count": 32,
     "metadata": {},
     "output_type": "execute_result"
    }
   ],
   "source": [
    "nbypred"
   ]
  },
  {
   "cell_type": "code",
   "execution_count": 33,
   "metadata": {
    "collapsed": false,
    "scrolled": true
   },
   "outputs": [],
   "source": [
    "nbypred.to_csv('s_31193416_p8.csv')"
   ]
  }
 ],
 "metadata": {
  "anaconda-cloud": {},
  "kernelspec": {
   "display_name": "Python [conda root]",
   "language": "python",
   "name": "conda-root-py"
  },
  "language_info": {
   "codemirror_mode": {
    "name": "ipython",
    "version": 2
   },
   "file_extension": ".py",
   "mimetype": "text/x-python",
   "name": "python",
   "nbconvert_exporter": "python",
   "pygments_lexer": "ipython2",
   "version": "2.7.12"
  }
 },
 "nbformat": 4,
 "nbformat_minor": 1
}
