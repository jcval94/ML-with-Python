{
 "cells": [
  {
   "cell_type": "code",
   "execution_count": 2,
   "metadata": {
    "collapsed": true
   },
   "outputs": [],
   "source": [
    "from __future__ import division\n",
    "import pandas as pd\n",
    "import seaborn as sns\n",
    "import numpy as np\n",
    "from sklearn.model_selection import train_test_split\n",
    "from sklearn.metrics import roc_auc_score,accuracy_score\n",
    "from sklearn.svm import SVC\n",
    "from sklearn.model_selection import RandomizedSearchCV\n",
    "from sklearn.preprocessing import MinMaxScaler\n",
    "from sklearn.model_selection import RandomizedSearchCV,GridSearchCV\n",
    "from sklearn.preprocessing import Imputer\n",
    "\n",
    "\n",
    "pd.set_option('display.max_columns',500)\n",
    "pd.set_option('display.max_colwidth',-1)\n",
    "%matplotlib inline\n"
   ]
  },
  {
   "cell_type": "code",
   "execution_count": 3,
   "metadata": {
    "collapsed": true
   },
   "outputs": [],
   "source": [
    "df = pd.read_csv('C:/Users/cody8/Desktop/Documentos/Escuela/AMV/parcial 3 y 4/entrenar2.csv')"
   ]
  },
  {
   "cell_type": "code",
   "execution_count": 4,
   "metadata": {
    "collapsed": false
   },
   "outputs": [
    {
     "data": {
      "text/html": [
       "<div>\n",
       "<table border=\"1\" class=\"dataframe\">\n",
       "  <thead>\n",
       "    <tr style=\"text-align: right;\">\n",
       "      <th></th>\n",
       "      <th>Cuadrante</th>\n",
       "      <th>c_Total de crimenes</th>\n",
       "      <th>c_HOMICIDIO_DOLOSO</th>\n",
       "      <th>c_LESIONES_POR_ARMA_DE_FUEGO</th>\n",
       "      <th>c_ROBO_A_BORDO_DE_METRO_CV</th>\n",
       "      <th>c_ROBO_A_BORDO_DE_MICROBUS_CV</th>\n",
       "      <th>c_ROBO_A_BORDO_DE_MICROBUS_SV</th>\n",
       "      <th>c_ROBO_A_BORDO_DE_TAXI_CV</th>\n",
       "      <th>c_ROBO_A_CASA_HABITACION_CV</th>\n",
       "      <th>c_ROBO_A_CUENTAHABIENTE_CV</th>\n",
       "      <th>c_ROBO_A_NEGOCIO_CV</th>\n",
       "      <th>c_ROBO_A_REPARTIDOR_CV</th>\n",
       "      <th>c_ROBO_A_REPARTIDOR_SV</th>\n",
       "      <th>c_ROBO_A_TRANSEUNTE_CV</th>\n",
       "      <th>c_ROBO_A_TRANSEUNTE_SV</th>\n",
       "      <th>c_ROBO_A_TRANSPORTISTA_CV</th>\n",
       "      <th>c_ROBO_A_TRANSPORTISTA_SV</th>\n",
       "      <th>c_ROBO_DE_VEHICULO_AUTOMOTOR_CV</th>\n",
       "      <th>c_ROBO_DE_VEHICULO_AUTOMOTOR_SV</th>\n",
       "      <th>c_VIOLACION</th>\n",
       "      <th>obj</th>\n",
       "    </tr>\n",
       "  </thead>\n",
       "  <tbody>\n",
       "    <tr>\n",
       "      <th>0</th>\n",
       "      <td>1</td>\n",
       "      <td>205</td>\n",
       "      <td>6</td>\n",
       "      <td>1</td>\n",
       "      <td>0</td>\n",
       "      <td>19</td>\n",
       "      <td>0</td>\n",
       "      <td>1</td>\n",
       "      <td>4</td>\n",
       "      <td>1</td>\n",
       "      <td>24</td>\n",
       "      <td>4</td>\n",
       "      <td>1</td>\n",
       "      <td>29</td>\n",
       "      <td>2</td>\n",
       "      <td>1</td>\n",
       "      <td>0</td>\n",
       "      <td>48</td>\n",
       "      <td>62</td>\n",
       "      <td>2</td>\n",
       "      <td>0</td>\n",
       "    </tr>\n",
       "    <tr>\n",
       "      <th>1</th>\n",
       "      <td>2</td>\n",
       "      <td>41</td>\n",
       "      <td>1</td>\n",
       "      <td>0</td>\n",
       "      <td>0</td>\n",
       "      <td>1</td>\n",
       "      <td>1</td>\n",
       "      <td>1</td>\n",
       "      <td>1</td>\n",
       "      <td>0</td>\n",
       "      <td>13</td>\n",
       "      <td>0</td>\n",
       "      <td>1</td>\n",
       "      <td>2</td>\n",
       "      <td>0</td>\n",
       "      <td>0</td>\n",
       "      <td>0</td>\n",
       "      <td>9</td>\n",
       "      <td>10</td>\n",
       "      <td>1</td>\n",
       "      <td>0</td>\n",
       "    </tr>\n",
       "    <tr>\n",
       "      <th>2</th>\n",
       "      <td>3</td>\n",
       "      <td>140</td>\n",
       "      <td>1</td>\n",
       "      <td>3</td>\n",
       "      <td>0</td>\n",
       "      <td>3</td>\n",
       "      <td>0</td>\n",
       "      <td>1</td>\n",
       "      <td>4</td>\n",
       "      <td>4</td>\n",
       "      <td>15</td>\n",
       "      <td>9</td>\n",
       "      <td>3</td>\n",
       "      <td>34</td>\n",
       "      <td>0</td>\n",
       "      <td>0</td>\n",
       "      <td>0</td>\n",
       "      <td>17</td>\n",
       "      <td>46</td>\n",
       "      <td>0</td>\n",
       "      <td>0</td>\n",
       "    </tr>\n",
       "    <tr>\n",
       "      <th>3</th>\n",
       "      <td>4</td>\n",
       "      <td>107</td>\n",
       "      <td>10</td>\n",
       "      <td>5</td>\n",
       "      <td>0</td>\n",
       "      <td>2</td>\n",
       "      <td>0</td>\n",
       "      <td>0</td>\n",
       "      <td>4</td>\n",
       "      <td>0</td>\n",
       "      <td>4</td>\n",
       "      <td>20</td>\n",
       "      <td>3</td>\n",
       "      <td>32</td>\n",
       "      <td>1</td>\n",
       "      <td>0</td>\n",
       "      <td>0</td>\n",
       "      <td>10</td>\n",
       "      <td>12</td>\n",
       "      <td>4</td>\n",
       "      <td>0</td>\n",
       "    </tr>\n",
       "    <tr>\n",
       "      <th>4</th>\n",
       "      <td>5</td>\n",
       "      <td>109</td>\n",
       "      <td>2</td>\n",
       "      <td>1</td>\n",
       "      <td>0</td>\n",
       "      <td>3</td>\n",
       "      <td>0</td>\n",
       "      <td>2</td>\n",
       "      <td>1</td>\n",
       "      <td>1</td>\n",
       "      <td>19</td>\n",
       "      <td>6</td>\n",
       "      <td>1</td>\n",
       "      <td>16</td>\n",
       "      <td>1</td>\n",
       "      <td>3</td>\n",
       "      <td>0</td>\n",
       "      <td>21</td>\n",
       "      <td>30</td>\n",
       "      <td>2</td>\n",
       "      <td>0</td>\n",
       "    </tr>\n",
       "  </tbody>\n",
       "</table>\n",
       "</div>"
      ],
      "text/plain": [
       "   Cuadrante  c_Total de crimenes  c_HOMICIDIO_DOLOSO  \\\n",
       "0  1          205                  6                    \n",
       "1  2          41                   1                    \n",
       "2  3          140                  1                    \n",
       "3  4          107                  10                   \n",
       "4  5          109                  2                    \n",
       "\n",
       "   c_LESIONES_POR_ARMA_DE_FUEGO  c_ROBO_A_BORDO_DE_METRO_CV  \\\n",
       "0  1                             0                            \n",
       "1  0                             0                            \n",
       "2  3                             0                            \n",
       "3  5                             0                            \n",
       "4  1                             0                            \n",
       "\n",
       "   c_ROBO_A_BORDO_DE_MICROBUS_CV  c_ROBO_A_BORDO_DE_MICROBUS_SV  \\\n",
       "0  19                             0                               \n",
       "1  1                              1                               \n",
       "2  3                              0                               \n",
       "3  2                              0                               \n",
       "4  3                              0                               \n",
       "\n",
       "   c_ROBO_A_BORDO_DE_TAXI_CV  c_ROBO_A_CASA_HABITACION_CV  \\\n",
       "0  1                          4                             \n",
       "1  1                          1                             \n",
       "2  1                          4                             \n",
       "3  0                          4                             \n",
       "4  2                          1                             \n",
       "\n",
       "   c_ROBO_A_CUENTAHABIENTE_CV  c_ROBO_A_NEGOCIO_CV  c_ROBO_A_REPARTIDOR_CV  \\\n",
       "0  1                           24                   4                        \n",
       "1  0                           13                   0                        \n",
       "2  4                           15                   9                        \n",
       "3  0                           4                    20                       \n",
       "4  1                           19                   6                        \n",
       "\n",
       "   c_ROBO_A_REPARTIDOR_SV  c_ROBO_A_TRANSEUNTE_CV  c_ROBO_A_TRANSEUNTE_SV  \\\n",
       "0  1                       29                      2                        \n",
       "1  1                       2                       0                        \n",
       "2  3                       34                      0                        \n",
       "3  3                       32                      1                        \n",
       "4  1                       16                      1                        \n",
       "\n",
       "   c_ROBO_A_TRANSPORTISTA_CV  c_ROBO_A_TRANSPORTISTA_SV  \\\n",
       "0  1                          0                           \n",
       "1  0                          0                           \n",
       "2  0                          0                           \n",
       "3  0                          0                           \n",
       "4  3                          0                           \n",
       "\n",
       "   c_ROBO_DE_VEHICULO_AUTOMOTOR_CV  c_ROBO_DE_VEHICULO_AUTOMOTOR_SV  \\\n",
       "0  48                               62                                \n",
       "1  9                                10                                \n",
       "2  17                               46                                \n",
       "3  10                               12                                \n",
       "4  21                               30                                \n",
       "\n",
       "   c_VIOLACION  obj  \n",
       "0  2            0    \n",
       "1  1            0    \n",
       "2  0            0    \n",
       "3  4            0    \n",
       "4  2            0    "
      ]
     },
     "execution_count": 4,
     "metadata": {},
     "output_type": "execute_result"
    }
   ],
   "source": [
    "df.head()"
   ]
  },
  {
   "cell_type": "code",
   "execution_count": 5,
   "metadata": {
    "collapsed": false
   },
   "outputs": [
    {
     "name": "stdout",
     "output_type": "stream",
     "text": [
      "19\n",
      "0\n"
     ]
    }
   ],
   "source": [
    "var_disc = [x for x in df.columns if x.startswith('d_')]\n",
    "var_cont = [x for x in df.columns if x.startswith('c_')]\n",
    "# obj = d_ROBO_A_BORDO_DE_METRO_SV Jul Ag Sept\n",
    "X = df[var_cont+var_disc].copy()\n",
    "y = df['obj'].copy()\n",
    "\n",
    "print len(var_cont)\n",
    "print len(var_disc)"
   ]
  },
  {
   "cell_type": "code",
   "execution_count": 6,
   "metadata": {
    "collapsed": false
   },
   "outputs": [
    {
     "name": "stdout",
     "output_type": "stream",
     "text": [
      "(415, 19)\n",
      "(178, 19)\n",
      "(415L,)\n",
      "(178L,)\n"
     ]
    }
   ],
   "source": [
    "Xt,Xv,yt,yv = train_test_split(X,y,train_size=0.7)\n",
    "\n",
    "print Xt.shape\n",
    "print Xv.shape\n",
    "print yt.shape\n",
    "print yv.shape"
   ]
  },
  {
   "cell_type": "code",
   "execution_count": 7,
   "metadata": {
    "collapsed": true
   },
   "outputs": [],
   "source": [
    "sc = MinMaxScaler()\n",
    "sc.fit(X)\n",
    "Xt = sc.transform(Xt)\n",
    "Xv = sc.transform(Xv)"
   ]
  },
  {
   "cell_type": "code",
   "execution_count": 8,
   "metadata": {
    "collapsed": false
   },
   "outputs": [],
   "source": [
    "svm = SVC()\n",
    "#help(SVC)"
   ]
  },
  {
   "cell_type": "code",
   "execution_count": 9,
   "metadata": {
    "collapsed": false
   },
   "outputs": [],
   "source": [
    "knl = ['linear', 'poly', 'rbf', 'sigmoid']\n",
    "dfs=['ovo','ovr']\n",
    "deg = range(2,6)\n",
    "param_grid=dict(decision_function_shape=dfs,kernel=knl,degree=deg)\n",
    "\n",
    "grid=GridSearchCV(svm,param_grid,cv=10,scoring='roc_auc',n_jobs=-1)#,n_iter=10)\n",
    "#probability = [True]"
   ]
  },
  {
   "cell_type": "code",
   "execution_count": 10,
   "metadata": {
    "collapsed": false,
    "scrolled": true
   },
   "outputs": [],
   "source": [
    "dicc = dict(kernel = ['linear', 'poly', 'rbf', 'sigmoid'],\n",
    "degree = range(2,6),\n",
    "probability = [True])\n",
    "rsgrid = RandomizedSearchCV(param_distributions=dicc,n_iter=6,\n",
    "                          cv=3,n_jobs=-1, \n",
    "                    estimator=svm,\n",
    "                    scoring='roc_auc')"
   ]
  },
  {
   "cell_type": "code",
   "execution_count": 11,
   "metadata": {
    "collapsed": false
   },
   "outputs": [
    {
     "name": "stdout",
     "output_type": "stream",
     "text": [
      "Wall time: 1min 54s\n"
     ]
    },
    {
     "data": {
      "text/plain": [
       "RandomizedSearchCV(cv=3, error_score='raise',\n",
       "          estimator=SVC(C=1.0, cache_size=200, class_weight=None, coef0=0.0,\n",
       "  decision_function_shape=None, degree=3, gamma='auto', kernel='rbf',\n",
       "  max_iter=-1, probability=False, random_state=None, shrinking=True,\n",
       "  tol=0.001, verbose=False),\n",
       "          fit_params={}, iid=True, n_iter=6, n_jobs=-1,\n",
       "          param_distributions={'kernel': ['linear', 'poly', 'rbf', 'sigmoid'], 'probability': [True], 'degree': [2, 3, 4, 5]},\n",
       "          pre_dispatch='2*n_jobs', random_state=None, refit=True,\n",
       "          return_train_score=True, scoring='roc_auc', verbose=0)"
      ]
     },
     "execution_count": 11,
     "metadata": {},
     "output_type": "execute_result"
    }
   ],
   "source": [
    "%%time\n",
    "rsgrid.fit(Xt,yt)"
   ]
  },
  {
   "cell_type": "code",
   "execution_count": 12,
   "metadata": {
    "collapsed": false
   },
   "outputs": [],
   "source": [
    "#%%time\n",
    "#grid.fit(Xt,yt)\n",
    "\n",
    "#print grid.best_params_\n",
    "#print grid.best_estimator_\n",
    "#print grid.best_score_                    \n"
   ]
  },
  {
   "cell_type": "code",
   "execution_count": 13,
   "metadata": {
    "collapsed": false
   },
   "outputs": [
    {
     "name": "stdout",
     "output_type": "stream",
     "text": [
      "{'kernel': 'sigmoid', 'degree': 5, 'probability': True}\n",
      "SVC(C=1.0, cache_size=200, class_weight=None, coef0=0.0,\n",
      "  decision_function_shape=None, degree=5, gamma='auto', kernel='sigmoid',\n",
      "  max_iter=-1, probability=True, random_state=None, shrinking=True,\n",
      "  tol=0.001, verbose=False)\n",
      "0.844516370567\n"
     ]
    }
   ],
   "source": [
    "print rsgrid.best_params_\n",
    "print rsgrid.best_estimator_\n",
    "print rsgrid.best_score_  "
   ]
  },
  {
   "cell_type": "code",
   "execution_count": 14,
   "metadata": {
    "collapsed": true
   },
   "outputs": [],
   "source": [
    "svm = rsgrid.best_estimator_"
   ]
  },
  {
   "cell_type": "code",
   "execution_count": 15,
   "metadata": {
    "collapsed": false
   },
   "outputs": [
    {
     "data": {
      "text/plain": [
       "SVC(C=1.0, cache_size=200, class_weight=None, coef0=0.0,\n",
       "  decision_function_shape=None, degree=5, gamma='auto', kernel='sigmoid',\n",
       "  max_iter=-1, probability=True, random_state=None, shrinking=True,\n",
       "  tol=0.001, verbose=False)"
      ]
     },
     "execution_count": 15,
     "metadata": {},
     "output_type": "execute_result"
    }
   ],
   "source": [
    "svm.fit(Xt,yt)"
   ]
  },
  {
   "cell_type": "code",
   "execution_count": 16,
   "metadata": {
    "collapsed": false,
    "scrolled": true
   },
   "outputs": [
    {
     "name": "stdout",
     "output_type": "stream",
     "text": [
      "0.882652588682\n",
      "0.895547945205\n"
     ]
    }
   ],
   "source": [
    "print roc_auc_score(y_score=svm.predict_proba(Xt)[:,1],y_true=yt)\n",
    "print roc_auc_score(y_score=svm.predict_proba(Xv)[:,1],y_true=yv)"
   ]
  },
  {
   "cell_type": "code",
   "execution_count": 17,
   "metadata": {
    "collapsed": false
   },
   "outputs": [
    {
     "data": {
      "text/plain": [
       "0      0.338955\n",
       "1      0.114210\n",
       "2      0.110053\n",
       "3      0.090581\n",
       "4      0.155490\n",
       "5      0.073804\n",
       "6      0.055284\n",
       "7      0.130583\n",
       "8      0.891962\n",
       "9      0.086308\n",
       "10     0.070334\n",
       "11     0.062262\n",
       "12     0.090055\n",
       "13     0.111463\n",
       "14     0.142997\n",
       "15     0.129126\n",
       "16     0.096898\n",
       "17     0.048531\n",
       "18     0.433287\n",
       "19     0.107668\n",
       "20     0.096655\n",
       "21     0.121320\n",
       "22     0.104420\n",
       "23     0.099372\n",
       "24     0.127113\n",
       "25     0.062950\n",
       "26     0.040758\n",
       "27     0.073120\n",
       "28     0.065095\n",
       "29     0.079824\n",
       "         ...   \n",
       "148    0.043454\n",
       "149    0.089480\n",
       "150    0.058765\n",
       "151    0.080506\n",
       "152    0.136203\n",
       "153    0.085126\n",
       "154    0.226509\n",
       "155    0.129215\n",
       "156    0.119266\n",
       "157    0.093427\n",
       "158    0.035553\n",
       "159    0.079153\n",
       "160    0.018014\n",
       "161    0.061150\n",
       "162    0.076272\n",
       "163    0.080110\n",
       "164    0.054659\n",
       "165    0.074569\n",
       "166    0.081068\n",
       "167    0.082588\n",
       "168    0.076303\n",
       "169    0.125682\n",
       "170    0.174072\n",
       "171    0.232103\n",
       "172    0.104785\n",
       "173    0.947130\n",
       "174    0.114093\n",
       "175    0.037831\n",
       "176    0.194188\n",
       "177    0.084353\n",
       "dtype: float64"
      ]
     },
     "execution_count": 17,
     "metadata": {},
     "output_type": "execute_result"
    }
   ],
   "source": [
    "pd.Series(svm.predict_proba(Xv)[:,1])"
   ]
  },
  {
   "cell_type": "code",
   "execution_count": 18,
   "metadata": {
    "collapsed": true
   },
   "outputs": [],
   "source": [
    "vf = pd.read_csv('C:/Users/cody8/Desktop/Documentos/Escuela/AMV/parcial 3 y 4/validar2.csv')"
   ]
  },
  {
   "cell_type": "code",
   "execution_count": 19,
   "metadata": {
    "collapsed": true
   },
   "outputs": [],
   "source": [
    "tf = pd.read_csv('C:/Users/cody8/Desktop/Documentos/Escuela/AMV/parcial 3 y 4/entrenar2.csv')"
   ]
  },
  {
   "cell_type": "code",
   "execution_count": 20,
   "metadata": {
    "collapsed": true
   },
   "outputs": [],
   "source": [
    "var_disc = [x for x in tf.columns if x.startswith('d_')]\n",
    "var_cont = [x for x in tf.columns if x.startswith('c_')]\n",
    "## obj = d_ROBO_A_BORDO_DE_METRO_SV Jul Ag Sept\n",
    "Xw = tf[var_cont+var_disc].copy()\n",
    "yw = tf['obj'].copy()\n",
    "\n",
    "\n",
    "\n",
    "var_discf = [x for x in vf.columns if x.startswith('d_')]\n",
    "var_contf = [x for x in vf.columns if x.startswith('c_')]\n",
    "## obj = d_ROBO_A_BORDO_DE_METRO_SV Jul Ag Sept\n",
    "Xv = vf[var_contf+var_discf].copy()\n"
   ]
  },
  {
   "cell_type": "code",
   "execution_count": 21,
   "metadata": {
    "collapsed": false,
    "scrolled": true
   },
   "outputs": [
    {
     "name": "stdout",
     "output_type": "stream",
     "text": [
      "(593, 19)\n",
      "(199, 19)\n",
      "(593L,)\n"
     ]
    }
   ],
   "source": [
    "print Xw.shape\n",
    "print Xv.shape\n",
    "print yw.shape"
   ]
  },
  {
   "cell_type": "code",
   "execution_count": 22,
   "metadata": {
    "collapsed": true
   },
   "outputs": [],
   "source": [
    "Xw = sc.transform(Xw)\n",
    "Xv = sc.transform(Xv)"
   ]
  },
  {
   "cell_type": "code",
   "execution_count": 23,
   "metadata": {
    "collapsed": false,
    "scrolled": true
   },
   "outputs": [
    {
     "data": {
      "text/plain": [
       "SVC(C=1.0, cache_size=200, class_weight=None, coef0=0.0,\n",
       "  decision_function_shape=None, degree=5, gamma='auto', kernel='sigmoid',\n",
       "  max_iter=-1, probability=True, random_state=None, shrinking=True,\n",
       "  tol=0.001, verbose=False)"
      ]
     },
     "execution_count": 23,
     "metadata": {},
     "output_type": "execute_result"
    }
   ],
   "source": [
    "svm.fit(Xw,yw)"
   ]
  },
  {
   "cell_type": "code",
   "execution_count": 24,
   "metadata": {
    "collapsed": false
   },
   "outputs": [
    {
     "name": "stdout",
     "output_type": "stream",
     "text": [
      "0.888494623656\n"
     ]
    }
   ],
   "source": [
    "print roc_auc_score(y_score=svm.predict_proba(Xw)[:,1],y_true=yw)"
   ]
  },
  {
   "cell_type": "code",
   "execution_count": 25,
   "metadata": {
    "collapsed": false
   },
   "outputs": [
    {
     "name": "stdout",
     "output_type": "stream",
     "text": [
      "0.843170320405\n"
     ]
    }
   ],
   "source": [
    "print accuracy_score(y_pred=svm.predict(Xw),y_true=yw)"
   ]
  },
  {
   "cell_type": "code",
   "execution_count": 27,
   "metadata": {
    "collapsed": false
   },
   "outputs": [
    {
     "data": {
      "text/plain": [
       "0      0.037015\n",
       "1      0.055886\n",
       "2      0.068326\n",
       "3      0.999982\n",
       "4      0.199316\n",
       "5      0.094189\n",
       "6      0.110468\n",
       "7      0.371806\n",
       "8      0.072208\n",
       "9      0.060915\n",
       "10     0.018151\n",
       "11     0.024345\n",
       "12     0.102197\n",
       "13     0.039654\n",
       "14     0.054691\n",
       "15     0.178103\n",
       "16     0.584508\n",
       "17     0.037312\n",
       "18     0.084236\n",
       "19     0.121867\n",
       "20     0.024377\n",
       "21     0.087269\n",
       "22     0.081067\n",
       "23     0.144897\n",
       "24     0.052669\n",
       "25     0.081957\n",
       "26     0.065637\n",
       "27     0.056623\n",
       "28     0.033317\n",
       "29     0.207261\n",
       "         ...   \n",
       "169    0.049357\n",
       "170    0.065182\n",
       "171    0.006583\n",
       "172    0.059508\n",
       "173    0.036549\n",
       "174    0.015152\n",
       "175    0.067314\n",
       "176    0.023319\n",
       "177    0.042607\n",
       "178    0.159370\n",
       "179    0.037885\n",
       "180    0.110408\n",
       "181    0.149201\n",
       "182    0.082618\n",
       "183    0.094576\n",
       "184    0.038183\n",
       "185    0.039293\n",
       "186    0.806450\n",
       "187    0.042241\n",
       "188    0.042276\n",
       "189    0.155407\n",
       "190    0.026227\n",
       "191    0.013724\n",
       "192    0.307927\n",
       "193    0.308099\n",
       "194    0.091684\n",
       "195    0.167195\n",
       "196    0.281470\n",
       "197    1.000000\n",
       "198    0.073983\n",
       "dtype: float64"
      ]
     },
     "execution_count": 27,
     "metadata": {},
     "output_type": "execute_result"
    }
   ],
   "source": [
    "predsvm=pd.Series(svm.predict_proba(Xv)[:,1])\n",
    "predsvm"
   ]
  },
  {
   "cell_type": "code",
   "execution_count": 28,
   "metadata": {
    "collapsed": true
   },
   "outputs": [],
   "source": [
    "predsvm.to_csv('s_311093416_p5.cvs')"
   ]
  }
 ],
 "metadata": {
  "anaconda-cloud": {},
  "kernelspec": {
   "display_name": "Python [conda root]",
   "language": "python",
   "name": "conda-root-py"
  },
  "language_info": {
   "codemirror_mode": {
    "name": "ipython",
    "version": 2
   },
   "file_extension": ".py",
   "mimetype": "text/x-python",
   "name": "python",
   "nbconvert_exporter": "python",
   "pygments_lexer": "ipython2",
   "version": "2.7.12"
  }
 },
 "nbformat": 4,
 "nbformat_minor": 1
}
