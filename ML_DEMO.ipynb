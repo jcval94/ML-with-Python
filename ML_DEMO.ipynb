{
  "nbformat": 4,
  "nbformat_minor": 0,
  "metadata": {
    "colab": {
      "name": "ML DEMO.ipynb",
      "provenance": [],
      "collapsed_sections": [
        "EwHCNv8np6oh",
        "3EmorZqspRka",
        "yUE1y63Rhyga",
        "CtFsGAMNiEdV",
        "QdIdw74ghsMn",
        "leg8AcBSIFpO",
        "I9wLda-H-fUw",
        "QT_T-NLnI-N1",
        "Nu8k6y0weV3G",
        "eKYXnUpwizwZ",
        "BUPvqPZIgZM8",
        "4ijM2oifP7tD"
      ],
      "toc_visible": true,
      "authorship_tag": "ABX9TyNyNenbGxayW/lQLF7/4JU9",
      "include_colab_link": true
    },
    "kernelspec": {
      "name": "python3",
      "display_name": "Python 3"
    },
    "language_info": {
      "name": "python"
    }
  },
  "cells": [
    {
      "cell_type": "markdown",
      "metadata": {
        "id": "view-in-github",
        "colab_type": "text"
      },
      "source": [
        "<a href=\"https://colab.research.google.com/github/jcval94/ML-with-Python/blob/master/ML_DEMO.ipynb\" target=\"_parent\"><img src=\"https://colab.research.google.com/assets/colab-badge.svg\" alt=\"Open In Colab\"/></a>"
      ]
    },
    {
      "cell_type": "markdown",
      "source": [
        "<h1 align=center><font size=6> ML DEMO José Carlos Del Valle López </font></h1>"
      ],
      "metadata": {
        "id": "rpENFDZHpjQD"
      }
    },
    {
      "cell_type": "markdown",
      "source": [
        "#Introducción"
      ],
      "metadata": {
        "id": "EwHCNv8np6oh"
      }
    },
    {
      "cell_type": "markdown",
      "source": [
        "<h1>Clase 0</h1>\n",
        "<h2>¿Cómo resolver un problema de Ciencia de Datos?</h2>\n",
        "<h3>¡La más cordial bienvenida!</h3>\n",
        "\n",
        "<p>\n",
        "En esta clase aprenderán a:\n",
        "afrontar un problema de ciencia de datos\n",
        "\n",
        "*   Manipulación de datos\n",
        "*   Análisis exploratorio de datos (EDA)\n",
        "*   Ingeniería de variables (feature engeineering)\n",
        "*   Algoritmos supervisados y no supervisados \n",
        "\n",
        "con las Best Practices. Utilizando las librerías más utilizadas de  Python\n",
        "</p>"
      ],
      "metadata": {
        "id": "He3qzaA669mp"
      }
    },
    {
      "cell_type": "markdown",
      "source": [
        "#Librerías\n",
        "\n",
        "El primer paso para afrontar un problema de ciencia de datos es \"abrir nuestra caja de herramientas\", en otras palabras, importar todas las funciones que consideremos necesarias para resolver el problema\n",
        "\n",
        "<a href=\"https://www.linkedin.com/in/jose-carlos-del-valle/\"><img src=\"https://miro.medium.com/max/840/1*XSrsoEr05s2epxOnezLmog.gif\" width=300, align=\"center\"></a>\n",
        "\n"
      ],
      "metadata": {
        "id": "uVtwL5uUqAMq"
      }
    },
    {
      "cell_type": "code",
      "source": [
        "# Librerías para manipulación de datos\n",
        "import copy\n",
        "import pandas as pd\n",
        "import numpy as np\n",
        "import matplotlib.pyplot as plt\n",
        "import seaborn as sns\n",
        "import time\n",
        "import random\n",
        "\n",
        "# Librerías para algoritmos supervisados y no supervisados\n",
        "from sklearn.ensemble import RandomForestClassifier\n",
        "from sklearn.metrics import r2_score, mean_squared_error, roc_auc_score, roc_curve, auc\n",
        "from sklearn.model_selection import train_test_split, cross_val_score, GridSearchCV\n",
        "from sklearn.cluster import KMeans\n",
        "from yellowbrick.cluster import KElbowVisualizer\n",
        "\n",
        "# Funciones útiles que facilitan la maniúlación de datos\n",
        "from scipy import stats\n",
        "import pandas.core.algorithms as algos\n",
        "import scipy.stats.stats as stats\n",
        "import zipfile\n",
        "import glob\n",
        "import traceback\n",
        "import re\n",
        "from datetime import datetime, timedelta"
      ],
      "metadata": {
        "id": "0qyLtosApR_8"
      },
      "execution_count": null,
      "outputs": []
    },
    {
      "cell_type": "code",
      "source": [
        "#Funciones para conectarse a Google Drive\n",
        "from pydrive.auth import GoogleAuth\n",
        "from pydrive.drive import GoogleDrive\n",
        "from google.colab import auth\n",
        "from oauth2client.client import GoogleCredentials\n",
        "\n",
        "auth.authenticate_user()\n",
        "import gspread\n",
        "from oauth2client.client import GoogleCredentials\n",
        "gc = gspread.authorize(GoogleCredentials.get_application_default())\n",
        "import gspread_dataframe as gd"
      ],
      "metadata": {
        "id": "GWACE7efquJ6"
      },
      "execution_count": null,
      "outputs": []
    },
    {
      "cell_type": "markdown",
      "source": [
        "## Funciones útiles\n",
        "\n",
        "En algunos casos, no existen librerías o funciones que nos ayuden a realizar algunos análisis, sin embargo, podemos escribirlas para su uso posterior\n",
        "\n",
        "<a href=\"https://www.linkedin.com/in/jose-carlos-del-valle/\"><img src=\"https://static.wikia.nocookie.net/dark-souls/images/d/dd/Herrero_Andre.jpg/revision/latest/top-crop/width/360/height/450?cb=20160903194839&path-prefix=es\" width=140, align=\"center\"></a>\n",
        "\n"
      ],
      "metadata": {
        "id": "3EmorZqspRka"
      }
    },
    {
      "cell_type": "code",
      "source": [
        "max_bin = 20\n",
        "force_bin = 3\n",
        "\n",
        "def mono_bin(Y, X, n = max_bin):\n",
        "    df1 = pd.DataFrame({\"X\": X, \"Y\": Y})\n",
        "    justmiss = df1[['X','Y']][df1.X.isnull()]\n",
        "    notmiss = df1[['X','Y']][df1.X.notnull()]\n",
        "    r = 0\n",
        "    while np.abs(r) < 1:\n",
        "        try:\n",
        "            d1 = pd.DataFrame({\"X\": notmiss.X, \"Y\": notmiss.Y, \"Bucket\": pd.qcut(notmiss.X, n)})\n",
        "            d2 = d1.groupby('Bucket', as_index=True)\n",
        "            r, p = stats.spearmanr(d2.mean().X, d2.mean().Y)\n",
        "            n = n - 1 \n",
        "        except Exception as e:\n",
        "            n = n - 1\n",
        "\n",
        "    if len(d2) == 1:\n",
        "        n = force_bin         \n",
        "        bins = algos.quantile(notmiss.X, np.linspace(0, 1, n))\n",
        "        if len(np.unique(bins)) == 2:\n",
        "            bins = np.insert(bins, 0, 1)\n",
        "            bins[1] = bins[1]-(bins[1]/2)\n",
        "        d1 = pd.DataFrame({\"X\": notmiss.X, \"Y\": notmiss.Y, \"Bucket\": pd.cut(notmiss.X, np.unique(bins),include_lowest=True)}) \n",
        "        d2 = d1.groupby('Bucket', as_index=True)\n",
        "    \n",
        "    d3 = pd.DataFrame({},index=[])\n",
        "    d3[\"MIN_VALUE\"] = d2.min().X\n",
        "    d3[\"MAX_VALUE\"] = d2.max().X\n",
        "    d3[\"COUNT\"] = d2.count().Y\n",
        "    d3[\"EVENT\"] = d2.sum().Y\n",
        "    d3[\"NONEVENT\"] = d2.count().Y - d2.sum().Y\n",
        "    d3=d3.reset_index(drop=True)\n",
        "    \n",
        "    if len(justmiss.index) > 0:\n",
        "        d4 = pd.DataFrame({'MIN_VALUE':np.nan},index=[0])\n",
        "        d4[\"MAX_VALUE\"] = np.nan\n",
        "        d4[\"COUNT\"] = justmiss.count().Y\n",
        "        d4[\"EVENT\"] = justmiss.sum().Y\n",
        "        d4[\"NONEVENT\"] = justmiss.count().Y - justmiss.sum().Y\n",
        "        d3 = d3.append(d4,ignore_index=True)\n",
        "    \n",
        "    d3[\"EVENT_RATE\"] = d3.EVENT/d3.COUNT\n",
        "    d3[\"NON_EVENT_RATE\"] = d3.NONEVENT/d3.COUNT\n",
        "    d3[\"DIST_EVENT\"] = d3.EVENT/d3.sum().EVENT\n",
        "    d3[\"DIST_NON_EVENT\"] = d3.NONEVENT/d3.sum().NONEVENT\n",
        "    d3[\"WOE\"] = np.log(d3.DIST_EVENT/d3.DIST_NON_EVENT)\n",
        "    d3[\"IV\"] = (d3.DIST_EVENT-d3.DIST_NON_EVENT)*np.log(d3.DIST_EVENT/d3.DIST_NON_EVENT)\n",
        "    d3[\"VAR_NAME\"] = \"VAR\"\n",
        "    d3 = d3[['VAR_NAME','MIN_VALUE', 'MAX_VALUE', 'COUNT', 'EVENT', 'EVENT_RATE', 'NONEVENT', 'NON_EVENT_RATE', 'DIST_EVENT','DIST_NON_EVENT','WOE', 'IV']]       \n",
        "    d3 = d3.replace([np.inf, -np.inf], 0)\n",
        "    d3.IV = d3.IV.sum()\n",
        "    \n",
        "    return(d3)\n",
        "\n",
        "def char_bin(Y, X):\n",
        "        \n",
        "    df1 = pd.DataFrame({\"X\": X, \"Y\": Y})\n",
        "    justmiss = df1[['X','Y']][df1.X.isnull()]\n",
        "    notmiss = df1[['X','Y']][df1.X.notnull()]    \n",
        "    df2 = notmiss.groupby('X',as_index=True)\n",
        "    \n",
        "    d3 = pd.DataFrame({},index=[])\n",
        "    d3[\"COUNT\"] = df2.count().Y\n",
        "    d3[\"MIN_VALUE\"] = df2.sum().Y.index\n",
        "    d3[\"MAX_VALUE\"] = d3[\"MIN_VALUE\"]\n",
        "    d3[\"EVENT\"] = df2.sum().Y\n",
        "    d3[\"NONEVENT\"] = df2.count().Y - df2.sum().Y\n",
        "    \n",
        "    if len(justmiss.index) > 0:\n",
        "        d4 = pd.DataFrame({'MIN_VALUE':np.nan},index=[0])\n",
        "        d4[\"MAX_VALUE\"] = np.nan\n",
        "        d4[\"COUNT\"] = justmiss.count().Y\n",
        "        d4[\"EVENT\"] = justmiss.sum().Y\n",
        "        d4[\"NONEVENT\"] = justmiss.count().Y - justmiss.sum().Y\n",
        "        d3 = d3.append(d4,ignore_index=True)\n",
        "    \n",
        "    d3[\"EVENT_RATE\"] = d3.EVENT/d3.COUNT\n",
        "    d3[\"NON_EVENT_RATE\"] = d3.NONEVENT/d3.COUNT\n",
        "    d3[\"DIST_EVENT\"] = d3.EVENT/d3.sum().EVENT\n",
        "    d3[\"DIST_NON_EVENT\"] = d3.NONEVENT/d3.sum().NONEVENT\n",
        "    d3[\"WOE\"] = np.log(d3.DIST_EVENT/d3.DIST_NON_EVENT)\n",
        "    d3[\"IV\"] = (d3.DIST_EVENT-d3.DIST_NON_EVENT)*np.log(d3.DIST_EVENT/d3.DIST_NON_EVENT)\n",
        "    d3[\"VAR_NAME\"] = \"VAR\"\n",
        "    d3 = d3[['VAR_NAME','MIN_VALUE', 'MAX_VALUE', 'COUNT', 'EVENT', 'EVENT_RATE', 'NONEVENT', 'NON_EVENT_RATE', 'DIST_EVENT','DIST_NON_EVENT','WOE', 'IV']]      \n",
        "    d3 = d3.replace([np.inf, -np.inf], 0)\n",
        "    d3.IV = d3.IV.sum()\n",
        "    d3 = d3.reset_index(drop=True)\n",
        "    \n",
        "    return(d3)\n",
        "\n",
        "def data_vars(df1, target):\n",
        "    \n",
        "    stack = traceback.extract_stack()\n",
        "    filename, lineno, function_name, code = stack[-2]\n",
        "    vars_name = re.compile(r'\\((.*?)\\).*$').search(code).groups()[0]\n",
        "    final = (re.findall(r\"[\\w']+\", vars_name))[-1]\n",
        "    \n",
        "    x = df1.dtypes.index\n",
        "    count = -1\n",
        "    \n",
        "    for i in x:\n",
        "        if i.upper() not in (final.upper()):\n",
        "            if np.issubdtype(df1[i], np.number) and len(Series.unique(df1[i])) > 2:\n",
        "                conv = mono_bin(target, df1[i])\n",
        "                conv[\"VAR_NAME\"] = i\n",
        "                count = count + 1\n",
        "            else:\n",
        "                conv = char_bin(target, df1[i])\n",
        "                conv[\"VAR_NAME\"] = i            \n",
        "                count = count + 1\n",
        "                \n",
        "            if count == 0:\n",
        "                iv_df = conv\n",
        "            else:\n",
        "                iv_df = iv_df.append(conv,ignore_index=True)\n",
        "    \n",
        "    iv = pd.DataFrame({'IV':iv_df.groupby('VAR_NAME').IV.max()})\n",
        "    iv = iv.reset_index()\n",
        "    return(iv_df,iv)\n",
        "\n",
        "\n",
        "\n",
        "def Evaluate_Responses(clase = 0, ejercicio = 0):\n",
        "  cuaderno = 'https://docs.google.com/spreadsheets/d/1caMN10izIN2D5wF-QcEeDVgBKBoCwUu7KE6LgI1yugs/edit?usp=sharing'\n",
        "\n",
        "  \n",
        "  Estudiantes = [\"Leslie\", \"Ariel\", \"Mauricio\", \"Victor\", \"N_1\", \"Omar\"]\n",
        "\n",
        "  ws = gc.open('Clase 0 - Ejercicios')\n",
        "\n",
        "  print('Calificando...')\n",
        "  time.sleep(1)\n",
        "  for estudiante in Estudiantes:\n",
        "    existing_ = gd.get_as_dataframe(ws.worksheet(estudiante))\n",
        "    existing = existing_.copy()\n",
        "\n",
        "\n",
        "    existing = existing[[col for col in existing.columns if 'Unnamed:' not in col]][~np.isnan(existing.Clase)]\n",
        "    clase_hoy = existing[(existing['Ejercicio']==(ejercicio))&(existing['Clase']==(clase))]\n",
        "    # print(clase_hoy.shape)\n",
        "    r_list = ['from pandas import Series', 'pd.Series()', 'Leer el archivo', \"Cierto\"]\n",
        "    Resp = pd.DataFrame({'N. Pregunta':list(range(1,31)),'Respuesta_ok':r_list+['']*(30-len(r_list))}, index=range(30))\n",
        "    clase_hoy = clase_hoy.merge(Resp, on='N. Pregunta')\n",
        "    clase_hoy['Stars'] = [\"***\" if x == y else '**' if x==y.lower().replace('()','') else '*' for x, y in clase_hoy[['Respuesta','Respuesta_ok']].values]\n",
        "    clase_hoy['Puntos'] = [\"10\" if x == y else '6' if x==y.lower().replace('()','') else '3' for x, y in clase_hoy[['Respuesta','Respuesta_ok']].values]\n",
        "    clase_hoy = clase_hoy.drop(columns='Respuesta_ok')\n",
        "    # print(clase_hoy)\n",
        "    existing_.update(clase_hoy)\n",
        "\n",
        "    gd.set_with_dataframe(ws.worksheet(estudiante), existing_)\n",
        "\n",
        "  print('Oh, muy buen trabajo :)')\n",
        "  time.sleep(3)\n",
        "  print('Muy bonita letra estudiante número '+ str(int(random.random()*len(Estudiantes))))\n",
        "  time.sleep(2)\n",
        "  print('Buen trabajo, el algoritmo está orgulloso de ustedes!!!')"
      ],
      "metadata": {
        "id": "ud3ZKY4vpWSf"
      },
      "execution_count": null,
      "outputs": []
    },
    {
      "cell_type": "markdown",
      "source": [
        "Ejercicio 1:\n",
        "\n",
        "¿Qué debo escribir si quiero importar solamente la función *Series* desde la librería pandas?\n",
        "\n",
        "Si la librería pandas ya ha sido importada, ¿Cómo llamaría a la función *Series*?\n",
        "\n",
        "Doble click __aqui__ para ver la solución.\n",
        "\n",
        "<!-- Código ganador:\n",
        "\n",
        "from pandas import Series\n",
        "\n",
        "pd.Series()\n",
        "\n",
        "-->"
      ],
      "metadata": {
        "id": "ATpohtTaLx-8"
      }
    },
    {
      "cell_type": "code",
      "source": [
        "Evaluate_Responses(ejercicio = 1)"
      ],
      "metadata": {
        "colab": {
          "base_uri": "https://localhost:8080/"
        },
        "id": "9-ILystnMvRh",
        "outputId": "a88aecf9-4e31-460e-d634-730c3e7e9f29"
      },
      "execution_count": null,
      "outputs": [
        {
          "output_type": "stream",
          "name": "stdout",
          "text": [
            "Calificando...\n",
            "Oh, muy buen trabajo :)\n",
            "Muy bonita letra estudiante número 1\n",
            "Buen trabajo, el algoritmo está orgulloso de ustedes!!!\n"
          ]
        }
      ]
    },
    {
      "cell_type": "markdown",
      "source": [
        "#Lectura de datos\n",
        "\n",
        "Una vez importadas la herramientas necesarias para ejecutar el código, es necesario leer la información.\n",
        "\n",
        "<a href=\"https://www.linkedin.com/in/jose-carlos-del-valle/\"><img src=\"https://pbs.twimg.com/media/CiuVN84WkAAafFT.jpg\" width=240, align=\"center\"></a>"
      ],
      "metadata": {
        "id": "dMupOe6DqFEe"
      }
    },
    {
      "cell_type": "markdown",
      "source": [
        "Existen dos motivos por los que leo la informaión desde la carpeta:\n",
        "\n",
        "\n",
        "*   Trato de no comprometer la integridad de la computadora en caso de tener información maliciosa\n",
        "*   En caso de que la información esté distribuida en muchos archivos o ésta se disponibilice información diaria, semanal, mensual, etc. Es mucho más sencillo de productivizar\n",
        "\n"
      ],
      "metadata": {
        "id": "wmEVKBRytZ6S"
      }
    },
    {
      "cell_type": "code",
      "source": [
        "auth.authenticate_user()\n",
        "gauth = GoogleAuth()\n",
        "gauth.credentials = GoogleCredentials.get_application_default()\n",
        "drive = GoogleDrive(gauth)"
      ],
      "metadata": {
        "id": "6l3RSkcMqhKc"
      },
      "execution_count": null,
      "outputs": []
    },
    {
      "cell_type": "markdown",
      "source": [
        "Así como las casas tienen una dirección, los documentos también, y resulta mucho más seguro preguntar cuál es la dirección de un documento en lugar de descargarlo y resubirlo al entorno de Google Colab.\n",
        "\n",
        "Ventajas:\n",
        "\n",
        "*   Si el contenido cambia, todo estará completamente actualizado\n",
        "\n",
        "\n",
        "<a href=\"https://www.linkedin.com/in/jose-carlos-del-valle/\"><img src=\"https://www8.garmin.com/manuals/webhelp/drive40-50-60/Shared/GUID-3721E903-741E-4FC0-ACEE-CA0DBAE84ADF-high.jpg\" width=140, align=\"center\"></a>\n",
        "\n",
        "*   Para archivos grandes o que parezcan inseguros la máquina no corre peligro\n",
        "\n",
        "<a href=\"https://www.linkedin.com/in/jose-carlos-del-valle/\"><img src=\"https://www.segurilatam.com/wp-content/uploads/sites/5/2021/04/troyano-virus-900x600.jpg\" width=140, align=\"center\"></a>\n",
        "\n",
        "*   Lectura múltiple\n",
        "\n",
        "<a href=\"https://www.linkedin.com/in/jose-carlos-del-valle/\"><img src=\"https://static.tvtropes.org/pmwiki/pub/images/super_speed_reading.jpg\" width=140, align=\"center\"></a>\n",
        "\n",
        "\n"
      ],
      "metadata": {
        "id": "gkkqMINxUzTo"
      }
    },
    {
      "cell_type": "code",
      "source": [
        "url = 'https://drive.google.com/file/d/1e7xgUVzLwUuqUlapCnU-yFwd-pMI_eBK/view'\n",
        "id_ = url.split('/')[-2]\n",
        "\n",
        "# Toco la puerta para ver si hay alguien\n",
        "links = drive.CreateFile({'id':id_})\n",
        "\n",
        "# Si hay alguien (un zip) lo descomprimo para ver su interior\n",
        "links.GetContentFile('folder.zip',mimetype=links['mimeType'])\n",
        "with zipfile.ZipFile('folder.zip',\"r\") as zip_ref:\n",
        "  zip_ref.extractall()"
      ],
      "metadata": {
        "id": "V1Kr2RMMqfq4"
      },
      "execution_count": null,
      "outputs": []
    },
    {
      "cell_type": "code",
      "source": [
        "# Leo de uno por uno todo el contenido del zip\n",
        "docs = {}\n",
        "for archivo in zip_ref.namelist():\n",
        "  nombre_ar = archivo.split('/')[1].split('.')[0]\n",
        "  docs[nombre_ar] = pd.read_csv(archivo)"
      ],
      "metadata": {
        "id": "n5hF1lG5sVVl"
      },
      "execution_count": null,
      "outputs": []
    },
    {
      "cell_type": "code",
      "source": [
        "# entrenamiento y validación\n",
        "# docs['v'].head(), docs['e'].head()"
      ],
      "metadata": {
        "id": "XnztD1oStUxC"
      },
      "execution_count": null,
      "outputs": []
    },
    {
      "cell_type": "markdown",
      "source": [
        "Ejercicio 2:\n",
        "\n",
        "En el ejemplo anterior, ¿Qué objetivo tiene la función pd.read_csv? \n",
        "\n",
        "*Leer el archivo, *Descargar el archivo, *Borrar el archivo\n",
        "\n",
        "Doble click __aqui__ para ver la solución.\n",
        "\n",
        "<!-- Código ganador:\n",
        "\n",
        "Leer el archivo\n",
        "\n",
        "-->"
      ],
      "metadata": {
        "id": "_CVjzrqzWpwa"
      }
    },
    {
      "cell_type": "code",
      "source": [
        "# Evaluate_Responses(ejercicio = 2)"
      ],
      "metadata": {
        "id": "dOhJzkEiWpwb"
      },
      "execution_count": null,
      "outputs": []
    },
    {
      "cell_type": "markdown",
      "source": [
        "#Limpieza y calidad de datos\n",
        "\n",
        "Ya que se tiene la inforamción disponible, ahora hay que limpiarla\n",
        "\n",
        "<a href=\"https://www.linkedin.com/in/jose-carlos-del-valle/\"><img src=\"https://www.finereport.com/en/wp-content/uploads/2019/12/01.jpg\" width=340, align=\"center\"></a>\n"
      ],
      "metadata": {
        "id": "GF5yWzBxuoux"
      }
    },
    {
      "cell_type": "markdown",
      "source": [
        "En esta sección se garantiza que los datos existentes y aquellos nuevos que se extraigan cumplan con reglas de negocio previamente señaladas o en este caso, que la información tenga los formatos correspondientes"
      ],
      "metadata": {
        "id": "CS1f7Uk-uype"
      }
    },
    {
      "cell_type": "code",
      "source": [
        "col_validas_e = [col for col in docs['e'].columns if \"Unnamed:\" not in col]\n",
        "col_validas_v = [col for col in docs['v'].columns if \"Unnamed:\" not in col]"
      ],
      "metadata": {
        "id": "jBbcu9MUqLQN"
      },
      "execution_count": null,
      "outputs": []
    },
    {
      "cell_type": "markdown",
      "source": [
        "No utilizo drop dado que puede haber situaciones en donde sea más de una columna"
      ],
      "metadata": {
        "id": "ZOWTPFuCzmdw"
      }
    },
    {
      "cell_type": "code",
      "source": [
        "docs['e'] = docs['e'][col_validas_e]\n",
        "docs['v'] = docs['v'][col_validas_v]"
      ],
      "metadata": {
        "id": "ugVO3RZsvl3U"
      },
      "execution_count": null,
      "outputs": []
    },
    {
      "cell_type": "markdown",
      "source": [
        "Revisó que los formatos sean correctos y cambio el de aquellas columnas que puedan ser transformadad"
      ],
      "metadata": {
        "id": "PKLCcHFmxKTq"
      }
    },
    {
      "cell_type": "code",
      "source": [
        "docs['e'].info()"
      ],
      "metadata": {
        "colab": {
          "base_uri": "https://localhost:8080/"
        },
        "id": "u_F_FNgOxIw1",
        "outputId": "6d9c5d32-626a-46a9-aca2-54150317b253"
      },
      "execution_count": null,
      "outputs": [
        {
          "output_type": "stream",
          "name": "stdout",
          "text": [
            "<class 'pandas.core.frame.DataFrame'>\n",
            "RangeIndex: 249556 entries, 0 to 249555\n",
            "Data columns (total 8 columns):\n",
            " #   Column          Non-Null Count   Dtype \n",
            "---  ------          --------------   ----- \n",
            " 0   device_mac      249556 non-null  object\n",
            " 1   branch_office   249556 non-null  int64 \n",
            " 2   month_tz        249556 non-null  int64 \n",
            " 3   day_tz          249556 non-null  int64 \n",
            " 4   day_of_week_tz  249556 non-null  object\n",
            " 5   hour_tz         249556 non-null  int64 \n",
            " 6   visitor         249556 non-null  bool  \n",
            " 7   tiempodeses     249556 non-null  int64 \n",
            "dtypes: bool(1), int64(5), object(2)\n",
            "memory usage: 13.6+ MB\n"
          ]
        }
      ]
    },
    {
      "cell_type": "code",
      "source": [
        "docs['e'].loc[:,'day_of_week_tz'] = docs['e']['day_of_week_tz'].apply(lambda x: time.strptime(x.lower(), \"%A\").tm_wday)\n",
        "docs['e'].loc[:,'visitor'] = docs['e']['visitor'].apply(lambda x: int(x))"
      ],
      "metadata": {
        "id": "_7imzk9ywg1E"
      },
      "execution_count": null,
      "outputs": []
    },
    {
      "cell_type": "code",
      "source": [
        "docs['v'].info()"
      ],
      "metadata": {
        "colab": {
          "base_uri": "https://localhost:8080/"
        },
        "id": "KYBq8JVAy2TF",
        "outputId": "891ac9d2-1061-43ff-aa96-3e8976f21ccf"
      },
      "execution_count": null,
      "outputs": [
        {
          "output_type": "stream",
          "name": "stdout",
          "text": [
            "<class 'pandas.core.frame.DataFrame'>\n",
            "RangeIndex: 90000 entries, 0 to 89999\n",
            "Data columns (total 7 columns):\n",
            " #   Column          Non-Null Count  Dtype \n",
            "---  ------          --------------  ----- \n",
            " 0   device_mac      90000 non-null  object\n",
            " 1   branch_office   90000 non-null  int64 \n",
            " 2   month_tz        90000 non-null  int64 \n",
            " 3   day_tz          90000 non-null  int64 \n",
            " 4   day_of_week_tz  90000 non-null  object\n",
            " 5   hour_tz         90000 non-null  int64 \n",
            " 6   tiempodeses     90000 non-null  int64 \n",
            "dtypes: int64(5), object(2)\n",
            "memory usage: 4.8+ MB\n"
          ]
        }
      ]
    },
    {
      "cell_type": "code",
      "source": [
        "docs['v'].loc[:,'day_of_week_tz'] = docs['v']['day_of_week_tz'].apply(lambda x: time.strptime(x.lower(), \"%A\").tm_wday)"
      ],
      "metadata": {
        "id": "t-f3WiM8zwvI"
      },
      "execution_count": null,
      "outputs": []
    },
    {
      "cell_type": "markdown",
      "source": [
        "No hay valores nulos por lo que no es necesario imputar datos ni eliminar columnas y dado que no se tiene la información de los minutos, asumo que los valores repetidos representan dos inicios de sesión que duraron el mismo tiempo en la misma hora"
      ],
      "metadata": {
        "id": "P_DOIh990DHc"
      }
    },
    {
      "cell_type": "markdown",
      "source": [
        "Las variables categóricas ya han sido debidamente transforamdas, no hay necesidad de hacer one hot encoding u otra técnica de discretización"
      ],
      "metadata": {
        "id": "mVR5-zV7kK_K"
      }
    },
    {
      "cell_type": "markdown",
      "source": [
        "Ejercicio 3:\n",
        "\n",
        "¿Por medio del atributo \".info()\" se puede determinar si hay que inputar datos? \n",
        "\n",
        "*Cierto, *Falso\n",
        "\n",
        "Doble click __aqui__ para ver la solución.\n",
        "\n",
        "<!-- Código ganador:\n",
        "\n",
        "Cierto\n",
        "\n",
        "-->"
      ],
      "metadata": {
        "id": "UgPf6YRdfRi1"
      }
    },
    {
      "cell_type": "code",
      "source": [
        "# Evaluate_Responses(ejercicio = 3)"
      ],
      "metadata": {
        "id": "m1oN6jvQfRi1"
      },
      "execution_count": null,
      "outputs": []
    },
    {
      "cell_type": "markdown",
      "source": [
        "# Feature Engeineering y Análisis exploratorio de datos (EDA)\n",
        "\n",
        "El siguiente paso es sumergirnos en los datos, agregar nuevas variables y ver el comportamiento de los mismos\n",
        "\n",
        "<a href=\"https://www.linkedin.com/in/jose-carlos-del-valle/\"><img src=\"https://cdn.themedizine.com/2019/06/1EDE9492-9029-4088-B6B3-F9E410183196-1000x538.jpeg\" width=340, align=\"center\"></a>\n",
        "\n",
        "\n"
      ],
      "metadata": {
        "id": "2f7bRt5surgw"
      }
    },
    {
      "cell_type": "markdown",
      "source": [
        "Distribución de los visitantes"
      ],
      "metadata": {
        "id": "nh3AVCau36Wg"
      }
    },
    {
      "cell_type": "markdown",
      "source": [
        "Tomo una muestra del 25% para visualizar los plots y me aseguro que las distribuciones en ambos conjuntos de datos coincidan"
      ],
      "metadata": {
        "id": "WQBBJ3c5XCjD"
      }
    },
    {
      "cell_type": "code",
      "source": [
        "muestra_s1 = int(docs['e'].shape[0]/4)\n",
        "muestra_s2 = int(docs['v'].shape[0]/4)"
      ],
      "metadata": {
        "id": "ub2ocxb6hfOO"
      },
      "execution_count": null,
      "outputs": []
    },
    {
      "cell_type": "code",
      "source": [
        "var_cont = [c for c in docs['e'].columns if c not in 'device_mac']\n",
        "\n",
        "for col in var_cont:\n",
        "  muestra = docs['e'][col].sample(muestra_s1)\n",
        "  sns.distplot(muestra)\n",
        "  if col == 'visitor':\n",
        "    plt.show()\n",
        "    continue\n",
        "  muestra_v = docs['v'][col].sample(muestra_s2)\n",
        "  sns.distplot(muestra_v)\n",
        "  plt.show()"
      ],
      "metadata": {
        "colab": {
          "base_uri": "https://localhost:8080/",
          "height": 1000
        },
        "id": "Zzdj01LJgWDe",
        "outputId": "b3f4077d-f719-4856-b51a-5e946c039fc9"
      },
      "execution_count": null,
      "outputs": [
        {
          "output_type": "stream",
          "name": "stderr",
          "text": [
            "/usr/local/lib/python3.7/dist-packages/seaborn/distributions.py:2619: FutureWarning: `distplot` is a deprecated function and will be removed in a future version. Please adapt your code to use either `displot` (a figure-level function with similar flexibility) or `histplot` (an axes-level function for histograms).\n",
            "  warnings.warn(msg, FutureWarning)\n",
            "/usr/local/lib/python3.7/dist-packages/seaborn/distributions.py:2619: FutureWarning: `distplot` is a deprecated function and will be removed in a future version. Please adapt your code to use either `displot` (a figure-level function with similar flexibility) or `histplot` (an axes-level function for histograms).\n",
            "  warnings.warn(msg, FutureWarning)\n"
          ]
        },
        {
          "output_type": "display_data",
          "data": {
            "image/png": "[encoded data removed]",
            "text/plain": [
              "<Figure size 432x288 with 1 Axes>"
            ]
          },
          "metadata": {
            "needs_background": "light"
          }
        },
        {
          "output_type": "stream",
          "name": "stderr",
          "text": [
            "/usr/local/lib/python3.7/dist-packages/seaborn/distributions.py:2619: FutureWarning: `distplot` is a deprecated function and will be removed in a future version. Please adapt your code to use either `displot` (a figure-level function with similar flexibility) or `histplot` (an axes-level function for histograms).\n",
            "  warnings.warn(msg, FutureWarning)\n",
            "/usr/local/lib/python3.7/dist-packages/seaborn/distributions.py:2619: FutureWarning: `distplot` is a deprecated function and will be removed in a future version. Please adapt your code to use either `displot` (a figure-level function with similar flexibility) or `histplot` (an axes-level function for histograms).\n",
            "  warnings.warn(msg, FutureWarning)\n"
          ]
        },
        {
          "output_type": "display_data",
          "data": {
            "image/png": "[encoded data removed]",
            "text/plain": [
              "<Figure size 432x288 with 1 Axes>"
            ]
          },
          "metadata": {
            "needs_background": "light"
          }
        },
        {
          "output_type": "stream",
          "name": "stderr",
          "text": [
            "/usr/local/lib/python3.7/dist-packages/seaborn/distributions.py:2619: FutureWarning: `distplot` is a deprecated function and will be removed in a future version. Please adapt your code to use either `displot` (a figure-level function with similar flexibility) or `histplot` (an axes-level function for histograms).\n",
            "  warnings.warn(msg, FutureWarning)\n",
            "/usr/local/lib/python3.7/dist-packages/seaborn/distributions.py:2619: FutureWarning: `distplot` is a deprecated function and will be removed in a future version. Please adapt your code to use either `displot` (a figure-level function with similar flexibility) or `histplot` (an axes-level function for histograms).\n",
            "  warnings.warn(msg, FutureWarning)\n"
          ]
        },
        {
          "output_type": "display_data",
          "data": {
            "image/png": "[encoded data removed]",
            "text/plain": [
              "<Figure size 432x288 with 1 Axes>"
            ]
          },
          "metadata": {
            "needs_background": "light"
          }
        },
        {
          "output_type": "stream",
          "name": "stderr",
          "text": [
            "/usr/local/lib/python3.7/dist-packages/seaborn/distributions.py:2619: FutureWarning: `distplot` is a deprecated function and will be removed in a future version. Please adapt your code to use either `displot` (a figure-level function with similar flexibility) or `histplot` (an axes-level function for histograms).\n",
            "  warnings.warn(msg, FutureWarning)\n",
            "/usr/local/lib/python3.7/dist-packages/seaborn/distributions.py:2619: FutureWarning: `distplot` is a deprecated function and will be removed in a future version. Please adapt your code to use either `displot` (a figure-level function with similar flexibility) or `histplot` (an axes-level function for histograms).\n",
            "  warnings.warn(msg, FutureWarning)\n"
          ]
        },
        {
          "output_type": "display_data",
          "data": {
            "image/png": "[encoded data removed]",
            "text/plain": [
              "<Figure size 432x288 with 1 Axes>"
            ]
          },
          "metadata": {
            "needs_background": "light"
          }
        },
        {
          "output_type": "stream",
          "name": "stderr",
          "text": [
            "/usr/local/lib/python3.7/dist-packages/seaborn/distributions.py:2619: FutureWarning: `distplot` is a deprecated function and will be removed in a future version. Please adapt your code to use either `displot` (a figure-level function with similar flexibility) or `histplot` (an axes-level function for histograms).\n",
            "  warnings.warn(msg, FutureWarning)\n",
            "/usr/local/lib/python3.7/dist-packages/seaborn/distributions.py:2619: FutureWarning: `distplot` is a deprecated function and will be removed in a future version. Please adapt your code to use either `displot` (a figure-level function with similar flexibility) or `histplot` (an axes-level function for histograms).\n",
            "  warnings.warn(msg, FutureWarning)\n"
          ]
        },
        {
          "output_type": "display_data",
          "data": {
            "image/png": "[encoded data removed]",
            "text/plain": [
              "<Figure size 432x288 with 1 Axes>"
            ]
          },
          "metadata": {
            "needs_background": "light"
          }
        },
        {
          "output_type": "stream",
          "name": "stderr",
          "text": [
            "/usr/local/lib/python3.7/dist-packages/seaborn/distributions.py:2619: FutureWarning: `distplot` is a deprecated function and will be removed in a future version. Please adapt your code to use either `displot` (a figure-level function with similar flexibility) or `histplot` (an axes-level function for histograms).\n",
            "  warnings.warn(msg, FutureWarning)\n"
          ]
        },
        {
          "output_type": "display_data",
          "data": {
            "image/png": "[encoded data removed]",
            "text/plain": [
              "<Figure size 432x288 with 1 Axes>"
            ]
          },
          "metadata": {
            "needs_background": "light"
          }
        },
        {
          "output_type": "stream",
          "name": "stderr",
          "text": [
            "/usr/local/lib/python3.7/dist-packages/seaborn/distributions.py:2619: FutureWarning: `distplot` is a deprecated function and will be removed in a future version. Please adapt your code to use either `displot` (a figure-level function with similar flexibility) or `histplot` (an axes-level function for histograms).\n",
            "  warnings.warn(msg, FutureWarning)\n",
            "/usr/local/lib/python3.7/dist-packages/seaborn/distributions.py:2619: FutureWarning: `distplot` is a deprecated function and will be removed in a future version. Please adapt your code to use either `displot` (a figure-level function with similar flexibility) or `histplot` (an axes-level function for histograms).\n",
            "  warnings.warn(msg, FutureWarning)\n"
          ]
        },
        {
          "output_type": "display_data",
          "data": {
            "image/png": "[encoded data removed]",
            "text/plain": [
              "<Figure size 432x288 with 1 Axes>"
            ]
          },
          "metadata": {
            "needs_background": "light"
          }
        }
      ]
    },
    {
      "cell_type": "markdown",
      "source": [
        "Ahora nos toca indagar en los datos observados\n",
        "\n",
        "<a href=\"https://www.linkedin.com/in/jose-carlos-del-valle/\"><img src=\"https://sm.ign.com/ign_es/screenshot/default/maxresdefault_tdsu.jpg\" width=340, align=\"center\"></a>\n",
        "\n",
        "\n",
        "*   Reviso que no haya un desbalance en la cantidad de 0's y 1's, de haberlo podría necesario hacer bagging u oversampling\n",
        "\n",
        "*   Reviso si la inforamción temporal corresponde a distintos periodos de tiempo\n",
        "\n",
        "*   Veo que hay una caida de casos los últimos\n",
        "\n",
        "\n",
        "\n",
        "\n"
      ],
      "metadata": {
        "id": "bHNPpx6HhOL4"
      }
    },
    {
      "cell_type": "markdown",
      "source": [
        "Agregar información que podría ser relevante temporal (inicios en temporalidades anteriores)"
      ],
      "metadata": {
        "id": "CROntXO64kK6"
      }
    },
    {
      "cell_type": "markdown",
      "source": [
        "## Feature Eneineering"
      ],
      "metadata": {
        "id": "yUE1y63Rhyga"
      }
    },
    {
      "cell_type": "markdown",
      "source": [
        "Dada la ventana temporal que se tiene y que la información del entrenamiento, voy a decidir separar en análisis en dos secciones:\n",
        "\n",
        "*   Sin información previa (1 semana)\n",
        "*   Con información previa (después de la primera semana)\n",
        "\n",
        "El motivo del porqué se hace esto, es debido a que tener información de hasta 7 días puede aportar una mejora significativa para las variables que cumplen con esta característica"
      ],
      "metadata": {
        "id": "4eE2rz-vLHQP"
      }
    },
    {
      "cell_type": "markdown",
      "source": [
        "Después de observar las distribuciones, se agregarán variables que puedan identificar los picos y valles en la distribución para el set de entrenamiento y validación"
      ],
      "metadata": {
        "id": "ZFJEoby5VxAg"
      }
    },
    {
      "cell_type": "code",
      "source": [
        "for set_ in ['e','v']:\n",
        "  docs[set_].loc[:,'date'] = pd.to_datetime('2021-' + docs[set_]['month_tz'].astype(str)+'-'+docs[set_]['day_tz'].astype(str))\n",
        "  docs[set_].loc[:,'ayer'] = docs[set_]['date'].apply(lambda x: x-timedelta(days=1))\n",
        "  docs[set_].loc[:,'antier'] = docs[set_]['date'].apply(lambda x: x-timedelta(days=2))\n",
        "  docs[set_].loc[:,'hace7dias'] = docs[set_]['date'].apply(lambda x: x-timedelta(days=7))\n",
        "  docs[set_].loc[:,'madrugada'] = docs[set_]['hour_tz'].apply(lambda x: int(x<7))\n",
        "  docs[set_].loc[:,'ult_dias_semana'] = docs[set_]['day_of_week_tz'].apply(lambda x: int(x>=4))\n",
        "  docs[set_].loc[:,'dias_mes1'] = docs[set_]['day_tz'].apply(lambda x: int(x>=17)+int(x<=23))\n",
        "\n",
        "  docs[set_].loc[:,'semana_anio'] = docs[set_]['date'].apply(lambda x: x.weekofyear)\n",
        "  docs[set_].loc[:,'semana_pasada'] = docs[set_]['semana_anio'].apply(lambda x: x-1)"
      ],
      "metadata": {
        "id": "y8f1ks8c71Ju"
      },
      "execution_count": null,
      "outputs": []
    },
    {
      "cell_type": "markdown",
      "source": [
        "Veamos si hace sentido agregar información de inicios de sesión anteriores"
      ],
      "metadata": {
        "id": "05IyKsNq6jYQ"
      }
    },
    {
      "cell_type": "code",
      "source": [
        "docs['e'][['device_mac','date']].value_counts()"
      ],
      "metadata": {
        "colab": {
          "base_uri": "https://localhost:8080/"
        },
        "id": "ZLkyV-LW6iYX",
        "outputId": "50ecf46e-668c-4097-f3bb-a9e68ac46c53"
      },
      "execution_count": null,
      "outputs": [
        {
          "output_type": "execute_result",
          "data": {
            "text/plain": [
              "device_mac         date      \n",
              "00:23:68:b2:58:a7  2021-11-03    22\n",
              "8c:0c:90:12:dd:68  2021-11-02    22\n",
              "78:ac:c0:8c:38:46  2021-10-27    22\n",
              "                   2021-11-14    22\n",
              "00:20:00:94:8e:d3  2021-11-05    22\n",
              "                                 ..\n",
              "94:b1:0a:bb:ed:e6  2021-11-14     1\n",
              "94:b1:0a:bb:ed:c8  2021-11-27     1\n",
              "94:b1:0a:bb:ed:64  2021-11-09     1\n",
              "94:b1:0a:bb:eb:88  2021-11-09     1\n",
              "84:38:38:17:3a:0c  2021-10-28     1\n",
              "Length: 187273, dtype: int64"
            ]
          },
          "metadata": {},
          "execution_count": 29
        }
      ]
    },
    {
      "cell_type": "markdown",
      "source": [
        "Dado que hay casos como 78:ac:c0:8c:38:46 que tienen más de una fecha, es posible que esto sea un indicador de importancia"
      ],
      "metadata": {
        "id": "sFBFynup6upr"
      }
    },
    {
      "cell_type": "markdown",
      "source": [
        "Agregar información de acuerdo al dispositivo"
      ],
      "metadata": {
        "id": "htNwjPQGZ0UA"
      }
    },
    {
      "cell_type": "code",
      "source": [
        "for set_ in ['e','v']:\n",
        "  docs[set_]['name_len'] = docs[set_]['device_mac'].apply(lambda x: len(x))"
      ],
      "metadata": {
        "id": "XoGDSpUZY-UD"
      },
      "execution_count": null,
      "outputs": []
    },
    {
      "cell_type": "markdown",
      "source": [
        "Número de inicios de sesión diaria en horas distintas, esta información se utilizará para hacer merge sobre días anteriores, pues no tendría sentido conocer la inforamción del día si no estamos seguros si este ha terminado o no (dada la naturaleza de los datos)"
      ],
      "metadata": {
        "id": "501O29CE79_m"
      }
    },
    {
      "cell_type": "code",
      "source": [
        "for set_ in ['e','v']:\n",
        "  for tiempos in ['ayer', 'antier', 'hace7dias', 'semana_pasada']:\n",
        "    print(tiempos)\n",
        "    # Agrego con distintos estadísticos\n",
        "    e_agg = pd.pivot_table(docs[set_], \n",
        "                          index = ['device_mac',tiempos],\n",
        "                          aggfunc=[len,'sum','mean','max','min'], values = ['tiempodeses']).reset_index()\n",
        "    \n",
        "    # Cambio la estructura de las columnas para que no haya errores al entrenar el modelo\n",
        "    e_agg.columns = [col[0]+'_'+col[1]+'_'+tiempos if len(col)==2 else col for col in e_agg.columns]\n",
        "\n",
        "    # Agrego las nuevas columnas de los inicios de sesión anteriores, coloco un left join en caso de que el usuario\n",
        "    # no haya tenido actividad la semana pasada \n",
        "    if tiempos=='semana_pasada':\n",
        "      tiemo_key = 'semana_anio'\n",
        "    else:\n",
        "      tiemo_key = 'date'\n",
        "    \n",
        "    docs[set_] = docs[set_].merge(e_agg, left_on = ['device_mac',tiemo_key], right_on=['device_mac__'+tiempos,tiempos+'__'+tiempos], how='left')\n",
        "    "
      ],
      "metadata": {
        "id": "XbTZxAKa44hR",
        "colab": {
          "base_uri": "https://localhost:8080/"
        },
        "outputId": "4023fae2-ef57-48c8-b468-613664062ade"
      },
      "execution_count": null,
      "outputs": [
        {
          "output_type": "stream",
          "name": "stdout",
          "text": [
            "ayer\n",
            "antier\n",
            "hace7dias\n",
            "semana_pasada\n",
            "ayer\n",
            "antier\n",
            "hace7dias\n",
            "semana_pasada\n"
          ]
        }
      ]
    },
    {
      "cell_type": "markdown",
      "source": [
        "Elimino las llaves"
      ],
      "metadata": {
        "id": "xZYJjc8h6S-8"
      }
    },
    {
      "cell_type": "code",
      "source": [
        "for set_ in ['e','v']:\n",
        "  docs[set_].drop(columns=['ayer','antier','hace7dias'], inplace=True)\n",
        "  docs[set_] = docs[set_][[col for col in docs[set_].columns if '__' not in col or col not in ['ayer','antier','hace7dias']]]"
      ],
      "metadata": {
        "id": "ugCcRaji7fPM"
      },
      "execution_count": null,
      "outputs": []
    },
    {
      "cell_type": "code",
      "source": [
        "docs[set_]"
      ],
      "metadata": {
        "colab": {
          "base_uri": "https://localhost:8080/",
          "height": 661
        },
        "id": "XijPYrST8EMT",
        "outputId": "86b1da1f-0848-4d20-d698-ca82f350b530"
      },
      "execution_count": null,
      "outputs": [
        {
          "output_type": "execute_result",
          "data": {
            "text/html": [
              "\n",
              "  <div id=\"df-bef570ad-82dc-4664-b26d-857976ef4714\">\n",
              "    <div class=\"colab-df-container\">\n",
              "      <div>\n",
              "<style scoped>\n",
              "    .dataframe tbody tr th:only-of-type {\n",
              "        vertical-align: middle;\n",
              "    }\n",
              "\n",
              "    .dataframe tbody tr th {\n",
              "        vertical-align: top;\n",
              "    }\n",
              "\n",
              "    .dataframe thead th {\n",
              "        text-align: right;\n",
              "    }\n",
              "</style>\n",
              "<table border=\"1\" class=\"dataframe\">\n",
              "  <thead>\n",
              "    <tr style=\"text-align: right;\">\n",
              "      <th></th>\n",
              "      <th>device_mac</th>\n",
              "      <th>branch_office</th>\n",
              "      <th>month_tz</th>\n",
              "      <th>day_tz</th>\n",
              "      <th>day_of_week_tz</th>\n",
              "      <th>hour_tz</th>\n",
              "      <th>tiempodeses</th>\n",
              "      <th>date</th>\n",
              "      <th>madrugada</th>\n",
              "      <th>ult_dias_semana</th>\n",
              "      <th>dias_mes1</th>\n",
              "      <th>semana_anio</th>\n",
              "      <th>semana_pasada</th>\n",
              "      <th>name_len</th>\n",
              "      <th>device_mac__ayer</th>\n",
              "      <th>ayer__ayer</th>\n",
              "      <th>len_tiempodeses_ayer</th>\n",
              "      <th>sum_tiempodeses_ayer</th>\n",
              "      <th>mean_tiempodeses_ayer</th>\n",
              "      <th>max_tiempodeses_ayer</th>\n",
              "      <th>min_tiempodeses_ayer</th>\n",
              "      <th>device_mac__antier</th>\n",
              "      <th>antier__antier</th>\n",
              "      <th>len_tiempodeses_antier</th>\n",
              "      <th>sum_tiempodeses_antier</th>\n",
              "      <th>mean_tiempodeses_antier</th>\n",
              "      <th>max_tiempodeses_antier</th>\n",
              "      <th>min_tiempodeses_antier</th>\n",
              "      <th>device_mac__hace7dias</th>\n",
              "      <th>hace7dias__hace7dias</th>\n",
              "      <th>len_tiempodeses_hace7dias</th>\n",
              "      <th>sum_tiempodeses_hace7dias</th>\n",
              "      <th>mean_tiempodeses_hace7dias</th>\n",
              "      <th>max_tiempodeses_hace7dias</th>\n",
              "      <th>min_tiempodeses_hace7dias</th>\n",
              "      <th>device_mac__semana_pasada</th>\n",
              "      <th>semana_pasada__semana_pasada</th>\n",
              "      <th>len_tiempodeses_semana_pasada</th>\n",
              "      <th>sum_tiempodeses_semana_pasada</th>\n",
              "      <th>mean_tiempodeses_semana_pasada</th>\n",
              "      <th>max_tiempodeses_semana_pasada</th>\n",
              "      <th>min_tiempodeses_semana_pasada</th>\n",
              "    </tr>\n",
              "  </thead>\n",
              "  <tbody>\n",
              "    <tr>\n",
              "      <th>0</th>\n",
              "      <td>a8:81:95:56:31:3c</td>\n",
              "      <td>1</td>\n",
              "      <td>11</td>\n",
              "      <td>17</td>\n",
              "      <td>3</td>\n",
              "      <td>4</td>\n",
              "      <td>0</td>\n",
              "      <td>2021-11-17</td>\n",
              "      <td>1</td>\n",
              "      <td>0</td>\n",
              "      <td>2</td>\n",
              "      <td>46</td>\n",
              "      <td>45</td>\n",
              "      <td>17</td>\n",
              "      <td>NaN</td>\n",
              "      <td>NaT</td>\n",
              "      <td>NaN</td>\n",
              "      <td>NaN</td>\n",
              "      <td>NaN</td>\n",
              "      <td>NaN</td>\n",
              "      <td>NaN</td>\n",
              "      <td>NaN</td>\n",
              "      <td>NaT</td>\n",
              "      <td>NaN</td>\n",
              "      <td>NaN</td>\n",
              "      <td>NaN</td>\n",
              "      <td>NaN</td>\n",
              "      <td>NaN</td>\n",
              "      <td>NaN</td>\n",
              "      <td>NaT</td>\n",
              "      <td>NaN</td>\n",
              "      <td>NaN</td>\n",
              "      <td>NaN</td>\n",
              "      <td>NaN</td>\n",
              "      <td>NaN</td>\n",
              "      <td>NaN</td>\n",
              "      <td>NaN</td>\n",
              "      <td>NaN</td>\n",
              "      <td>NaN</td>\n",
              "      <td>NaN</td>\n",
              "      <td>NaN</td>\n",
              "      <td>NaN</td>\n",
              "    </tr>\n",
              "    <tr>\n",
              "      <th>1</th>\n",
              "      <td>44:6e:e5:1b:68:81</td>\n",
              "      <td>3</td>\n",
              "      <td>11</td>\n",
              "      <td>3</td>\n",
              "      <td>3</td>\n",
              "      <td>22</td>\n",
              "      <td>477</td>\n",
              "      <td>2021-11-03</td>\n",
              "      <td>0</td>\n",
              "      <td>0</td>\n",
              "      <td>1</td>\n",
              "      <td>44</td>\n",
              "      <td>43</td>\n",
              "      <td>17</td>\n",
              "      <td>NaN</td>\n",
              "      <td>NaT</td>\n",
              "      <td>NaN</td>\n",
              "      <td>NaN</td>\n",
              "      <td>NaN</td>\n",
              "      <td>NaN</td>\n",
              "      <td>NaN</td>\n",
              "      <td>44:6e:e5:1b:68:81</td>\n",
              "      <td>2021-11-03</td>\n",
              "      <td>1.0</td>\n",
              "      <td>3.0</td>\n",
              "      <td>3.0</td>\n",
              "      <td>3.0</td>\n",
              "      <td>3.0</td>\n",
              "      <td>NaN</td>\n",
              "      <td>NaT</td>\n",
              "      <td>NaN</td>\n",
              "      <td>NaN</td>\n",
              "      <td>NaN</td>\n",
              "      <td>NaN</td>\n",
              "      <td>NaN</td>\n",
              "      <td>NaN</td>\n",
              "      <td>NaN</td>\n",
              "      <td>NaN</td>\n",
              "      <td>NaN</td>\n",
              "      <td>NaN</td>\n",
              "      <td>NaN</td>\n",
              "      <td>NaN</td>\n",
              "    </tr>\n",
              "    <tr>\n",
              "      <th>2</th>\n",
              "      <td>0c:b3:19:10:78:17</td>\n",
              "      <td>3</td>\n",
              "      <td>11</td>\n",
              "      <td>12</td>\n",
              "      <td>5</td>\n",
              "      <td>10</td>\n",
              "      <td>0</td>\n",
              "      <td>2021-11-12</td>\n",
              "      <td>0</td>\n",
              "      <td>1</td>\n",
              "      <td>1</td>\n",
              "      <td>45</td>\n",
              "      <td>44</td>\n",
              "      <td>17</td>\n",
              "      <td>NaN</td>\n",
              "      <td>NaT</td>\n",
              "      <td>NaN</td>\n",
              "      <td>NaN</td>\n",
              "      <td>NaN</td>\n",
              "      <td>NaN</td>\n",
              "      <td>NaN</td>\n",
              "      <td>NaN</td>\n",
              "      <td>NaT</td>\n",
              "      <td>NaN</td>\n",
              "      <td>NaN</td>\n",
              "      <td>NaN</td>\n",
              "      <td>NaN</td>\n",
              "      <td>NaN</td>\n",
              "      <td>NaN</td>\n",
              "      <td>NaT</td>\n",
              "      <td>NaN</td>\n",
              "      <td>NaN</td>\n",
              "      <td>NaN</td>\n",
              "      <td>NaN</td>\n",
              "      <td>NaN</td>\n",
              "      <td>NaN</td>\n",
              "      <td>NaN</td>\n",
              "      <td>NaN</td>\n",
              "      <td>NaN</td>\n",
              "      <td>NaN</td>\n",
              "      <td>NaN</td>\n",
              "      <td>NaN</td>\n",
              "    </tr>\n",
              "    <tr>\n",
              "      <th>3</th>\n",
              "      <td>44:74:6c:0a:20:23</td>\n",
              "      <td>3</td>\n",
              "      <td>11</td>\n",
              "      <td>27</td>\n",
              "      <td>6</td>\n",
              "      <td>21</td>\n",
              "      <td>0</td>\n",
              "      <td>2021-11-27</td>\n",
              "      <td>0</td>\n",
              "      <td>1</td>\n",
              "      <td>1</td>\n",
              "      <td>47</td>\n",
              "      <td>46</td>\n",
              "      <td>17</td>\n",
              "      <td>NaN</td>\n",
              "      <td>NaT</td>\n",
              "      <td>NaN</td>\n",
              "      <td>NaN</td>\n",
              "      <td>NaN</td>\n",
              "      <td>NaN</td>\n",
              "      <td>NaN</td>\n",
              "      <td>NaN</td>\n",
              "      <td>NaT</td>\n",
              "      <td>NaN</td>\n",
              "      <td>NaN</td>\n",
              "      <td>NaN</td>\n",
              "      <td>NaN</td>\n",
              "      <td>NaN</td>\n",
              "      <td>NaN</td>\n",
              "      <td>NaT</td>\n",
              "      <td>NaN</td>\n",
              "      <td>NaN</td>\n",
              "      <td>NaN</td>\n",
              "      <td>NaN</td>\n",
              "      <td>NaN</td>\n",
              "      <td>NaN</td>\n",
              "      <td>NaN</td>\n",
              "      <td>NaN</td>\n",
              "      <td>NaN</td>\n",
              "      <td>NaN</td>\n",
              "      <td>NaN</td>\n",
              "      <td>NaN</td>\n",
              "    </tr>\n",
              "    <tr>\n",
              "      <th>4</th>\n",
              "      <td>ac:5f:3e:c8:dc:35</td>\n",
              "      <td>1</td>\n",
              "      <td>11</td>\n",
              "      <td>27</td>\n",
              "      <td>6</td>\n",
              "      <td>16</td>\n",
              "      <td>0</td>\n",
              "      <td>2021-11-27</td>\n",
              "      <td>0</td>\n",
              "      <td>1</td>\n",
              "      <td>1</td>\n",
              "      <td>47</td>\n",
              "      <td>46</td>\n",
              "      <td>17</td>\n",
              "      <td>NaN</td>\n",
              "      <td>NaT</td>\n",
              "      <td>NaN</td>\n",
              "      <td>NaN</td>\n",
              "      <td>NaN</td>\n",
              "      <td>NaN</td>\n",
              "      <td>NaN</td>\n",
              "      <td>NaN</td>\n",
              "      <td>NaT</td>\n",
              "      <td>NaN</td>\n",
              "      <td>NaN</td>\n",
              "      <td>NaN</td>\n",
              "      <td>NaN</td>\n",
              "      <td>NaN</td>\n",
              "      <td>NaN</td>\n",
              "      <td>NaT</td>\n",
              "      <td>NaN</td>\n",
              "      <td>NaN</td>\n",
              "      <td>NaN</td>\n",
              "      <td>NaN</td>\n",
              "      <td>NaN</td>\n",
              "      <td>NaN</td>\n",
              "      <td>NaN</td>\n",
              "      <td>NaN</td>\n",
              "      <td>NaN</td>\n",
              "      <td>NaN</td>\n",
              "      <td>NaN</td>\n",
              "      <td>NaN</td>\n",
              "    </tr>\n",
              "    <tr>\n",
              "      <th>...</th>\n",
              "      <td>...</td>\n",
              "      <td>...</td>\n",
              "      <td>...</td>\n",
              "      <td>...</td>\n",
              "      <td>...</td>\n",
              "      <td>...</td>\n",
              "      <td>...</td>\n",
              "      <td>...</td>\n",
              "      <td>...</td>\n",
              "      <td>...</td>\n",
              "      <td>...</td>\n",
              "      <td>...</td>\n",
              "      <td>...</td>\n",
              "      <td>...</td>\n",
              "      <td>...</td>\n",
              "      <td>...</td>\n",
              "      <td>...</td>\n",
              "      <td>...</td>\n",
              "      <td>...</td>\n",
              "      <td>...</td>\n",
              "      <td>...</td>\n",
              "      <td>...</td>\n",
              "      <td>...</td>\n",
              "      <td>...</td>\n",
              "      <td>...</td>\n",
              "      <td>...</td>\n",
              "      <td>...</td>\n",
              "      <td>...</td>\n",
              "      <td>...</td>\n",
              "      <td>...</td>\n",
              "      <td>...</td>\n",
              "      <td>...</td>\n",
              "      <td>...</td>\n",
              "      <td>...</td>\n",
              "      <td>...</td>\n",
              "      <td>...</td>\n",
              "      <td>...</td>\n",
              "      <td>...</td>\n",
              "      <td>...</td>\n",
              "      <td>...</td>\n",
              "      <td>...</td>\n",
              "      <td>...</td>\n",
              "    </tr>\n",
              "    <tr>\n",
              "      <th>89995</th>\n",
              "      <td>44:74:6c:cc:85:28</td>\n",
              "      <td>1</td>\n",
              "      <td>11</td>\n",
              "      <td>29</td>\n",
              "      <td>1</td>\n",
              "      <td>18</td>\n",
              "      <td>530</td>\n",
              "      <td>2021-11-29</td>\n",
              "      <td>0</td>\n",
              "      <td>0</td>\n",
              "      <td>1</td>\n",
              "      <td>48</td>\n",
              "      <td>47</td>\n",
              "      <td>17</td>\n",
              "      <td>NaN</td>\n",
              "      <td>NaT</td>\n",
              "      <td>NaN</td>\n",
              "      <td>NaN</td>\n",
              "      <td>NaN</td>\n",
              "      <td>NaN</td>\n",
              "      <td>NaN</td>\n",
              "      <td>NaN</td>\n",
              "      <td>NaT</td>\n",
              "      <td>NaN</td>\n",
              "      <td>NaN</td>\n",
              "      <td>NaN</td>\n",
              "      <td>NaN</td>\n",
              "      <td>NaN</td>\n",
              "      <td>NaN</td>\n",
              "      <td>NaT</td>\n",
              "      <td>NaN</td>\n",
              "      <td>NaN</td>\n",
              "      <td>NaN</td>\n",
              "      <td>NaN</td>\n",
              "      <td>NaN</td>\n",
              "      <td>NaN</td>\n",
              "      <td>NaN</td>\n",
              "      <td>NaN</td>\n",
              "      <td>NaN</td>\n",
              "      <td>NaN</td>\n",
              "      <td>NaN</td>\n",
              "      <td>NaN</td>\n",
              "    </tr>\n",
              "    <tr>\n",
              "      <th>89996</th>\n",
              "      <td>a0:91:69:e3:58:ba</td>\n",
              "      <td>3</td>\n",
              "      <td>11</td>\n",
              "      <td>28</td>\n",
              "      <td>0</td>\n",
              "      <td>7</td>\n",
              "      <td>0</td>\n",
              "      <td>2021-11-28</td>\n",
              "      <td>0</td>\n",
              "      <td>0</td>\n",
              "      <td>1</td>\n",
              "      <td>47</td>\n",
              "      <td>46</td>\n",
              "      <td>17</td>\n",
              "      <td>NaN</td>\n",
              "      <td>NaT</td>\n",
              "      <td>NaN</td>\n",
              "      <td>NaN</td>\n",
              "      <td>NaN</td>\n",
              "      <td>NaN</td>\n",
              "      <td>NaN</td>\n",
              "      <td>NaN</td>\n",
              "      <td>NaT</td>\n",
              "      <td>NaN</td>\n",
              "      <td>NaN</td>\n",
              "      <td>NaN</td>\n",
              "      <td>NaN</td>\n",
              "      <td>NaN</td>\n",
              "      <td>NaN</td>\n",
              "      <td>NaT</td>\n",
              "      <td>NaN</td>\n",
              "      <td>NaN</td>\n",
              "      <td>NaN</td>\n",
              "      <td>NaN</td>\n",
              "      <td>NaN</td>\n",
              "      <td>NaN</td>\n",
              "      <td>NaN</td>\n",
              "      <td>NaN</td>\n",
              "      <td>NaN</td>\n",
              "      <td>NaN</td>\n",
              "      <td>NaN</td>\n",
              "      <td>NaN</td>\n",
              "    </tr>\n",
              "    <tr>\n",
              "      <th>89997</th>\n",
              "      <td>64:51:06:9c:7b:57</td>\n",
              "      <td>3</td>\n",
              "      <td>11</td>\n",
              "      <td>5</td>\n",
              "      <td>5</td>\n",
              "      <td>9</td>\n",
              "      <td>0</td>\n",
              "      <td>2021-11-05</td>\n",
              "      <td>0</td>\n",
              "      <td>1</td>\n",
              "      <td>1</td>\n",
              "      <td>44</td>\n",
              "      <td>43</td>\n",
              "      <td>17</td>\n",
              "      <td>NaN</td>\n",
              "      <td>NaT</td>\n",
              "      <td>NaN</td>\n",
              "      <td>NaN</td>\n",
              "      <td>NaN</td>\n",
              "      <td>NaN</td>\n",
              "      <td>NaN</td>\n",
              "      <td>NaN</td>\n",
              "      <td>NaT</td>\n",
              "      <td>NaN</td>\n",
              "      <td>NaN</td>\n",
              "      <td>NaN</td>\n",
              "      <td>NaN</td>\n",
              "      <td>NaN</td>\n",
              "      <td>NaN</td>\n",
              "      <td>NaT</td>\n",
              "      <td>NaN</td>\n",
              "      <td>NaN</td>\n",
              "      <td>NaN</td>\n",
              "      <td>NaN</td>\n",
              "      <td>NaN</td>\n",
              "      <td>64:51:06:9c:7b:57</td>\n",
              "      <td>44.0</td>\n",
              "      <td>2.0</td>\n",
              "      <td>0.0</td>\n",
              "      <td>0.0</td>\n",
              "      <td>0.0</td>\n",
              "      <td>0.0</td>\n",
              "    </tr>\n",
              "    <tr>\n",
              "      <th>89998</th>\n",
              "      <td>f8:cf:c5:d9:10:79</td>\n",
              "      <td>3</td>\n",
              "      <td>11</td>\n",
              "      <td>4</td>\n",
              "      <td>4</td>\n",
              "      <td>9</td>\n",
              "      <td>0</td>\n",
              "      <td>2021-11-04</td>\n",
              "      <td>0</td>\n",
              "      <td>1</td>\n",
              "      <td>1</td>\n",
              "      <td>44</td>\n",
              "      <td>43</td>\n",
              "      <td>17</td>\n",
              "      <td>NaN</td>\n",
              "      <td>NaT</td>\n",
              "      <td>NaN</td>\n",
              "      <td>NaN</td>\n",
              "      <td>NaN</td>\n",
              "      <td>NaN</td>\n",
              "      <td>NaN</td>\n",
              "      <td>NaN</td>\n",
              "      <td>NaT</td>\n",
              "      <td>NaN</td>\n",
              "      <td>NaN</td>\n",
              "      <td>NaN</td>\n",
              "      <td>NaN</td>\n",
              "      <td>NaN</td>\n",
              "      <td>NaN</td>\n",
              "      <td>NaT</td>\n",
              "      <td>NaN</td>\n",
              "      <td>NaN</td>\n",
              "      <td>NaN</td>\n",
              "      <td>NaN</td>\n",
              "      <td>NaN</td>\n",
              "      <td>NaN</td>\n",
              "      <td>NaN</td>\n",
              "      <td>NaN</td>\n",
              "      <td>NaN</td>\n",
              "      <td>NaN</td>\n",
              "      <td>NaN</td>\n",
              "      <td>NaN</td>\n",
              "    </tr>\n",
              "    <tr>\n",
              "      <th>89999</th>\n",
              "      <td>78:c3:e9:df:75:7c</td>\n",
              "      <td>1</td>\n",
              "      <td>11</td>\n",
              "      <td>9</td>\n",
              "      <td>2</td>\n",
              "      <td>19</td>\n",
              "      <td>0</td>\n",
              "      <td>2021-11-09</td>\n",
              "      <td>0</td>\n",
              "      <td>0</td>\n",
              "      <td>1</td>\n",
              "      <td>45</td>\n",
              "      <td>44</td>\n",
              "      <td>17</td>\n",
              "      <td>NaN</td>\n",
              "      <td>NaT</td>\n",
              "      <td>NaN</td>\n",
              "      <td>NaN</td>\n",
              "      <td>NaN</td>\n",
              "      <td>NaN</td>\n",
              "      <td>NaN</td>\n",
              "      <td>NaN</td>\n",
              "      <td>NaT</td>\n",
              "      <td>NaN</td>\n",
              "      <td>NaN</td>\n",
              "      <td>NaN</td>\n",
              "      <td>NaN</td>\n",
              "      <td>NaN</td>\n",
              "      <td>NaN</td>\n",
              "      <td>NaT</td>\n",
              "      <td>NaN</td>\n",
              "      <td>NaN</td>\n",
              "      <td>NaN</td>\n",
              "      <td>NaN</td>\n",
              "      <td>NaN</td>\n",
              "      <td>NaN</td>\n",
              "      <td>NaN</td>\n",
              "      <td>NaN</td>\n",
              "      <td>NaN</td>\n",
              "      <td>NaN</td>\n",
              "      <td>NaN</td>\n",
              "      <td>NaN</td>\n",
              "    </tr>\n",
              "  </tbody>\n",
              "</table>\n",
              "<p>90000 rows × 42 columns</p>\n",
              "</div>\n",
              "      <button class=\"colab-df-convert\" onclick=\"convertToInteractive('df-bef570ad-82dc-4664-b26d-857976ef4714')\"\n",
              "              title=\"Convert this dataframe to an interactive table.\"\n",
              "              style=\"display:none;\">\n",
              "        \n",
              "  <svg xmlns=\"http://www.w3.org/2000/svg\" height=\"24px\"viewBox=\"0 0 24 24\"\n",
              "       width=\"24px\">\n",
              "    <path d=\"M0 0h24v24H0V0z\" fill=\"none\"/>\n",
              "    <path d=\"M18.56 5.44l.94 2.06.94-2.06 2.06-.94-2.06-.94-.94-2.06-.94 2.06-2.06.94zm-11 1L8.5 8.5l.94-2.06 2.06-.94-2.06-.94L8.5 2.5l-.94 2.06-2.06.94zm10 10l.94 2.06.94-2.06 2.06-.94-2.06-.94-.94-2.06-.94 2.06-2.06.94z\"/><path d=\"M17.41 7.96l-1.37-1.37c-.4-.4-.92-.59-1.43-.59-.52 0-1.04.2-1.43.59L10.3 9.45l-7.72 7.72c-.78.78-.78 2.05 0 2.83L4 21.41c.39.39.9.59 1.41.59.51 0 1.02-.2 1.41-.59l7.78-7.78 2.81-2.81c.8-.78.8-2.07 0-2.86zM5.41 20L4 18.59l7.72-7.72 1.47 1.35L5.41 20z\"/>\n",
              "  </svg>\n",
              "      </button>\n",
              "      \n",
              "  <style>\n",
              "    .colab-df-container {\n",
              "      display:flex;\n",
              "      flex-wrap:wrap;\n",
              "      gap: 12px;\n",
              "    }\n",
              "\n",
              "    .colab-df-convert {\n",
              "      background-color: #E8F0FE;\n",
              "      border: none;\n",
              "      border-radius: 50%;\n",
              "      cursor: pointer;\n",
              "      display: none;\n",
              "      fill: #1967D2;\n",
              "      height: 32px;\n",
              "      padding: 0 0 0 0;\n",
              "      width: 32px;\n",
              "    }\n",
              "\n",
              "    .colab-df-convert:hover {\n",
              "      background-color: #E2EBFA;\n",
              "      box-shadow: 0px 1px 2px rgba(60, 64, 67, 0.3), 0px 1px 3px 1px rgba(60, 64, 67, 0.15);\n",
              "      fill: #174EA6;\n",
              "    }\n",
              "\n",
              "    [theme=dark] .colab-df-convert {\n",
              "      background-color: #3B4455;\n",
              "      fill: #D2E3FC;\n",
              "    }\n",
              "\n",
              "    [theme=dark] .colab-df-convert:hover {\n",
              "      background-color: #434B5C;\n",
              "      box-shadow: 0px 1px 3px 1px rgba(0, 0, 0, 0.15);\n",
              "      filter: drop-shadow(0px 1px 2px rgba(0, 0, 0, 0.3));\n",
              "      fill: #FFFFFF;\n",
              "    }\n",
              "  </style>\n",
              "\n",
              "      <script>\n",
              "        const buttonEl =\n",
              "          document.querySelector('#df-bef570ad-82dc-4664-b26d-857976ef4714 button.colab-df-convert');\n",
              "        buttonEl.style.display =\n",
              "          google.colab.kernel.accessAllowed ? 'block' : 'none';\n",
              "\n",
              "        async function convertToInteractive(key) {\n",
              "          const element = document.querySelector('#df-bef570ad-82dc-4664-b26d-857976ef4714');\n",
              "          const dataTable =\n",
              "            await google.colab.kernel.invokeFunction('convertToInteractive',\n",
              "                                                     [key], {});\n",
              "          if (!dataTable) return;\n",
              "\n",
              "          const docLinkHtml = 'Like what you see? Visit the ' +\n",
              "            '<a target=\"_blank\" href=https://colab.research.google.com/notebooks/data_table.ipynb>data table notebook</a>'\n",
              "            + ' to learn more about interactive tables.';\n",
              "          element.innerHTML = '';\n",
              "          dataTable['output_type'] = 'display_data';\n",
              "          await google.colab.output.renderOutput(dataTable, element);\n",
              "          const docLink = document.createElement('div');\n",
              "          docLink.innerHTML = docLinkHtml;\n",
              "          element.appendChild(docLink);\n",
              "        }\n",
              "      </script>\n",
              "    </div>\n",
              "  </div>\n",
              "  "
            ],
            "text/plain": [
              "              device_mac  ...  min_tiempodeses_semana_pasada\n",
              "0      a8:81:95:56:31:3c  ...                            NaN\n",
              "1      44:6e:e5:1b:68:81  ...                            NaN\n",
              "2      0c:b3:19:10:78:17  ...                            NaN\n",
              "3      44:74:6c:0a:20:23  ...                            NaN\n",
              "4      ac:5f:3e:c8:dc:35  ...                            NaN\n",
              "...                  ...  ...                            ...\n",
              "89995  44:74:6c:cc:85:28  ...                            NaN\n",
              "89996  a0:91:69:e3:58:ba  ...                            NaN\n",
              "89997  64:51:06:9c:7b:57  ...                            0.0\n",
              "89998  f8:cf:c5:d9:10:79  ...                            NaN\n",
              "89999  78:c3:e9:df:75:7c  ...                            NaN\n",
              "\n",
              "[90000 rows x 42 columns]"
            ]
          },
          "metadata": {},
          "execution_count": 56
        }
      ]
    },
    {
      "cell_type": "markdown",
      "source": [
        "## División de los modelos\n",
        "\n",
        "<a href=\"https://www.linkedin.com/in/jose-carlos-del-valle/\"><img src=\"https://i0.wp.com/hipertextual.com/wp-content/uploads/2015/10/regreso-al-futuro-wallpaper.jpg?resize=1200%2C900&ssl=1\" width=340, align=\"center\"></a>\n",
        "\n",
        "\n",
        "\n",
        "*   Con información anterior\n",
        "\n",
        "*   Sin información anterior\n",
        "\n"
      ],
      "metadata": {
        "id": "CtFsGAMNiEdV"
      }
    },
    {
      "cell_type": "code",
      "source": [
        "min_date_7 = min(docs['e']['date'])+timedelta(days=7)\n",
        "min_date_7_2 = min(docs['v']['date'])+timedelta(days=7)\n",
        "\n",
        "# Los NA's en este caso significa que no hay registros anteriores, por lo que \n",
        "# No se toman en cuenta las nuevas columnas\n",
        "docs['e_sin_i'] = docs['e'][docs['e']['date']<min_date_7][col_validas_e+['date']]\n",
        "# Los NA's en este caso significa que no hubo actividad en días anteriores\n",
        "docs['e_con_i'] = docs['e'][docs['e']['date']>=min_date_7].fillna(0)\n",
        "# ------------------\n",
        "docs['v_sin_i'] = docs['v'][docs['v']['date']<min_date_7_2][col_validas_v+['date']]\n",
        "# Los NA's en este caso significa que no hubo actividad en días anteriores\n",
        "docs['v_con_i'] = docs['v'][docs['v']['date']>=min_date_7_2].fillna(0)"
      ],
      "metadata": {
        "id": "hIOgqghfiDQK"
      },
      "execution_count": null,
      "outputs": []
    },
    {
      "cell_type": "code",
      "source": [
        "# docs[datos_eval].sample(size_dv, random_state=324).drop(columns = ['device_mac','date'])"
      ],
      "metadata": {
        "id": "8Af0IbNta_DP"
      },
      "execution_count": null,
      "outputs": []
    },
    {
      "cell_type": "markdown",
      "source": [
        "## Modelo No Supervisado\n",
        "\n",
        "<a href=\"https://www.linkedin.com/in/jose-carlos-del-valle/\"><img src=\"https://miro.medium.com/max/1400/1*lhkCOodCMZ0-SSziEDpwpA.png\" width=390, align=\"center\"></a>\n"
      ],
      "metadata": {
        "id": "QdIdw74ghsMn"
      }
    },
    {
      "cell_type": "markdown",
      "source": [
        "Para finalizar el proceso de ingeniería de variables se hará un modelo no supervizado que posteriormente se aplicacrá al Set de Prueba"
      ],
      "metadata": {
        "id": "QRbGDEhZkgmo"
      }
    },
    {
      "cell_type": "code",
      "source": [
        "# Utilizamos el método del codo para ver la separación más indicada sobre una muestra de los datos\n",
        "\n",
        "for datos_eval in ['e_sin_i','e_con_i']:\n",
        "  size_dv = int(docs[datos_eval].shape[0]/3)\n",
        "  X = docs[datos_eval].sample(size_dv, random_state=324).drop(columns = ['device_mac','date', 'visitor'])\n",
        "  \n",
        "  col_cont = X.describe().columns\n",
        "  X = X[col_cont]\n",
        "  model = KMeans()\n",
        "  visualizer = KElbowVisualizer(model, k=(4,12))\n",
        "\n",
        "  visualizer.fit(X)\n",
        "  plt.show()"
      ],
      "metadata": {
        "colab": {
          "base_uri": "https://localhost:8080/",
          "height": 535
        },
        "id": "JZTDYLO8hrfO",
        "outputId": "5116d0b8-cb7a-4598-96f6-d664c2a63fd2"
      },
      "execution_count": null,
      "outputs": [
        {
          "output_type": "display_data",
          "data": {
            "image/png": "[encoded data removed]",
            "text/plain": [
              "<Figure size 432x288 with 2 Axes>"
            ]
          },
          "metadata": {
            "needs_background": "light"
          }
        },
        {
          "output_type": "display_data",
          "data": {
            "image/png": "[encoded data removed]",
            "text/plain": [
              "<Figure size 432x288 with 2 Axes>"
            ]
          },
          "metadata": {
            "needs_background": "light"
          }
        }
      ]
    },
    {
      "cell_type": "code",
      "source": [
        "modelos_no_sup = []\n",
        "for  datos_eval, nclus in [('e_sin_i', 6),('e_con_i',6)]:\n",
        "  X = docs[datos_eval].drop(columns = ['device_mac','date','visitor'])\n",
        "  try:\n",
        "    X = X.drop(columns = ['cluster'])\n",
        "  except:\n",
        "    print('Ya ha sido eliminado')\n",
        "\n",
        "  col_cont = X.describe().columns\n",
        "  X = X[col_cont]\n",
        "\n",
        "  db = KMeans(init=\"k-means++\", n_clusters=nclus, n_init=4, random_state=324).fit(X)\n",
        "  modelos_no_sup.append(db)\n",
        "  docs[datos_eval].loc[:,'cluster'] = db.labels_"
      ],
      "metadata": {
        "id": "Uo2SZEhfmPaY",
        "colab": {
          "base_uri": "https://localhost:8080/"
        },
        "outputId": "ce980ed6-5ffa-4bf2-aac6-787516c6a858"
      },
      "execution_count": null,
      "outputs": [
        {
          "output_type": "stream",
          "name": "stdout",
          "text": [
            "Ya ha sido eliminado\n",
            "Ya ha sido eliminado\n"
          ]
        }
      ]
    },
    {
      "cell_type": "markdown",
      "source": [
        "Ejecutar los modelos no supervisados en el set te validación"
      ],
      "metadata": {
        "id": "HxgQoIF2oFUB"
      }
    },
    {
      "cell_type": "code",
      "source": [
        "for km_mod, datos_eval in zip(modelos_no_sup, ['v_sin_i','v_con_i']):\n",
        "  X1 = docs[datos_eval].drop(columns = ['device_mac','date'])\n",
        "  col_cont = X1.describe().columns\n",
        "  X1 = X1[col_cont]\n",
        "  \n",
        "  docs[datos_eval].loc[:,'cluster'] = km_mod.predict(X1)"
      ],
      "metadata": {
        "id": "MAbF_n9UNAPb"
      },
      "execution_count": null,
      "outputs": []
    },
    {
      "cell_type": "code",
      "source": [
        "X1 = docs[datos_eval][['madrugada','tiempodeses','cluster']].sample(10000)"
      ],
      "metadata": {
        "id": "5mHlXdqNypOg"
      },
      "execution_count": null,
      "outputs": []
    },
    {
      "cell_type": "code",
      "source": [
        "# plt.scatter(X1['madrugada'], X1['tiempodeses'], c = X1['cluster'])"
      ],
      "metadata": {
        "id": "8Rgva6t7yjy0"
      },
      "execution_count": null,
      "outputs": []
    },
    {
      "cell_type": "code",
      "source": [
        "# [c for c in X.columns if c not in X1.columns]"
      ],
      "metadata": {
        "colab": {
          "base_uri": "https://localhost:8080/"
        },
        "id": "Zu5_YX_-eeMF",
        "outputId": "07c2eefd-81ed-4215-8676-886e6af68130"
      },
      "execution_count": null,
      "outputs": [
        {
          "output_type": "execute_result",
          "data": {
            "text/plain": [
              "['visitor']"
            ]
          },
          "metadata": {},
          "execution_count": 71
        }
      ]
    },
    {
      "cell_type": "markdown",
      "source": [
        "# Elección de mejores variables\n",
        "\n",
        "<a href=\"https://www.linkedin.com/in/jose-carlos-del-valle/\"><img src=\"https://i.pinimg.com/originals/d7/2f/40/d72f40b11a148ce40d538cde0a8c8898.gif\" width=340, align=\"center\"></a>"
      ],
      "metadata": {
        "id": "leg8AcBSIFpO"
      }
    },
    {
      "cell_type": "code",
      "source": [
        "va_obj = 'visitor'\n",
        "modelo = 'e_sin_i'"
      ],
      "metadata": {
        "id": "b5eJtzmjIIe1"
      },
      "execution_count": null,
      "outputs": []
    },
    {
      "cell_type": "code",
      "source": [
        "X = docs[modelo].drop(columns=[va_obj]+['device_mac','date'])\n",
        "y = docs[modelo][va_obj]\n",
        "X_train, X_test, y_train, y_test = train_test_split(X, y, test_size=0.25, random_state=112)"
      ],
      "metadata": {
        "id": "syyezadLIJMq"
      },
      "execution_count": null,
      "outputs": []
    },
    {
      "cell_type": "markdown",
      "source": [
        "Verificamos que sea la misma catidad de datos"
      ],
      "metadata": {
        "id": "o6_PbODxIgrn"
      }
    },
    {
      "cell_type": "code",
      "source": [
        "print('X_train Shape:', X_train.shape)\n",
        "print('y_train Shape:', y_train.shape)\n",
        "print('X_tests Shape:', X_test.shape)\n",
        "print('y_test Shape:', y_test.shape)"
      ],
      "metadata": {
        "id": "iog8VEuvIenC",
        "colab": {
          "base_uri": "https://localhost:8080/"
        },
        "outputId": "cdebf4c6-61b4-4278-94ad-29da65d3e08a"
      },
      "execution_count": null,
      "outputs": [
        {
          "output_type": "stream",
          "name": "stdout",
          "text": [
            "X_train Shape: (19309, 7)\n",
            "y_train Shape: (19309,)\n",
            "X_tests Shape: (6437, 7)\n",
            "y_test Shape: (6437,)\n"
          ]
        }
      ]
    },
    {
      "cell_type": "markdown",
      "source": [
        "Realizo un grid search para evitar overfitting\n",
        "\n"
      ],
      "metadata": {
        "id": "HiNe72fRJY83"
      }
    },
    {
      "cell_type": "code",
      "source": [
        "rf = RandomForestClassifier(random_state=np.random.RandomState(seed=3523))\n",
        "param_grid = {'n_estimators':range(40,121,40),'max_depth':range(4,8,3)}\n",
        "cv = GridSearchCV(rf,param_grid=param_grid,cv=5,n_jobs=-1)"
      ],
      "metadata": {
        "id": "kpPo2sEcIjH3"
      },
      "execution_count": null,
      "outputs": []
    },
    {
      "cell_type": "code",
      "source": [
        "%%time\n",
        "cv.fit(X_train,y_train)"
      ],
      "metadata": {
        "id": "SbM0MyT1JgaU",
        "colab": {
          "base_uri": "https://localhost:8080/"
        },
        "outputId": "ce22a748-61cd-4381-ca48-11ed4ede0d4b"
      },
      "execution_count": null,
      "outputs": [
        {
          "output_type": "stream",
          "name": "stdout",
          "text": [
            "CPU times: user 1.23 s, sys: 101 ms, total: 1.34 s\n",
            "Wall time: 13.2 s\n"
          ]
        },
        {
          "output_type": "execute_result",
          "data": {
            "text/plain": [
              "GridSearchCV(cv=5,\n",
              "             estimator=RandomForestClassifier(random_state=RandomState(MT19937) at 0x7F23D3394AF0),\n",
              "             n_jobs=-1,\n",
              "             param_grid={'max_depth': range(4, 8, 3),\n",
              "                         'n_estimators': range(40, 121, 40)})"
            ]
          },
          "metadata": {},
          "execution_count": 83
        }
      ]
    },
    {
      "cell_type": "markdown",
      "source": [
        "resultados preliminares"
      ],
      "metadata": {
        "id": "ttxiN0nWq-cj"
      }
    },
    {
      "cell_type": "code",
      "source": [
        "y_pred = cv.best_estimator_.predict(X_test)\n",
        "r2_score(y_test, y_pred, sample_weight=None, multioutput='uniform_average')"
      ],
      "metadata": {
        "colab": {
          "base_uri": "https://localhost:8080/"
        },
        "id": "0LkblpV_q95s",
        "outputId": "cd84ca20-4461-4cdb-e8b7-921966e01bb3"
      },
      "execution_count": null,
      "outputs": [
        {
          "output_type": "execute_result",
          "data": {
            "text/plain": [
              "0.7921200506574596"
            ]
          },
          "metadata": {},
          "execution_count": 84
        }
      ]
    },
    {
      "cell_type": "markdown",
      "metadata": {
        "id": "I9wLda-H-fUw"
      },
      "source": [
        "## variables importantes en general, lista con las variables ej: importancia > 0"
      ]
    },
    {
      "cell_type": "markdown",
      "metadata": {
        "id": "wic4eHNZeM7v"
      },
      "source": [
        "Calculamos la importancia de las variables del modelo y los resultados los guardamos en la lista <b>importances</b>, después guardamos los nombres de las variables del modelo en la lista <b> feature_list</b>, finalmente en la lista <b>feature_importances</b> guardamos el nombre de las variables con su respectivo valor de importancia. "
      ]
    },
    {
      "cell_type": "code",
      "source": [
        "importances = list(cv.best_estimator_.feature_importances_)\n",
        "feature_list=list(X.columns)\n",
        "feature_importances = [(feature, round(importance, 2)) for feature, importance in zip(feature_list, importances)]\n",
        "feature_importances = sorted(feature_importances, key = lambda x: x[1], reverse = True)"
      ],
      "metadata": {
        "id": "XJ5VkjDgJROe"
      },
      "execution_count": null,
      "outputs": []
    },
    {
      "cell_type": "code",
      "source": [
        "var_impr_gral = [pair[0] for pair in feature_importances if pair[1]>0.02]"
      ],
      "metadata": {
        "id": "h99VjlndpFpL"
      },
      "execution_count": null,
      "outputs": []
    },
    {
      "cell_type": "code",
      "source": [
        "feature_importances"
      ],
      "metadata": {
        "colab": {
          "base_uri": "https://localhost:8080/"
        },
        "id": "2YXW0VI1IHcW",
        "outputId": "eec57192-efef-4af6-bce7-3bc994388ba5"
      },
      "execution_count": null,
      "outputs": [
        {
          "output_type": "execute_result",
          "data": {
            "text/plain": [
              "[('tiempodeses', 0.82),\n",
              " ('cluster', 0.17),\n",
              " ('hour_tz', 0.01),\n",
              " ('branch_office', 0.0),\n",
              " ('month_tz', 0.0),\n",
              " ('day_tz', 0.0),\n",
              " ('day_of_week_tz', 0.0)]"
            ]
          },
          "metadata": {},
          "execution_count": 87
        }
      ]
    },
    {
      "cell_type": "code",
      "metadata": {
        "id": "UEzuiI1UKjiK",
        "colab": {
          "base_uri": "https://localhost:8080/",
          "height": 206
        },
        "outputId": "fad504ee-caa9-45dc-ca1f-0d3cfedb44a2"
      },
      "source": [
        "IVs = pd.DataFrame(data = list(range(2))).transpose()\n",
        "IVs.columns = ['VAR_NAME', 'IV']\n",
        "IVs = IVs.iloc[:-1,]\n",
        "Flags = [va_obj]\n",
        "for flag in Flags:\n",
        "  final_iv, IV = data_vars(X, y)\n",
        "  IVs = pd.concat([IVs, IV])\n",
        "\n",
        "IVs.sort_values(by='IV', ascending=False).head()"
      ],
      "execution_count": null,
      "outputs": [
        {
          "output_type": "execute_result",
          "data": {
            "text/html": [
              "\n",
              "  <div id=\"df-a29c6b03-7650-4269-9c01-9fa26bd9fb68\">\n",
              "    <div class=\"colab-df-container\">\n",
              "      <div>\n",
              "<style scoped>\n",
              "    .dataframe tbody tr th:only-of-type {\n",
              "        vertical-align: middle;\n",
              "    }\n",
              "\n",
              "    .dataframe tbody tr th {\n",
              "        vertical-align: top;\n",
              "    }\n",
              "\n",
              "    .dataframe thead th {\n",
              "        text-align: right;\n",
              "    }\n",
              "</style>\n",
              "<table border=\"1\" class=\"dataframe\">\n",
              "  <thead>\n",
              "    <tr style=\"text-align: right;\">\n",
              "      <th></th>\n",
              "      <th>VAR_NAME</th>\n",
              "      <th>IV</th>\n",
              "    </tr>\n",
              "  </thead>\n",
              "  <tbody>\n",
              "    <tr>\n",
              "      <th>6</th>\n",
              "      <td>tiempodeses</td>\n",
              "      <td>6.816494</td>\n",
              "    </tr>\n",
              "    <tr>\n",
              "      <th>1</th>\n",
              "      <td>cluster</td>\n",
              "      <td>0.145216</td>\n",
              "    </tr>\n",
              "    <tr>\n",
              "      <th>2</th>\n",
              "      <td>day_of_week_tz</td>\n",
              "      <td>0.010506</td>\n",
              "    </tr>\n",
              "    <tr>\n",
              "      <th>3</th>\n",
              "      <td>day_tz</td>\n",
              "      <td>0.010506</td>\n",
              "    </tr>\n",
              "    <tr>\n",
              "      <th>4</th>\n",
              "      <td>hour_tz</td>\n",
              "      <td>0.005201</td>\n",
              "    </tr>\n",
              "  </tbody>\n",
              "</table>\n",
              "</div>\n",
              "      <button class=\"colab-df-convert\" onclick=\"convertToInteractive('df-a29c6b03-7650-4269-9c01-9fa26bd9fb68')\"\n",
              "              title=\"Convert this dataframe to an interactive table.\"\n",
              "              style=\"display:none;\">\n",
              "        \n",
              "  <svg xmlns=\"http://www.w3.org/2000/svg\" height=\"24px\"viewBox=\"0 0 24 24\"\n",
              "       width=\"24px\">\n",
              "    <path d=\"M0 0h24v24H0V0z\" fill=\"none\"/>\n",
              "    <path d=\"M18.56 5.44l.94 2.06.94-2.06 2.06-.94-2.06-.94-.94-2.06-.94 2.06-2.06.94zm-11 1L8.5 8.5l.94-2.06 2.06-.94-2.06-.94L8.5 2.5l-.94 2.06-2.06.94zm10 10l.94 2.06.94-2.06 2.06-.94-2.06-.94-.94-2.06-.94 2.06-2.06.94z\"/><path d=\"M17.41 7.96l-1.37-1.37c-.4-.4-.92-.59-1.43-.59-.52 0-1.04.2-1.43.59L10.3 9.45l-7.72 7.72c-.78.78-.78 2.05 0 2.83L4 21.41c.39.39.9.59 1.41.59.51 0 1.02-.2 1.41-.59l7.78-7.78 2.81-2.81c.8-.78.8-2.07 0-2.86zM5.41 20L4 18.59l7.72-7.72 1.47 1.35L5.41 20z\"/>\n",
              "  </svg>\n",
              "      </button>\n",
              "      \n",
              "  <style>\n",
              "    .colab-df-container {\n",
              "      display:flex;\n",
              "      flex-wrap:wrap;\n",
              "      gap: 12px;\n",
              "    }\n",
              "\n",
              "    .colab-df-convert {\n",
              "      background-color: #E8F0FE;\n",
              "      border: none;\n",
              "      border-radius: 50%;\n",
              "      cursor: pointer;\n",
              "      display: none;\n",
              "      fill: #1967D2;\n",
              "      height: 32px;\n",
              "      padding: 0 0 0 0;\n",
              "      width: 32px;\n",
              "    }\n",
              "\n",
              "    .colab-df-convert:hover {\n",
              "      background-color: #E2EBFA;\n",
              "      box-shadow: 0px 1px 2px rgba(60, 64, 67, 0.3), 0px 1px 3px 1px rgba(60, 64, 67, 0.15);\n",
              "      fill: #174EA6;\n",
              "    }\n",
              "\n",
              "    [theme=dark] .colab-df-convert {\n",
              "      background-color: #3B4455;\n",
              "      fill: #D2E3FC;\n",
              "    }\n",
              "\n",
              "    [theme=dark] .colab-df-convert:hover {\n",
              "      background-color: #434B5C;\n",
              "      box-shadow: 0px 1px 3px 1px rgba(0, 0, 0, 0.15);\n",
              "      filter: drop-shadow(0px 1px 2px rgba(0, 0, 0, 0.3));\n",
              "      fill: #FFFFFF;\n",
              "    }\n",
              "  </style>\n",
              "\n",
              "      <script>\n",
              "        const buttonEl =\n",
              "          document.querySelector('#df-a29c6b03-7650-4269-9c01-9fa26bd9fb68 button.colab-df-convert');\n",
              "        buttonEl.style.display =\n",
              "          google.colab.kernel.accessAllowed ? 'block' : 'none';\n",
              "\n",
              "        async function convertToInteractive(key) {\n",
              "          const element = document.querySelector('#df-a29c6b03-7650-4269-9c01-9fa26bd9fb68');\n",
              "          const dataTable =\n",
              "            await google.colab.kernel.invokeFunction('convertToInteractive',\n",
              "                                                     [key], {});\n",
              "          if (!dataTable) return;\n",
              "\n",
              "          const docLinkHtml = 'Like what you see? Visit the ' +\n",
              "            '<a target=\"_blank\" href=https://colab.research.google.com/notebooks/data_table.ipynb>data table notebook</a>'\n",
              "            + ' to learn more about interactive tables.';\n",
              "          element.innerHTML = '';\n",
              "          dataTable['output_type'] = 'display_data';\n",
              "          await google.colab.output.renderOutput(dataTable, element);\n",
              "          const docLink = document.createElement('div');\n",
              "          docLink.innerHTML = docLinkHtml;\n",
              "          element.appendChild(docLink);\n",
              "        }\n",
              "      </script>\n",
              "    </div>\n",
              "  </div>\n",
              "  "
            ],
            "text/plain": [
              "         VAR_NAME        IV\n",
              "6     tiempodeses  6.816494\n",
              "1         cluster  0.145216\n",
              "2  day_of_week_tz  0.010506\n",
              "3          day_tz  0.010506\n",
              "4         hour_tz  0.005201"
            ]
          },
          "metadata": {},
          "execution_count": 88
        }
      ]
    },
    {
      "cell_type": "markdown",
      "metadata": {
        "id": "-ocEUYoGqIAX"
      },
      "source": [
        "Hacemos un DataFrame <b>list_ivs_1</b> solo con las variables cuyo poder predictivo sea suficiente."
      ]
    },
    {
      "cell_type": "code",
      "metadata": {
        "id": "BNl1VRZTSnfM"
      },
      "source": [
        "ivs = IVs.sort_values(by='IV', ascending=False)\n",
        "lis_ivs_1 = ivs[ivs.IV>.1]['VAR_NAME'].tolist()"
      ],
      "execution_count": null,
      "outputs": []
    },
    {
      "cell_type": "markdown",
      "metadata": {
        "id": "QT_T-NLnI-N1"
      },
      "source": [
        "## Listas de variables"
      ]
    },
    {
      "cell_type": "markdown",
      "metadata": {
        "id": "lSBQcPgmFZzy"
      },
      "source": [
        "Hacemos una lista <b>var_imp_R_</b> con todas las variables importantes que son las variable del information value <b>lis_ivs_1</b> y <b>var_impr_gral</b> variables con mayor importancia del entrenamiento del Random Forest."
      ]
    },
    {
      "cell_type": "code",
      "metadata": {
        "id": "lQ7tGEpaIVDO",
        "colab": {
          "base_uri": "https://localhost:8080/"
        },
        "outputId": "24d92b4d-5e1b-4ff8-a99d-307ecddea627"
      },
      "source": [
        "var_imp_R = list(set(lis_ivs_1+var_impr_gral))\n",
        "len(var_imp_R)"
      ],
      "execution_count": null,
      "outputs": [
        {
          "output_type": "execute_result",
          "data": {
            "text/plain": [
              "2"
            ]
          },
          "metadata": {},
          "execution_count": 90
        }
      ]
    },
    {
      "cell_type": "markdown",
      "metadata": {
        "id": "Nu8k6y0weV3G"
      },
      "source": [
        "# Pruebas"
      ]
    },
    {
      "cell_type": "markdown",
      "metadata": {
        "id": "oD0Yy_T_H_G8"
      },
      "source": [
        "Aplicamos nuevamente el modelo Random Forest pero ahora con las mejores variables que se calcularon anteriormente <b>var_imp_R</b>"
      ]
    },
    {
      "cell_type": "code",
      "metadata": {
        "id": "KRLhQo-iehan"
      },
      "source": [
        "X = docs[modelo][var_imp_R]\n",
        "y = docs[modelo][va_obj]\n",
        "\n",
        "X_train, X_test, y_train, y_test = train_test_split(X, y, test_size=0.25, random_state=112)"
      ],
      "execution_count": null,
      "outputs": []
    },
    {
      "cell_type": "markdown",
      "source": [
        "Incremento el número de hiperparámetros y descarto variables que no tengan poder predictivo"
      ],
      "metadata": {
        "id": "T1ramcrhJJaT"
      }
    },
    {
      "cell_type": "code",
      "metadata": {
        "id": "btsdT9TYeYhi",
        "colab": {
          "base_uri": "https://localhost:8080/"
        },
        "outputId": "ee90b2b7-d18a-45ac-8731-2b2d489e7491"
      },
      "source": [
        "rf = RandomForestClassifier(random_state=np.random.RandomState(seed=34586))\n",
        "param_grid = {'n_estimators':range(40,161,30),'max_depth':range(3,10,2)}\n",
        "cv = GridSearchCV(rf,param_grid=param_grid,cv=5,n_jobs=-1)\n",
        "cv.fit(X_train,y_train)"
      ],
      "execution_count": null,
      "outputs": [
        {
          "output_type": "execute_result",
          "data": {
            "text/plain": [
              "GridSearchCV(cv=5,\n",
              "             estimator=RandomForestClassifier(random_state=RandomState(MT19937) at 0x7F23D3394D10),\n",
              "             n_jobs=-1,\n",
              "             param_grid={'max_depth': range(3, 10, 2),\n",
              "                         'n_estimators': range(40, 161, 30)})"
            ]
          },
          "metadata": {},
          "execution_count": 92
        }
      ]
    },
    {
      "cell_type": "markdown",
      "metadata": {
        "id": "GdTLlP87IRSt"
      },
      "source": [
        "Calculamos el error del modelo ahora con las mejores variables y los mejores parámetros."
      ]
    },
    {
      "cell_type": "markdown",
      "metadata": {
        "id": "eKYXnUpwizwZ"
      },
      "source": [
        "# Evaluación "
      ]
    },
    {
      "cell_type": "code",
      "metadata": {
        "id": "GT4qTNtAgaRT",
        "colab": {
          "base_uri": "https://localhost:8080/"
        },
        "outputId": "0ac47ab4-b9f1-4691-e2b8-73b9fb439779"
      },
      "source": [
        "predicciones = y_pred = cv.best_estimator_.predict(X_train)\n",
        "predicciones = [round(x,0) for x in predicciones]\n",
        "rmse = mean_squared_error(y_true  = y_train, y_pred  = predicciones, squared = False) \n",
        "print(f\"El error (rmse) de traint es: {rmse}\")\n",
        "\n",
        "predicciones = y_pred = cv.best_estimator_.predict(X_test)\n",
        "predicciones = [round(x,0) for x in predicciones]\n",
        "rmse = mean_squared_error(y_true  = y_test,y_pred  = predicciones,squared = False)\n",
        "print(f\"El error (rmse) de test es: {rmse}\")"
      ],
      "execution_count": null,
      "outputs": [
        {
          "output_type": "stream",
          "name": "stdout",
          "text": [
            "El error (rmse) de traint es: 0.2262031148978659\n",
            "El error (rmse) de test es: 0.22676302526802958\n"
          ]
        }
      ]
    },
    {
      "cell_type": "markdown",
      "source": [
        "Observamos la ROC del modelo sin información pasada"
      ],
      "metadata": {
        "id": "xImf4TsOKWgH"
      }
    },
    {
      "cell_type": "code",
      "source": [
        "roc_auc = roc_auc_score(y_test, predicciones)\n",
        "roc_auc"
      ],
      "metadata": {
        "colab": {
          "base_uri": "https://localhost:8080/"
        },
        "id": "_AKu1bhkKOEC",
        "outputId": "33e639d7-bf6b-499f-8e26-4acf5ce159d9"
      },
      "execution_count": null,
      "outputs": [
        {
          "output_type": "execute_result",
          "data": {
            "text/plain": [
              "0.9381699583931873"
            ]
          },
          "metadata": {},
          "execution_count": 94
        }
      ]
    },
    {
      "cell_type": "code",
      "source": [
        "# y_pred_proba = clf.predict_proba(X_test)[::,1]\n",
        "fpr, tpr, _ = roc_curve(y_test, predicciones)\n",
        "auc = roc_auc_score(y_test, predicciones)\n",
        "plt.plot(fpr,tpr,label=\"data 1, auc=\"+str(auc))\n",
        "plt.legend(loc=4)\n",
        "plt.ylabel('True Positive Rate')\n",
        "plt.xlabel('False Positive Rate')\n",
        "plt.show()"
      ],
      "metadata": {
        "colab": {
          "base_uri": "https://localhost:8080/",
          "height": 361
        },
        "id": "7Px2gKuHOYZQ",
        "outputId": "d25472fb-e18c-430d-f20d-f3c0f7157399"
      },
      "execution_count": null,
      "outputs": [
        {
          "output_type": "display_data",
          "data": {
            "image/png": "[encoded data removed]",
            "text/plain": [
              "<Figure size 576x396 with 1 Axes>"
            ]
          },
          "metadata": {}
        }
      ]
    },
    {
      "cell_type": "markdown",
      "source": [
        "## Resultados en el set de validación"
      ],
      "metadata": {
        "id": "BUPvqPZIgZM8"
      }
    },
    {
      "cell_type": "markdown",
      "source": [
        "Utilizo todos los datos del modelo con las mejores variables y los mejores parámetros para entrenar"
      ],
      "metadata": {
        "id": "6z4g9nPugjCu"
      }
    },
    {
      "cell_type": "code",
      "source": [
        "param_grid = cv.best_params_\n",
        "param_grid = {'max_depth':[param_grid['max_depth']], 'n_estimators': [param_grid['n_estimators']]}"
      ],
      "metadata": {
        "id": "xgd4Db95hKFE"
      },
      "execution_count": null,
      "outputs": []
    },
    {
      "cell_type": "code",
      "source": [
        "rf = RandomForestClassifier(random_state=np.random.RandomState(seed=34586))\n",
        "cv = GridSearchCV(rf,param_grid=param_grid,cv=5,n_jobs=-1)\n",
        "cv.fit(X,y)"
      ],
      "metadata": {
        "colab": {
          "base_uri": "https://localhost:8080/"
        },
        "id": "mjalmgT_gerp",
        "outputId": "a10c44f6-176a-4287-d894-df21f8a8ad72"
      },
      "execution_count": null,
      "outputs": [
        {
          "output_type": "execute_result",
          "data": {
            "text/plain": [
              "GridSearchCV(cv=5,\n",
              "             estimator=RandomForestClassifier(random_state=RandomState(MT19937) at 0x7F23B553A270),\n",
              "             n_jobs=-1, param_grid={'max_depth': [5], 'n_estimators': [40]})"
            ]
          },
          "metadata": {},
          "execution_count": 108
        }
      ]
    },
    {
      "cell_type": "code",
      "source": [
        "Validacion1 = cv.best_estimator_.predict(docs['v_sin_i'][var_imp_R])"
      ],
      "metadata": {
        "id": "tMMf3sE8h5_d"
      },
      "execution_count": null,
      "outputs": []
    },
    {
      "cell_type": "code",
      "source": [
        "docs['v_sin_i']['predict'] = Validacion1"
      ],
      "metadata": {
        "id": "tz55uqP-iP19"
      },
      "execution_count": null,
      "outputs": []
    },
    {
      "cell_type": "markdown",
      "source": [
        "# Aplicamos el mismo procedimiento para el modelo con información"
      ],
      "metadata": {
        "id": "4ijM2oifP7tD"
      }
    },
    {
      "cell_type": "code",
      "source": [
        "modelo = 'e_con_i'"
      ],
      "metadata": {
        "id": "jUMML3yLPcef"
      },
      "execution_count": null,
      "outputs": []
    },
    {
      "cell_type": "code",
      "source": [
        "X = docs[modelo].drop(columns=[va_obj]+['device_mac','date'])\n",
        "col_cont = X.describe().columns\n",
        "X = X[col_cont]\n",
        "y = docs[modelo][va_obj]\n",
        "X_train, X_test, y_train, y_test = train_test_split(X, y, test_size=0.25, random_state=112)"
      ],
      "metadata": {
        "id": "u97ilxC9QUb7"
      },
      "execution_count": null,
      "outputs": []
    },
    {
      "cell_type": "code",
      "source": [
        "rf = RandomForestClassifier(random_state=np.random.RandomState(seed=3523))\n",
        "param_grid = {'n_estimators':range(40,81,40),'max_depth':range(4,8,3)}\n",
        "cv = GridSearchCV(rf,param_grid=param_grid,cv=5,n_jobs=-1)"
      ],
      "metadata": {
        "id": "UHoVtPtqQUcC"
      },
      "execution_count": null,
      "outputs": []
    },
    {
      "cell_type": "code",
      "source": [
        "%%time\n",
        "cv.fit(X_train,y_train)"
      ],
      "metadata": {
        "colab": {
          "base_uri": "https://localhost:8080/"
        },
        "outputId": "fc51edad-2385-4073-a99d-a0fb5715d2be",
        "id": "TZsh07-OQUcC"
      },
      "execution_count": null,
      "outputs": [
        {
          "output_type": "stream",
          "name": "stdout",
          "text": [
            "CPU times: user 7.88 s, sys: 144 ms, total: 8.03 s\n",
            "Wall time: 1min 12s\n"
          ]
        },
        {
          "output_type": "execute_result",
          "data": {
            "text/plain": [
              "GridSearchCV(cv=5,\n",
              "             estimator=RandomForestClassifier(random_state=RandomState(MT19937) at 0x7F23B553A9E0),\n",
              "             n_jobs=-1,\n",
              "             param_grid={'max_depth': range(4, 8, 3),\n",
              "                         'n_estimators': range(40, 81, 40)})"
            ]
          },
          "metadata": {},
          "execution_count": 124
        }
      ]
    },
    {
      "cell_type": "code",
      "source": [
        "y_pred = cv.best_estimator_.predict(X_test)\n",
        "r2_score(y_test, y_pred, sample_weight=None, multioutput='uniform_average')"
      ],
      "metadata": {
        "colab": {
          "base_uri": "https://localhost:8080/"
        },
        "outputId": "464d9c50-9d71-423a-d963-0c06fbcdebb4",
        "id": "CUKlpIfKQUcD"
      },
      "execution_count": null,
      "outputs": [
        {
          "output_type": "execute_result",
          "data": {
            "text/plain": [
              "0.8391917957265194"
            ]
          },
          "metadata": {},
          "execution_count": 125
        }
      ]
    },
    {
      "cell_type": "code",
      "source": [
        "importances = list(cv.best_estimator_.feature_importances_)\n",
        "feature_list=list(X.columns)\n",
        "feature_importances = [(feature, round(importance, 2)) for feature, importance in zip(feature_list, importances)]\n",
        "feature_importances = sorted(feature_importances, key = lambda x: x[1], reverse = True)\n",
        "var_impr_gral = [pair[0] for pair in feature_importances if pair[1]>0.02]\n",
        "feature_importances[:5]"
      ],
      "metadata": {
        "colab": {
          "base_uri": "https://localhost:8080/"
        },
        "id": "m936AiaFQUcF",
        "outputId": "f2e0d61d-a9c8-46d8-8457-c81189f4d12e"
      },
      "execution_count": null,
      "outputs": [
        {
          "output_type": "execute_result",
          "data": {
            "text/plain": [
              "[('tiempodeses', 0.6),\n",
              " ('sum_tiempodeses_semana_pasada', 0.07),\n",
              " ('max_tiempodeses_semana_pasada', 0.06),\n",
              " ('mean_tiempodeses_semana_pasada', 0.04),\n",
              " ('len_tiempodeses_ayer', 0.03)]"
            ]
          },
          "metadata": {},
          "execution_count": 126
        }
      ]
    },
    {
      "cell_type": "code",
      "metadata": {
        "colab": {
          "base_uri": "https://localhost:8080/",
          "height": 206
        },
        "outputId": "d780ed99-1892-491e-ab6e-298f0dcb942c",
        "id": "HMF4yl63QUcH"
      },
      "source": [
        "IVs = pd.DataFrame(data = list(range(2))).transpose()\n",
        "IVs.columns = ['VAR_NAME', 'IV']\n",
        "IVs = IVs.iloc[:-1,]\n",
        "Flags = [va_obj]\n",
        "for flag in Flags:\n",
        "  final_iv, IV = data_vars(X, y)\n",
        "  IVs = pd.concat([IVs, IV])\n",
        "\n",
        "IVs.sort_values(by='IV', ascending=False).head()"
      ],
      "execution_count": null,
      "outputs": [
        {
          "output_type": "execute_result",
          "data": {
            "text/html": [
              "\n",
              "  <div id=\"df-1d8fcc0a-dc11-454d-83c4-21762888bff1\">\n",
              "    <div class=\"colab-df-container\">\n",
              "      <div>\n",
              "<style scoped>\n",
              "    .dataframe tbody tr th:only-of-type {\n",
              "        vertical-align: middle;\n",
              "    }\n",
              "\n",
              "    .dataframe tbody tr th {\n",
              "        vertical-align: top;\n",
              "    }\n",
              "\n",
              "    .dataframe thead th {\n",
              "        text-align: right;\n",
              "    }\n",
              "</style>\n",
              "<table border=\"1\" class=\"dataframe\">\n",
              "  <thead>\n",
              "    <tr style=\"text-align: right;\">\n",
              "      <th></th>\n",
              "      <th>VAR_NAME</th>\n",
              "      <th>IV</th>\n",
              "    </tr>\n",
              "  </thead>\n",
              "  <tbody>\n",
              "    <tr>\n",
              "      <th>32</th>\n",
              "      <td>tiempodeses</td>\n",
              "      <td>7.458134</td>\n",
              "    </tr>\n",
              "    <tr>\n",
              "      <th>18</th>\n",
              "      <td>mean_tiempodeses_semana_pasada</td>\n",
              "      <td>0.708351</td>\n",
              "    </tr>\n",
              "    <tr>\n",
              "      <th>31</th>\n",
              "      <td>sum_tiempodeses_semana_pasada</td>\n",
              "      <td>0.707639</td>\n",
              "    </tr>\n",
              "    <tr>\n",
              "      <th>14</th>\n",
              "      <td>max_tiempodeses_semana_pasada</td>\n",
              "      <td>0.707639</td>\n",
              "    </tr>\n",
              "    <tr>\n",
              "      <th>9</th>\n",
              "      <td>len_tiempodeses_semana_pasada</td>\n",
              "      <td>0.624445</td>\n",
              "    </tr>\n",
              "  </tbody>\n",
              "</table>\n",
              "</div>\n",
              "      <button class=\"colab-df-convert\" onclick=\"convertToInteractive('df-1d8fcc0a-dc11-454d-83c4-21762888bff1')\"\n",
              "              title=\"Convert this dataframe to an interactive table.\"\n",
              "              style=\"display:none;\">\n",
              "        \n",
              "  <svg xmlns=\"http://www.w3.org/2000/svg\" height=\"24px\"viewBox=\"0 0 24 24\"\n",
              "       width=\"24px\">\n",
              "    <path d=\"M0 0h24v24H0V0z\" fill=\"none\"/>\n",
              "    <path d=\"M18.56 5.44l.94 2.06.94-2.06 2.06-.94-2.06-.94-.94-2.06-.94 2.06-2.06.94zm-11 1L8.5 8.5l.94-2.06 2.06-.94-2.06-.94L8.5 2.5l-.94 2.06-2.06.94zm10 10l.94 2.06.94-2.06 2.06-.94-2.06-.94-.94-2.06-.94 2.06-2.06.94z\"/><path d=\"M17.41 7.96l-1.37-1.37c-.4-.4-.92-.59-1.43-.59-.52 0-1.04.2-1.43.59L10.3 9.45l-7.72 7.72c-.78.78-.78 2.05 0 2.83L4 21.41c.39.39.9.59 1.41.59.51 0 1.02-.2 1.41-.59l7.78-7.78 2.81-2.81c.8-.78.8-2.07 0-2.86zM5.41 20L4 18.59l7.72-7.72 1.47 1.35L5.41 20z\"/>\n",
              "  </svg>\n",
              "      </button>\n",
              "      \n",
              "  <style>\n",
              "    .colab-df-container {\n",
              "      display:flex;\n",
              "      flex-wrap:wrap;\n",
              "      gap: 12px;\n",
              "    }\n",
              "\n",
              "    .colab-df-convert {\n",
              "      background-color: #E8F0FE;\n",
              "      border: none;\n",
              "      border-radius: 50%;\n",
              "      cursor: pointer;\n",
              "      display: none;\n",
              "      fill: #1967D2;\n",
              "      height: 32px;\n",
              "      padding: 0 0 0 0;\n",
              "      width: 32px;\n",
              "    }\n",
              "\n",
              "    .colab-df-convert:hover {\n",
              "      background-color: #E2EBFA;\n",
              "      box-shadow: 0px 1px 2px rgba(60, 64, 67, 0.3), 0px 1px 3px 1px rgba(60, 64, 67, 0.15);\n",
              "      fill: #174EA6;\n",
              "    }\n",
              "\n",
              "    [theme=dark] .colab-df-convert {\n",
              "      background-color: #3B4455;\n",
              "      fill: #D2E3FC;\n",
              "    }\n",
              "\n",
              "    [theme=dark] .colab-df-convert:hover {\n",
              "      background-color: #434B5C;\n",
              "      box-shadow: 0px 1px 3px 1px rgba(0, 0, 0, 0.15);\n",
              "      filter: drop-shadow(0px 1px 2px rgba(0, 0, 0, 0.3));\n",
              "      fill: #FFFFFF;\n",
              "    }\n",
              "  </style>\n",
              "\n",
              "      <script>\n",
              "        const buttonEl =\n",
              "          document.querySelector('#df-1d8fcc0a-dc11-454d-83c4-21762888bff1 button.colab-df-convert');\n",
              "        buttonEl.style.display =\n",
              "          google.colab.kernel.accessAllowed ? 'block' : 'none';\n",
              "\n",
              "        async function convertToInteractive(key) {\n",
              "          const element = document.querySelector('#df-1d8fcc0a-dc11-454d-83c4-21762888bff1');\n",
              "          const dataTable =\n",
              "            await google.colab.kernel.invokeFunction('convertToInteractive',\n",
              "                                                     [key], {});\n",
              "          if (!dataTable) return;\n",
              "\n",
              "          const docLinkHtml = 'Like what you see? Visit the ' +\n",
              "            '<a target=\"_blank\" href=https://colab.research.google.com/notebooks/data_table.ipynb>data table notebook</a>'\n",
              "            + ' to learn more about interactive tables.';\n",
              "          element.innerHTML = '';\n",
              "          dataTable['output_type'] = 'display_data';\n",
              "          await google.colab.output.renderOutput(dataTable, element);\n",
              "          const docLink = document.createElement('div');\n",
              "          docLink.innerHTML = docLinkHtml;\n",
              "          element.appendChild(docLink);\n",
              "        }\n",
              "      </script>\n",
              "    </div>\n",
              "  </div>\n",
              "  "
            ],
            "text/plain": [
              "                          VAR_NAME        IV\n",
              "32                     tiempodeses  7.458134\n",
              "18  mean_tiempodeses_semana_pasada  0.708351\n",
              "31   sum_tiempodeses_semana_pasada  0.707639\n",
              "14   max_tiempodeses_semana_pasada  0.707639\n",
              "9    len_tiempodeses_semana_pasada  0.624445"
            ]
          },
          "metadata": {},
          "execution_count": 127
        }
      ]
    },
    {
      "cell_type": "markdown",
      "source": [
        "Como se esperaba, añadir información sobre inicios de sesión anteriores añade poder predictivo para aquellos registros que pueden disponer de esa información"
      ],
      "metadata": {
        "id": "LWT0LTNVRcdw"
      }
    },
    {
      "cell_type": "code",
      "metadata": {
        "id": "-KyuXYWOQUcI"
      },
      "source": [
        "ivs = IVs.sort_values(by='IV', ascending=False)\n",
        "lis_ivs_1 = ivs[ivs.IV>.1]['VAR_NAME'].tolist()"
      ],
      "execution_count": null,
      "outputs": []
    },
    {
      "cell_type": "code",
      "metadata": {
        "colab": {
          "base_uri": "https://localhost:8080/"
        },
        "outputId": "619d4742-9b07-484d-e2f3-dc924a2b631b",
        "id": "jJ_cZUbPQUcL"
      },
      "source": [
        "var_imp_R = list(set(lis_ivs_1+var_impr_gral))\n",
        "len(var_imp_R)"
      ],
      "execution_count": null,
      "outputs": [
        {
          "output_type": "execute_result",
          "data": {
            "text/plain": [
              "23"
            ]
          },
          "metadata": {},
          "execution_count": 134
        }
      ]
    },
    {
      "cell_type": "code",
      "metadata": {
        "id": "T4v0nAryQUcN"
      },
      "source": [
        "X = docs[modelo][var_imp_R]\n",
        "y = docs[modelo][va_obj]\n",
        "\n",
        "X_train, X_test, y_train, y_test = train_test_split(X, y, test_size=0.25, random_state=112)"
      ],
      "execution_count": null,
      "outputs": []
    },
    {
      "cell_type": "code",
      "metadata": {
        "colab": {
          "base_uri": "https://localhost:8080/"
        },
        "outputId": "40d8f1d4-8262-4110-db12-aed3f2e8b0da",
        "id": "pHiUktotQUcP"
      },
      "source": [
        "rf = RandomForestClassifier(random_state=np.random.RandomState(seed=34586))\n",
        "param_grid = {'n_estimators':range(40,161,30),'max_depth':range(3,10,2)}\n",
        "cv = GridSearchCV(rf,param_grid=param_grid,cv=5,n_jobs=-1)\n",
        "cv.fit(X_train,y_train)"
      ],
      "execution_count": null,
      "outputs": [
        {
          "output_type": "execute_result",
          "data": {
            "text/plain": [
              "GridSearchCV(cv=5,\n",
              "             estimator=RandomForestClassifier(random_state=RandomState(MT19937) at 0x7F23B553A5A0),\n",
              "             n_jobs=-1,\n",
              "             param_grid={'max_depth': range(3, 10, 2),\n",
              "                         'n_estimators': range(40, 161, 30)})"
            ]
          },
          "metadata": {},
          "execution_count": 131
        }
      ]
    },
    {
      "cell_type": "code",
      "metadata": {
        "colab": {
          "base_uri": "https://localhost:8080/"
        },
        "outputId": "e7c87b9f-e3f3-4e08-aeba-3a237c52bb5a",
        "id": "i3ejtnX0QUcQ"
      },
      "source": [
        "predicciones = y_pred = cv.best_estimator_.predict(X_train)\n",
        "predicciones = [round(x,0) for x in predicciones]\n",
        "rmse = mean_squared_error(y_true  = y_train, y_pred  = predicciones, squared = False) \n",
        "print(f\"El error (rmse) de traint es: {rmse}\")\n",
        "\n",
        "predicciones = y_pred = cv.best_estimator_.predict(X_test)\n",
        "predicciones = [round(x,0) for x in predicciones]\n",
        "rmse = mean_squared_error(y_true  = y_test,y_pred  = predicciones,squared = False)\n",
        "print(f\"El error (rmse) de test es: {rmse}\")"
      ],
      "execution_count": null,
      "outputs": [
        {
          "output_type": "stream",
          "name": "stdout",
          "text": [
            "El error (rmse) de traint es: 0.18623717361925687\n",
            "El error (rmse) de test es: 0.18967504642772579\n"
          ]
        }
      ]
    },
    {
      "cell_type": "code",
      "source": [
        "roc_auc = roc_auc_score(y_test, predicciones)\n",
        "roc_auc"
      ],
      "metadata": {
        "colab": {
          "base_uri": "https://localhost:8080/"
        },
        "outputId": "b0d06028-c8b0-4917-cf4d-cd4c16959578",
        "id": "ITm4T_tPQUcS"
      },
      "execution_count": null,
      "outputs": [
        {
          "output_type": "execute_result",
          "data": {
            "text/plain": [
              "0.9543180879938138"
            ]
          },
          "metadata": {},
          "execution_count": 133
        }
      ]
    },
    {
      "cell_type": "markdown",
      "source": [
        "# Resultados en el set de validación"
      ],
      "metadata": {
        "id": "gT1xao5xtNbA"
      }
    },
    {
      "cell_type": "markdown",
      "source": [
        "Utilizo todos los datos del modelo con las mejores variables y los mejores parámetros para entrenar"
      ],
      "metadata": {
        "id": "MH08QVI4tNbB"
      }
    },
    {
      "cell_type": "code",
      "source": [
        "param_grid = cv.best_params_\n",
        "param_grid = {'max_depth':[param_grid['max_depth']], 'n_estimators': [param_grid['n_estimators']]}\n",
        "param_grid"
      ],
      "metadata": {
        "colab": {
          "base_uri": "https://localhost:8080/"
        },
        "id": "LguwyOq8tNbB",
        "outputId": "ad2802a7-6db2-4aed-81b3-cf0f137fd7ec"
      },
      "execution_count": null,
      "outputs": [
        {
          "output_type": "execute_result",
          "data": {
            "text/plain": [
              "{'max_depth': [9], 'n_estimators': [100]}"
            ]
          },
          "metadata": {},
          "execution_count": 135
        }
      ]
    },
    {
      "cell_type": "code",
      "source": [
        "rf = RandomForestClassifier(random_state=np.random.RandomState(seed=34586))\n",
        "cv = GridSearchCV(rf,param_grid=param_grid,cv=5,n_jobs=-1)\n",
        "cv.fit(X,y)"
      ],
      "metadata": {
        "colab": {
          "base_uri": "https://localhost:8080/"
        },
        "outputId": "a10c44f6-176a-4287-d894-df21f8a8ad72",
        "id": "6hvFUyjutNbC"
      },
      "execution_count": null,
      "outputs": [
        {
          "output_type": "execute_result",
          "data": {
            "text/plain": [
              "GridSearchCV(cv=5,\n",
              "             estimator=RandomForestClassifier(random_state=RandomState(MT19937) at 0x7F23B553A270),\n",
              "             n_jobs=-1, param_grid={'max_depth': [5], 'n_estimators': [40]})"
            ]
          },
          "metadata": {},
          "execution_count": 108
        }
      ]
    },
    {
      "cell_type": "code",
      "source": [
        "Validacion2 = cv.best_estimator_.predict(docs['v_con_i'][var_imp_R])"
      ],
      "metadata": {
        "id": "1DxK0mRJtNbC"
      },
      "execution_count": null,
      "outputs": []
    },
    {
      "cell_type": "code",
      "source": [
        "docs['v_con_i']['predict'] = Validacion2"
      ],
      "metadata": {
        "id": "L_k7vZRwtNbD"
      },
      "execution_count": null,
      "outputs": []
    },
    {
      "cell_type": "code",
      "source": [
        "cols_rel = ['device_mac', 'branch_office', 'month_tz', 'day_tz', 'day_of_week_tz',\n",
        "       'hour_tz', 'tiempodeses', 'date', 'cluster', 'predict']\n",
        "Resultados = pd.concat([docs['v_con_i'][cols_rel], docs['v_sin_i']])"
      ],
      "metadata": {
        "id": "l9Oxk8vltxJ4"
      },
      "execution_count": null,
      "outputs": []
    },
    {
      "cell_type": "code",
      "source": [
        "Resultados = Resultados.reset_index().sort_values('index').drop(columns=['index'])"
      ],
      "metadata": {
        "id": "-MmjmD93uTea"
      },
      "execution_count": null,
      "outputs": []
    },
    {
      "cell_type": "code",
      "source": [
        "Resultados.loc[:,'predict'] = Resultados['predict'].apply(lambda x: True if x==1 else False)"
      ],
      "metadata": {
        "id": "OgVA-6ocvBIS"
      },
      "execution_count": null,
      "outputs": []
    },
    {
      "cell_type": "code",
      "source": [
        "Resultados.to_csv('resultados.csv', index=False)\n",
        "Resultados['predict'].to_csv('resultados_predict.csv', index=False)"
      ],
      "metadata": {
        "id": "j7E1gjfZuL5C"
      },
      "execution_count": null,
      "outputs": []
    },
    {
      "cell_type": "markdown",
      "source": [
        "**Resultados**\n",
        "\n",
        "Podemos decir que el mayor indicador de que un usuario es visitante o no es el tiempo se sesión, sin embargo, hay otros factores como los inicios de sesión en semanas o días anteriores que determinan si dicho ususario suele ser visitante o no.\n",
        "\n",
        "Así mismo, el hacer un perfilamiento de los usuarios de acuerdo a las variables como hora, día del mes, de la semana, etc. en la que fue la sesión así como el tiempo que duró la misma pueden ayudar en caso de no tener inforamción pasada.\n",
        "\n",
        "De igual forma, se podría agregar inforamción de tiempos anteriores si se desea incrementar el accuracy del modelo y estructurar el código en caso de que lleguen nuevos insumos, lo cual sería muy rápido dada la estructura del código"
      ],
      "metadata": {
        "id": "HCw3lz6AwC7f"
      }
    }
  ]
}