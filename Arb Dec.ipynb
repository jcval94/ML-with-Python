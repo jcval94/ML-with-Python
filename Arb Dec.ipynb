{
 "cells": [
  {
   "cell_type": "code",
   "execution_count": 1,
   "metadata": {
    "collapsed": true
   },
   "outputs": [],
   "source": [
    "from __future__ import division\n",
    "from sklearn import tree\n",
    "from sklearn.tree import DecisionTreeClassifier\n",
    "from sklearn.metrics import accuracy_score,roc_auc_score\n",
    "from sklearn.model_selection import train_test_split\n",
    "from sklearn.model_selection import RandomizedSearchCV,GridSearchCV\n",
    "from sklearn.preprocessing import Imputer\n",
    "#from analytics_tools3 import freq_discrete\n",
    "import pandas as pd\n",
    "import numpy as np\n",
    "import graphviz\n",
    "import seaborn as sns\n",
    "pd.set_option('display.max_columns',500)\n",
    "pd.set_option('display.float_format', lambda x: '%.3f' % x)\n",
    "%matplotlib inline"
   ]
  },
  {
   "cell_type": "code",
   "execution_count": 2,
   "metadata": {
    "collapsed": true
   },
   "outputs": [],
   "source": [
    "df = pd.read_csv('C:/Users/cody8/Desktop/Documentos/Escuela/AMV/parcial 3 y 4/entrenar2.csv')"
   ]
  },
  {
   "cell_type": "code",
   "execution_count": 3,
   "metadata": {
    "collapsed": false
   },
   "outputs": [
    {
     "data": {
      "text/html": [
       "<div>\n",
       "<table border=\"1\" class=\"dataframe\">\n",
       "  <thead>\n",
       "    <tr style=\"text-align: right;\">\n",
       "      <th></th>\n",
       "      <th>Cuadrante</th>\n",
       "      <th>c_Total de crimenes</th>\n",
       "      <th>c_HOMICIDIO_DOLOSO</th>\n",
       "      <th>c_LESIONES_POR_ARMA_DE_FUEGO</th>\n",
       "      <th>c_ROBO_A_BORDO_DE_METRO_CV</th>\n",
       "      <th>c_ROBO_A_BORDO_DE_MICROBUS_CV</th>\n",
       "      <th>c_ROBO_A_BORDO_DE_MICROBUS_SV</th>\n",
       "      <th>c_ROBO_A_BORDO_DE_TAXI_CV</th>\n",
       "      <th>c_ROBO_A_CASA_HABITACION_CV</th>\n",
       "      <th>c_ROBO_A_CUENTAHABIENTE_CV</th>\n",
       "      <th>c_ROBO_A_NEGOCIO_CV</th>\n",
       "      <th>c_ROBO_A_REPARTIDOR_CV</th>\n",
       "      <th>c_ROBO_A_REPARTIDOR_SV</th>\n",
       "      <th>c_ROBO_A_TRANSEUNTE_CV</th>\n",
       "      <th>c_ROBO_A_TRANSEUNTE_SV</th>\n",
       "      <th>c_ROBO_A_TRANSPORTISTA_CV</th>\n",
       "      <th>c_ROBO_A_TRANSPORTISTA_SV</th>\n",
       "      <th>c_ROBO_DE_VEHICULO_AUTOMOTOR_CV</th>\n",
       "      <th>c_ROBO_DE_VEHICULO_AUTOMOTOR_SV</th>\n",
       "      <th>c_VIOLACION</th>\n",
       "      <th>obj</th>\n",
       "    </tr>\n",
       "  </thead>\n",
       "  <tbody>\n",
       "    <tr>\n",
       "      <th>0</th>\n",
       "      <td>1</td>\n",
       "      <td>205</td>\n",
       "      <td>6</td>\n",
       "      <td>1</td>\n",
       "      <td>0</td>\n",
       "      <td>19</td>\n",
       "      <td>0</td>\n",
       "      <td>1</td>\n",
       "      <td>4</td>\n",
       "      <td>1</td>\n",
       "      <td>24</td>\n",
       "      <td>4</td>\n",
       "      <td>1</td>\n",
       "      <td>29</td>\n",
       "      <td>2</td>\n",
       "      <td>1</td>\n",
       "      <td>0</td>\n",
       "      <td>48</td>\n",
       "      <td>62</td>\n",
       "      <td>2</td>\n",
       "      <td>0</td>\n",
       "    </tr>\n",
       "    <tr>\n",
       "      <th>1</th>\n",
       "      <td>2</td>\n",
       "      <td>41</td>\n",
       "      <td>1</td>\n",
       "      <td>0</td>\n",
       "      <td>0</td>\n",
       "      <td>1</td>\n",
       "      <td>1</td>\n",
       "      <td>1</td>\n",
       "      <td>1</td>\n",
       "      <td>0</td>\n",
       "      <td>13</td>\n",
       "      <td>0</td>\n",
       "      <td>1</td>\n",
       "      <td>2</td>\n",
       "      <td>0</td>\n",
       "      <td>0</td>\n",
       "      <td>0</td>\n",
       "      <td>9</td>\n",
       "      <td>10</td>\n",
       "      <td>1</td>\n",
       "      <td>0</td>\n",
       "    </tr>\n",
       "    <tr>\n",
       "      <th>2</th>\n",
       "      <td>3</td>\n",
       "      <td>140</td>\n",
       "      <td>1</td>\n",
       "      <td>3</td>\n",
       "      <td>0</td>\n",
       "      <td>3</td>\n",
       "      <td>0</td>\n",
       "      <td>1</td>\n",
       "      <td>4</td>\n",
       "      <td>4</td>\n",
       "      <td>15</td>\n",
       "      <td>9</td>\n",
       "      <td>3</td>\n",
       "      <td>34</td>\n",
       "      <td>0</td>\n",
       "      <td>0</td>\n",
       "      <td>0</td>\n",
       "      <td>17</td>\n",
       "      <td>46</td>\n",
       "      <td>0</td>\n",
       "      <td>0</td>\n",
       "    </tr>\n",
       "    <tr>\n",
       "      <th>3</th>\n",
       "      <td>4</td>\n",
       "      <td>107</td>\n",
       "      <td>10</td>\n",
       "      <td>5</td>\n",
       "      <td>0</td>\n",
       "      <td>2</td>\n",
       "      <td>0</td>\n",
       "      <td>0</td>\n",
       "      <td>4</td>\n",
       "      <td>0</td>\n",
       "      <td>4</td>\n",
       "      <td>20</td>\n",
       "      <td>3</td>\n",
       "      <td>32</td>\n",
       "      <td>1</td>\n",
       "      <td>0</td>\n",
       "      <td>0</td>\n",
       "      <td>10</td>\n",
       "      <td>12</td>\n",
       "      <td>4</td>\n",
       "      <td>0</td>\n",
       "    </tr>\n",
       "    <tr>\n",
       "      <th>4</th>\n",
       "      <td>5</td>\n",
       "      <td>109</td>\n",
       "      <td>2</td>\n",
       "      <td>1</td>\n",
       "      <td>0</td>\n",
       "      <td>3</td>\n",
       "      <td>0</td>\n",
       "      <td>2</td>\n",
       "      <td>1</td>\n",
       "      <td>1</td>\n",
       "      <td>19</td>\n",
       "      <td>6</td>\n",
       "      <td>1</td>\n",
       "      <td>16</td>\n",
       "      <td>1</td>\n",
       "      <td>3</td>\n",
       "      <td>0</td>\n",
       "      <td>21</td>\n",
       "      <td>30</td>\n",
       "      <td>2</td>\n",
       "      <td>0</td>\n",
       "    </tr>\n",
       "  </tbody>\n",
       "</table>\n",
       "</div>"
      ],
      "text/plain": [
       "   Cuadrante  c_Total de crimenes  c_HOMICIDIO_DOLOSO  \\\n",
       "0          1                  205                   6   \n",
       "1          2                   41                   1   \n",
       "2          3                  140                   1   \n",
       "3          4                  107                  10   \n",
       "4          5                  109                   2   \n",
       "\n",
       "   c_LESIONES_POR_ARMA_DE_FUEGO  c_ROBO_A_BORDO_DE_METRO_CV  \\\n",
       "0                             1                           0   \n",
       "1                             0                           0   \n",
       "2                             3                           0   \n",
       "3                             5                           0   \n",
       "4                             1                           0   \n",
       "\n",
       "   c_ROBO_A_BORDO_DE_MICROBUS_CV  c_ROBO_A_BORDO_DE_MICROBUS_SV  \\\n",
       "0                             19                              0   \n",
       "1                              1                              1   \n",
       "2                              3                              0   \n",
       "3                              2                              0   \n",
       "4                              3                              0   \n",
       "\n",
       "   c_ROBO_A_BORDO_DE_TAXI_CV  c_ROBO_A_CASA_HABITACION_CV  \\\n",
       "0                          1                            4   \n",
       "1                          1                            1   \n",
       "2                          1                            4   \n",
       "3                          0                            4   \n",
       "4                          2                            1   \n",
       "\n",
       "   c_ROBO_A_CUENTAHABIENTE_CV  c_ROBO_A_NEGOCIO_CV  c_ROBO_A_REPARTIDOR_CV  \\\n",
       "0                           1                   24                       4   \n",
       "1                           0                   13                       0   \n",
       "2                           4                   15                       9   \n",
       "3                           0                    4                      20   \n",
       "4                           1                   19                       6   \n",
       "\n",
       "   c_ROBO_A_REPARTIDOR_SV  c_ROBO_A_TRANSEUNTE_CV  c_ROBO_A_TRANSEUNTE_SV  \\\n",
       "0                       1                      29                       2   \n",
       "1                       1                       2                       0   \n",
       "2                       3                      34                       0   \n",
       "3                       3                      32                       1   \n",
       "4                       1                      16                       1   \n",
       "\n",
       "   c_ROBO_A_TRANSPORTISTA_CV  c_ROBO_A_TRANSPORTISTA_SV  \\\n",
       "0                          1                          0   \n",
       "1                          0                          0   \n",
       "2                          0                          0   \n",
       "3                          0                          0   \n",
       "4                          3                          0   \n",
       "\n",
       "   c_ROBO_DE_VEHICULO_AUTOMOTOR_CV  c_ROBO_DE_VEHICULO_AUTOMOTOR_SV  \\\n",
       "0                               48                               62   \n",
       "1                                9                               10   \n",
       "2                               17                               46   \n",
       "3                               10                               12   \n",
       "4                               21                               30   \n",
       "\n",
       "   c_VIOLACION  obj  \n",
       "0            2    0  \n",
       "1            1    0  \n",
       "2            0    0  \n",
       "3            4    0  \n",
       "4            2    0  "
      ]
     },
     "execution_count": 3,
     "metadata": {},
     "output_type": "execute_result"
    }
   ],
   "source": [
    "df.head()"
   ]
  },
  {
   "cell_type": "code",
   "execution_count": 4,
   "metadata": {
    "collapsed": false
   },
   "outputs": [
    {
     "name": "stdout",
     "output_type": "stream",
     "text": [
      "19\n",
      "0\n"
     ]
    }
   ],
   "source": [
    "var_disc = [x for x in df.columns if x.startswith('d_')]\n",
    "var_cont = [x for x in df.columns if x.startswith('c_')]\n",
    "# obj = d_ROBO_A_BORDO_DE_METRO_SV Jul Ag Sept\n",
    "X = df[var_cont+var_disc].copy()\n",
    "y = df['obj'].copy()\n",
    "\n",
    "print len(var_cont)\n",
    "print len(var_disc)"
   ]
  },
  {
   "cell_type": "code",
   "execution_count": 5,
   "metadata": {
    "collapsed": true
   },
   "outputs": [],
   "source": [
    "#im = Imputer(strategy='mean')\n",
    "#im.fit(X,y)\n",
    "#X = im.transform(X)"
   ]
  },
  {
   "cell_type": "code",
   "execution_count": 26,
   "metadata": {
    "collapsed": false
   },
   "outputs": [
    {
     "name": "stdout",
     "output_type": "stream",
     "text": [
      "(415, 19)\n",
      "(178, 19)\n",
      "(415L,)\n",
      "(178L,)\n"
     ]
    }
   ],
   "source": [
    "Xt,Xv,yt,yv = train_test_split(X,y,train_size=0.7)\n",
    "\n",
    "print Xt.shape\n",
    "print Xv.shape\n",
    "print yt.shape\n",
    "print yv.shape"
   ]
  },
  {
   "cell_type": "code",
   "execution_count": 27,
   "metadata": {
    "collapsed": false
   },
   "outputs": [
    {
     "name": "stdout",
     "output_type": "stream",
     "text": [
      "{'max_features': 16, 'max_leaf_nodes': 15, 'max_depth': 2, 'min_samples_leaf': 0.05}\n",
      "DecisionTreeClassifier(class_weight=None, criterion='gini', max_depth=2,\n",
      "            max_features=16, max_leaf_nodes=15, min_impurity_split=1e-07,\n",
      "            min_samples_leaf=0.05, min_samples_split=2,\n",
      "            min_weight_fraction_leaf=0.0, presort=False, random_state=None,\n",
      "            splitter='best')\n",
      "0.888474851788\n",
      "Wall time: 3min 9s\n"
     ]
    }
   ],
   "source": [
    "%%time\n",
    "param_grid=dict(max_depth=range(2,8),\n",
    "            max_features=range(2,X.shape[1]),\n",
    "            max_leaf_nodes=range(5,21),\n",
    "            min_samples_leaf=[0.05])\n",
    "dt=DecisionTreeClassifier()\n",
    "grid = GridSearchCV(dt,param_grid,\n",
    "                            cv=10,\n",
    "                            scoring='roc_auc',\n",
    "                            n_jobs=-1)\n",
    "grid.fit(Xt,yt)\n",
    "\n",
    "print grid.best_params_\n",
    "print grid.best_estimator_\n",
    "print grid.best_score_"
   ]
  },
  {
   "cell_type": "code",
   "execution_count": 8,
   "metadata": {
    "collapsed": false
   },
   "outputs": [
    {
     "name": "stdout",
     "output_type": "stream",
     "text": [
      "{'max_features': 15, 'max_leaf_nodes': 13, 'max_depth': 4, 'min_samples_leaf': 0.05}\n",
      "DecisionTreeClassifier(class_weight=None, criterion='gini', max_depth=4,\n",
      "            max_features=15, max_leaf_nodes=13, min_impurity_split=1e-07,\n",
      "            min_samples_leaf=0.05, min_samples_split=2,\n",
      "            min_weight_fraction_leaf=0.0, presort=False, random_state=None,\n",
      "            splitter='best')\n",
      "0.881425702811\n",
      "Wall time: 30 s\n"
     ]
    }
   ],
   "source": [
    "%%time\n",
    "param_grid=dict(max_depth=range(2,8),\n",
    "            max_features=range(2,X.shape[1]),\n",
    "            max_leaf_nodes=range(5,21),\n",
    "            min_samples_leaf=[0.05])\n",
    "dt=DecisionTreeClassifier()\n",
    "rsgrid = RandomizedSearchCV(dt,\n",
    "                            param_grid,\n",
    "                            cv=10,\n",
    "                            scoring='roc_auc',\n",
    "                            n_jobs=-1,\n",
    "                            n_iter=50)\n",
    "rsgrid.fit(Xt,yt)\n",
    "\n",
    "print rsgrid.best_params_\n",
    "print rsgrid.best_estimator_\n",
    "print rsgrid.best_score_"
   ]
  },
  {
   "cell_type": "code",
   "execution_count": 28,
   "metadata": {
    "collapsed": true
   },
   "outputs": [],
   "source": [
    "dt = grid.best_estimator_\n",
    "#dt = rsgrid.best_estimator_"
   ]
  },
  {
   "cell_type": "code",
   "execution_count": 29,
   "metadata": {
    "collapsed": false
   },
   "outputs": [
    {
     "data": {
      "text/plain": [
       "DecisionTreeClassifier(class_weight=None, criterion='gini', max_depth=2,\n",
       "            max_features=16, max_leaf_nodes=15, min_impurity_split=1e-07,\n",
       "            min_samples_leaf=0.05, min_samples_split=2,\n",
       "            min_weight_fraction_leaf=0.0, presort=False, random_state=None,\n",
       "            splitter='best')"
      ]
     },
     "execution_count": 29,
     "metadata": {},
     "output_type": "execute_result"
    }
   ],
   "source": [
    "dt.fit(Xt,yt)"
   ]
  },
  {
   "cell_type": "code",
   "execution_count": 30,
   "metadata": {
    "collapsed": false,
    "scrolled": true
   },
   "outputs": [
    {
     "name": "stdout",
     "output_type": "stream",
     "text": [
      "0.88202247191\n",
      "0.89156626506\n"
     ]
    }
   ],
   "source": [
    "print accuracy_score(y_pred=dt.predict(Xv),y_true=yv)\n",
    "print accuracy_score(y_pred=dt.predict(Xt),y_true=yt)"
   ]
  },
  {
   "cell_type": "code",
   "execution_count": 31,
   "metadata": {
    "collapsed": false
   },
   "outputs": [
    {
     "name": "stdout",
     "output_type": "stream",
     "text": [
      "0.912826128357\n",
      "0.872140522876\n"
     ]
    }
   ],
   "source": [
    "print roc_auc_score(y_score=dt.predict_proba(Xt)[:,1],y_true=yt)\n",
    "print roc_auc_score(y_score=dt.predict_proba(Xv)[:,1],y_true=yv)"
   ]
  },
  {
   "cell_type": "code",
   "execution_count": 32,
   "metadata": {
    "collapsed": true
   },
   "outputs": [],
   "source": [
    "with open('arbolex.dot','wb') as f:\n",
    "    tree.export_graphviz(class_names=['good','bad'],\n",
    "                         decision_tree=dt,\n",
    "                         feature_names=var_cont+var_disc,\n",
    "                         out_file=f)\n",
    "    f.close()"
   ]
  },
  {
   "cell_type": "code",
   "execution_count": 33,
   "metadata": {
    "collapsed": false
   },
   "outputs": [],
   "source": [
    "predicarb=pd.Series(dt.predict_proba(Xv)[:,1])"
   ]
  },
  {
   "cell_type": "code",
   "execution_count": 34,
   "metadata": {
    "collapsed": false
   },
   "outputs": [
    {
     "data": {
      "text/plain": [
       "0     0.055\n",
       "1     0.055\n",
       "2     0.000\n",
       "3     0.792\n",
       "4     0.055\n",
       "5     0.000\n",
       "6     0.022\n",
       "7     0.792\n",
       "8     0.022\n",
       "9     0.055\n",
       "10    0.022\n",
       "11    0.000\n",
       "12    0.022\n",
       "13    0.055\n",
       "14    0.055\n",
       "15    0.792\n",
       "16    0.500\n",
       "17    0.190\n",
       "18    0.022\n",
       "19    0.000\n",
       "20    0.000\n",
       "21    0.000\n",
       "22    0.000\n",
       "23    0.055\n",
       "24    0.055\n",
       "25    0.055\n",
       "26    0.055\n",
       "27    0.190\n",
       "28    0.022\n",
       "29    0.000\n",
       "       ... \n",
       "148   0.000\n",
       "149   0.000\n",
       "150   0.022\n",
       "151   0.055\n",
       "152   0.055\n",
       "153   0.055\n",
       "154   0.055\n",
       "155   0.055\n",
       "156   0.425\n",
       "157   0.055\n",
       "158   0.055\n",
       "159   0.055\n",
       "160   0.055\n",
       "161   0.792\n",
       "162   0.055\n",
       "163   0.425\n",
       "164   0.000\n",
       "165   0.000\n",
       "166   0.500\n",
       "167   0.425\n",
       "168   0.190\n",
       "169   0.792\n",
       "170   0.000\n",
       "171   0.500\n",
       "172   0.000\n",
       "173   0.022\n",
       "174   0.425\n",
       "175   0.190\n",
       "176   0.055\n",
       "177   0.000\n",
       "dtype: float64"
      ]
     },
     "execution_count": 34,
     "metadata": {},
     "output_type": "execute_result"
    }
   ],
   "source": [
    "predicarb"
   ]
  },
  {
   "cell_type": "code",
   "execution_count": 35,
   "metadata": {
    "collapsed": true
   },
   "outputs": [],
   "source": [
    "vf = pd.read_csv('C:/Users/cody8/Desktop/Documentos/Escuela/AMV/parcial 3 y 4/validar2.csv')"
   ]
  },
  {
   "cell_type": "code",
   "execution_count": 36,
   "metadata": {
    "collapsed": true
   },
   "outputs": [],
   "source": [
    "tf = pd.read_csv('C:/Users/cody8/Desktop/Documentos/Escuela/AMV/parcial 3 y 4/entrenar2.csv')"
   ]
  },
  {
   "cell_type": "code",
   "execution_count": 37,
   "metadata": {
    "collapsed": true
   },
   "outputs": [],
   "source": [
    "var_disc = [x for x in tf.columns if x.startswith('d_')]\n",
    "var_cont = [x for x in tf.columns if x.startswith('c_')]\n",
    "## obj = d_ROBO_A_BORDO_DE_METRO_SV Jul Ag Sept\n",
    "Xw = tf[var_cont+var_disc].copy()\n",
    "yw = tf['obj'].copy()\n",
    "\n",
    "\n",
    "\n",
    "var_discf = [x for x in vf.columns if x.startswith('d_')]\n",
    "var_contf = [x for x in vf.columns if x.startswith('c_')]\n",
    "## obj = d_ROBO_A_BORDO_DE_METRO_SV Jul Ag Sept\n",
    "Xv = vf[var_contf+var_discf].copy()\n",
    "\n"
   ]
  },
  {
   "cell_type": "code",
   "execution_count": 38,
   "metadata": {
    "collapsed": false
   },
   "outputs": [
    {
     "name": "stdout",
     "output_type": "stream",
     "text": [
      "(593, 19)\n",
      "(199, 19)\n",
      "(593L,)\n"
     ]
    }
   ],
   "source": [
    "#Comprobamos que la dimensión de nuestras bases sea correcta\n",
    "print Xw.shape\n",
    "print Xv.shape\n",
    "print yw.shape"
   ]
  },
  {
   "cell_type": "code",
   "execution_count": 39,
   "metadata": {
    "collapsed": false
   },
   "outputs": [
    {
     "data": {
      "text/plain": [
       "DecisionTreeClassifier(class_weight=None, criterion='gini', max_depth=2,\n",
       "            max_features=16, max_leaf_nodes=15, min_impurity_split=1e-07,\n",
       "            min_samples_leaf=0.05, min_samples_split=2,\n",
       "            min_weight_fraction_leaf=0.0, presort=False, random_state=None,\n",
       "            splitter='best')"
      ]
     },
     "execution_count": 39,
     "metadata": {},
     "output_type": "execute_result"
    }
   ],
   "source": [
    "dt.fit(Xw,yw)"
   ]
  },
  {
   "cell_type": "code",
   "execution_count": 40,
   "metadata": {
    "collapsed": false
   },
   "outputs": [
    {
     "name": "stdout",
     "output_type": "stream",
     "text": [
      "0.903150537634\n"
     ]
    }
   ],
   "source": [
    "print roc_auc_score(y_score=dt.predict_proba(Xw)[:,1],y_true=yw)"
   ]
  },
  {
   "cell_type": "code",
   "execution_count": 41,
   "metadata": {
    "collapsed": false
   },
   "outputs": [
    {
     "name": "stdout",
     "output_type": "stream",
     "text": [
      "0.897133220911\n"
     ]
    }
   ],
   "source": [
    "print accuracy_score(y_pred=dt.predict(Xw),y_true=yw)"
   ]
  },
  {
   "cell_type": "code",
   "execution_count": 42,
   "metadata": {
    "collapsed": false
   },
   "outputs": [
    {
     "name": "stdout",
     "output_type": "stream",
     "text": [
      "(593, 19)\n",
      "(199, 19)\n",
      "(593L,)\n"
     ]
    }
   ],
   "source": [
    "print X.shape\n",
    "print Xv.shape\n",
    "print y.shape"
   ]
  },
  {
   "cell_type": "code",
   "execution_count": 43,
   "metadata": {
    "collapsed": false
   },
   "outputs": [],
   "source": [
    "predicssj2=pd.Series(dt.predict_proba(Xv)[:,1])"
   ]
  },
  {
   "cell_type": "code",
   "execution_count": 47,
   "metadata": {
    "collapsed": false
   },
   "outputs": [
    {
     "data": {
      "text/plain": [
       "0     0.057\n",
       "1     0.057\n",
       "2     0.153\n",
       "3     0.842\n",
       "4     0.057\n",
       "5     0.057\n",
       "6     0.153\n",
       "7     0.842\n",
       "8     0.057\n",
       "9     0.000\n",
       "10    0.057\n",
       "11    0.057\n",
       "12    0.057\n",
       "13    0.057\n",
       "14    0.000\n",
       "15    0.568\n",
       "16    0.568\n",
       "17    0.057\n",
       "18    0.000\n",
       "19    0.568\n",
       "20    0.000\n",
       "21    0.000\n",
       "22    0.000\n",
       "23    0.057\n",
       "24    0.057\n",
       "25    0.000\n",
       "26    0.057\n",
       "27    0.057\n",
       "28    0.057\n",
       "29    0.568\n",
       "       ... \n",
       "169   0.000\n",
       "170   0.000\n",
       "171   0.057\n",
       "172   0.000\n",
       "173   0.000\n",
       "174   0.000\n",
       "175   0.000\n",
       "176   0.000\n",
       "177   0.000\n",
       "178   0.326\n",
       "179   0.057\n",
       "180   0.057\n",
       "181   0.326\n",
       "182   0.000\n",
       "183   0.153\n",
       "184   0.057\n",
       "185   0.057\n",
       "186   0.057\n",
       "187   0.153\n",
       "188   0.000\n",
       "189   0.000\n",
       "190   0.057\n",
       "191   0.057\n",
       "192   0.842\n",
       "193   0.568\n",
       "194   0.000\n",
       "195   0.057\n",
       "196   0.568\n",
       "197   0.842\n",
       "198   0.000\n",
       "dtype: float64"
      ]
     },
     "execution_count": 47,
     "metadata": {},
     "output_type": "execute_result"
    }
   ],
   "source": [
    "predicssj2#.to_csv('s_311093416_p2.csv')"
   ]
  },
  {
   "cell_type": "code",
   "execution_count": 77,
   "metadata": {
    "collapsed": true
   },
   "outputs": [],
   "source": [
    "# Nombre del árbol gen arbolex.dot"
   ]
  }
 ],
 "metadata": {
  "anaconda-cloud": {},
  "kernelspec": {
   "display_name": "Python [conda root]",
   "language": "python",
   "name": "conda-root-py"
  },
  "language_info": {
   "codemirror_mode": {
    "name": "ipython",
    "version": 2
   },
   "file_extension": ".py",
   "mimetype": "text/x-python",
   "name": "python",
   "nbconvert_exporter": "python",
   "pygments_lexer": "ipython2",
   "version": "2.7.12"
  }
 },
 "nbformat": 4,
 "nbformat_minor": 1
}
